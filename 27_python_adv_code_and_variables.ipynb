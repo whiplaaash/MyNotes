{
 "cells": [
  {
   "cell_type": "markdown",
   "id": "66ff2ae2",
   "metadata": {},
   "source": [
    "# Lesson 27: Python Advanced - Code and variables"
   ]
  },
  {
   "cell_type": "code",
   "execution_count": 1,
   "id": "a4630ef9",
   "metadata": {},
   "outputs": [],
   "source": [
    "import numpy as np"
   ]
  },
  {
   "cell_type": "markdown",
   "id": "c682e403",
   "metadata": {},
   "source": [
    "## \"id()\" and operator \"is\""
   ]
  },
  {
   "cell_type": "code",
   "execution_count": 2,
   "id": "dd838006",
   "metadata": {},
   "outputs": [
    {
     "name": "stdout",
     "output_type": "stream",
     "text": [
      "Hello Hello\n",
      "<class 'str'>\n"
     ]
    }
   ],
   "source": [
    "myvar = \"Hello\"\n",
    "myvar2 = myvar\n",
    "print(myvar,myvar2)\n",
    "print(type(myvar))"
   ]
  },
  {
   "cell_type": "code",
   "execution_count": 3,
   "id": "23302b94",
   "metadata": {},
   "outputs": [
    {
     "name": "stdout",
     "output_type": "stream",
     "text": [
      "Is myvar the same as myvar 2? True\n",
      "Is myvar the same as myvar 2? True\n"
     ]
    }
   ],
   "source": [
    "# operator \"is\":\n",
    "print(\"Is myvar the same as myvar 2?\", myvar == myvar2)\n",
    "print(\"Is myvar the same as myvar 2?\", myvar is myvar2)"
   ]
  },
  {
   "cell_type": "code",
   "execution_count": 4,
   "id": "8a335f0e",
   "metadata": {},
   "outputs": [
    {
     "name": "stdout",
     "output_type": "stream",
     "text": [
      "139947931052976 139947931052976\n"
     ]
    }
   ],
   "source": [
    "# \"id()\" - returns the adress of the variable in computer memory\n",
    "\n",
    "print(id(myvar), id(myvar2))\n",
    "\n",
    "# Note that the address of these two variables is the same: they are both located in the same place."
   ]
  },
  {
   "cell_type": "code",
   "execution_count": 5,
   "id": "730671af",
   "metadata": {},
   "outputs": [],
   "source": [
    "# If I added a number to myvar2 then both variables will be different and they will have different id.\n",
    "\n",
    "# If I modify myvar2 so that it is again the same as myvar, the address in memory will be different.\n",
    "\n",
    "# A variable is only a name, more important is the id, which indicates the place in memory and identifies\n",
    "# the variable."
   ]
  },
  {
   "cell_type": "markdown",
   "id": "b9a41199",
   "metadata": {},
   "source": [
    "## Mutable and immutable variables"
   ]
  },
  {
   "cell_type": "code",
   "execution_count": 6,
   "id": "9de67155",
   "metadata": {},
   "outputs": [
    {
     "name": "stdout",
     "output_type": "stream",
     "text": [
      "Variable number: 10 93933513444960\n"
     ]
    }
   ],
   "source": [
    "# In Python you actually cannot change a variable:\n",
    "\n",
    "number = 10\n",
    "print(\"Variable number:\", number, id(number))"
   ]
  },
  {
   "cell_type": "code",
   "execution_count": 7,
   "id": "e7239823",
   "metadata": {},
   "outputs": [
    {
     "name": "stdout",
     "output_type": "stream",
     "text": [
      "Variable number: 12 93933513445024\n"
     ]
    }
   ],
   "source": [
    "number += 2\n",
    "print(\"Variable number:\", number, id(number))"
   ]
  },
  {
   "cell_type": "code",
   "execution_count": 8,
   "id": "583ebf6d",
   "metadata": {},
   "outputs": [],
   "source": [
    "# Note that the original varibale has a different id than the modified one. \n",
    "# So if the id is different the variable is also different, although the name is the same.\n",
    "# This variable is immutable (niezmienna). All types like int, string, float are immutable.\n",
    "# In other programming languages it is different."
   ]
  },
  {
   "cell_type": "code",
   "execution_count": 9,
   "id": "388fcc7b",
   "metadata": {},
   "outputs": [
    {
     "name": "stdout",
     "output_type": "stream",
     "text": [
      "Our list is: [1, 2, 3] 139948423443328\n",
      "Our list is: [1, 2, 3, 4] 139948423443328\n"
     ]
    }
   ],
   "source": [
    "list = [1,2,3]\n",
    "print(\"Our list is:\", list, id(list))\n",
    "list.append(4)\n",
    "print(\"Our list is:\", list, id(list))"
   ]
  },
  {
   "cell_type": "code",
   "execution_count": 10,
   "id": "8b9ea386",
   "metadata": {},
   "outputs": [],
   "source": [
    "# Note that if I change the list it is still the same variable! It has the same id. \n",
    "# This variable is mutable (zmienna)."
   ]
  },
  {
   "cell_type": "code",
   "execution_count": 11,
   "id": "967f3ba7",
   "metadata": {},
   "outputs": [
    {
     "name": "stdout",
     "output_type": "stream",
     "text": [
      "Our list is: [1, 2, 3, 4, 5] 139948423443328\n"
     ]
    }
   ],
   "source": [
    "list2 = list\n",
    "list2.append(5)\n",
    "print(\"Our list is:\", list2, id(list2))"
   ]
  },
  {
   "cell_type": "code",
   "execution_count": 12,
   "id": "7cb9a50c",
   "metadata": {},
   "outputs": [
    {
     "name": "stdout",
     "output_type": "stream",
     "text": [
      "Our list is: [1, 2, 3, 4, 5] 139948423443328\n",
      "Our list3 is: [1, 2, 3, 4, 5] 139948429700480\n"
     ]
    }
   ],
   "source": [
    "# Note that even if I create a new variable from the old one, and then change it, it has still the same id.\n",
    "# It is because both list and list2 indicate to the same place in memory.\n",
    "# I can make this object has a different id if I make a copy of it. Using \"copy()\" is one way to do it.\n",
    "# Another way is to use slicing operator [:], for example as: list3 = list[:] instead list3 = list.copy()\n",
    "\n",
    "list3 = list.copy()\n",
    "\n",
    "print(\"Our list is:\", list, id(list))\n",
    "print(\"Our list3 is:\", list3, id(list3))"
   ]
  },
  {
   "cell_type": "markdown",
   "id": "96f8aa29",
   "metadata": {},
   "source": [
    "## Boolean conversion"
   ]
  },
  {
   "cell_type": "code",
   "execution_count": 13,
   "id": "a1233437",
   "metadata": {},
   "outputs": [
    {
     "name": "stdout",
     "output_type": "stream",
     "text": [
      "Variable is: 2 <class 'int'>\n",
      "TRUE\n"
     ]
    }
   ],
   "source": [
    "isOK = 2\n",
    "print(\"Variable is:\", isOK, type(isOK))\n",
    "if isOK:\n",
    "    print(\"TRUE\")"
   ]
  },
  {
   "cell_type": "code",
   "execution_count": 14,
   "id": "1fa20c32",
   "metadata": {},
   "outputs": [],
   "source": [
    "# Note that whatever is declared as isOK (True, any string, a number different than 0, a filled list), \n",
    "# the printed text is TRUE. Only: empty text (\" \"), False, 0, an empty list, will be interpreted\n",
    "# as false and nothing will be printed."
   ]
  },
  {
   "cell_type": "markdown",
   "id": "8b4b7c0f",
   "metadata": {},
   "source": [
    "## Working on files and logic expressions"
   ]
  },
  {
   "cell_type": "code",
   "execution_count": 15,
   "id": "83440955",
   "metadata": {},
   "outputs": [
    {
     "name": "stdout",
     "output_type": "stream",
     "text": [
      "True\n"
     ]
    }
   ],
   "source": [
    "# To work with files we need to import a dedicated module:\n",
    "\n",
    "import os\n",
    "\n",
    "# I declare a path where a file can be. \"r\" here denotes that the backslash is strong.\n",
    "\n",
    "path = r'mydata.txt'\n",
    "\n",
    "#os.remove(path)\n",
    "\n",
    "#Now I check if the file exists:\n",
    "\n",
    "''' \n",
    "if os.path.isfile(path):\n",
    "    print(\"File %s exists.\" % path)\n",
    "else:\n",
    "    print(\"Creating a file %s.\" % path)\n",
    "    open(path, \"x\").close()\n",
    "    print(\"File %s created.\" % path)\n",
    "    \n",
    "'''\n",
    "    \n",
    "# open(...).close() means that an empty file is created and then closed. \"x\" inside indicates\n",
    "# that when such a file exists an error should be shown.\n",
    "\n",
    "# I can check if the file exists by asking:\n",
    "\n",
    "result = os.path.isfile(path) or open(path, \"x\").close()\n",
    "print(result)\n",
    "\n",
    "\n",
    "\n",
    "# I used an operator in the construction \"results\" and it should give my a boolean type answer.\n",
    "# If the file does not exist then the first part gives False and the second produces the file so it does not\n",
    "# have boolean type. This is why the answer is \"None\".\n",
    "\n",
    "# If the file is found then only the first part is checked (for or operator) and it is enough to return True.\n",
    "# Python works optimally so it goes from left to right, and when the result if found the remaining part \n",
    "# does not have to be checked.\n",
    "\n",
    "# Note that the last 2 lines of the code (with \"result\") is short but not intuitive way of writing \n",
    "# what was declared in the commented condition. Sometimes it can be useful.\n"
   ]
  },
  {
   "cell_type": "code",
   "execution_count": 16,
   "id": "8aa44ff5",
   "metadata": {},
   "outputs": [],
   "source": [
    "# Remark: commenting a block of code is possible by: ''' commented text '''"
   ]
  },
  {
   "cell_type": "markdown",
   "id": "1cafe5df",
   "metadata": {},
   "source": [
    "## \"pass\" and short version of \"if ... else...\""
   ]
  },
  {
   "cell_type": "code",
   "execution_count": 17,
   "id": "ccb4fe03",
   "metadata": {},
   "outputs": [
    {
     "name": "stdout",
     "output_type": "stream",
     "text": [
      "2\n"
     ]
    }
   ],
   "source": [
    "# Let us consider the following example:\n",
    "\n",
    "# A general construction of \"if\":\n",
    "\n",
    "dayType = 2\n",
    "\n",
    "weekend = 1\n",
    "workday = 2\n",
    "holiday = 3\n",
    "\n",
    "if dayType == 1:\n",
    "    print(dayType)\n",
    "elif dayType == 2:\n",
    "    print(dayType)\n",
    "else:\n",
    "    print(dayType)\n",
    "    \n",
    "# where we used \"print()\" so that the condition can do something.\n"
   ]
  },
  {
   "cell_type": "code",
   "execution_count": 18,
   "id": "627d3cb7",
   "metadata": {},
   "outputs": [],
   "source": [
    "# If we want to create the condition \"if\" which does not do anything, but has a proper skelton,\n",
    "# we can use \"pass\". \"pass\" is used to make the condition work, but it does not return anything.\n",
    "\n",
    "dayType = 3\n",
    "\n",
    "weekend = 1\n",
    "workday = 2\n",
    "holiday = 3\n",
    "\n",
    "if dayType == 1:\n",
    "    pass\n",
    "elif dayType == 2:\n",
    "    pass\n",
    "else:\n",
    "    pass"
   ]
  },
  {
   "cell_type": "code",
   "execution_count": 19,
   "id": "16fa5b42",
   "metadata": {},
   "outputs": [
    {
     "name": "stdout",
     "output_type": "stream",
     "text": [
      "?\n"
     ]
    }
   ],
   "source": [
    "# A similar construction can be made using simple one-line code:\n",
    "\n",
    "workDescription = \"weekend\" if dayType == 1 else \"?\"\n",
    "print(workDescription)"
   ]
  },
  {
   "cell_type": "code",
   "execution_count": 20,
   "id": "e0cf2fb8",
   "metadata": {},
   "outputs": [],
   "source": [
    "# This simple version of \"if\" can be useful for simple conditions with one instruction."
   ]
  },
  {
   "cell_type": "code",
   "execution_count": 21,
   "id": "c5edc036",
   "metadata": {},
   "outputs": [
    {
     "name": "stdout",
     "output_type": "stream",
     "text": [
      "holiday\n"
     ]
    }
   ],
   "source": [
    "# This construction can be also nested:\n",
    "\n",
    "workDescription = \"weekend\" if dayType == 1 else \"workday\" if dayType == 2 else \"holiday\"\n",
    "print(workDescription)"
   ]
  },
  {
   "cell_type": "code",
   "execution_count": 22,
   "id": "b69442c3",
   "metadata": {},
   "outputs": [
    {
     "name": "stdout",
     "output_type": "stream",
     "text": [
      "holiday\n"
     ]
    }
   ],
   "source": [
    "# Another, even simpler form:\n",
    "\n",
    "print(\"weekend\") if dayType == 1 else print(\"workday\") if dayType == 2 else print(\"holiday\")"
   ]
  },
  {
   "cell_type": "markdown",
   "id": "b564e894",
   "metadata": {},
   "source": [
    "## \"else\" in loops"
   ]
  },
  {
   "cell_type": "code",
   "execution_count": 23,
   "id": "295233bb",
   "metadata": {},
   "outputs": [
    {
     "name": "stdout",
     "output_type": "stream",
     "text": [
      "Adding instruction: say hello\n",
      "Adding instruction: say how are you\n",
      "Adding instruction: ask for money\n",
      "Adding instruction: say thank you\n",
      "Adding instruction: say bye\n",
      "The following instructions will be done by the robot: ['say hello', 'say how are you', 'ask for money', 'say thank you', 'say bye']\n"
     ]
    }
   ],
   "source": [
    "# Let us consider a list of instructions which will be checked and approved by a robot. Just normal loop:\n",
    "\n",
    "instructions = [\"say hello\", \"say how are you\", \"ask for money\", \"say thank you\", \"say bye\"]\n",
    "instructionsApproved = []\n",
    "\n",
    "for instr in instructions:\n",
    "    print(\"Adding instruction:\", instr)\n",
    "    instructionsApproved.append(instr)\n",
    "    \n",
    "print(\"The following instructions will be done by the robot:\", instructionsApproved)"
   ]
  },
  {
   "cell_type": "code",
   "execution_count": 24,
   "id": "43a06612",
   "metadata": {},
   "outputs": [
    {
     "name": "stdout",
     "output_type": "stream",
     "text": [
      "Adding instruction: say hello\n",
      "Adding instruction: say how are you\n",
      "Adding instruction: abort\n",
      "Aborting!!!\n",
      "The following instructions will be done by the robot: []\n"
     ]
    }
   ],
   "source": [
    "# Now, if the instruction \"abort\" is found in the list, then the robot should stop working and the list should\n",
    "# be cleared:\n",
    "\n",
    "instructions = [\"say hello\", \"say how are you\", \"abort\", \"ask for money\", \"say thank you\", \"say bye\"]\n",
    "instructionsApproved = []\n",
    "\n",
    "for instr in instructions:\n",
    "    print(\"Adding instruction:\", instr)\n",
    "    instructionsApproved.append(instr)\n",
    "    \n",
    "    if instr == \"abort\":\n",
    "        print(\"Aborting!!!\")\n",
    "        instructionsApproved.clear()\n",
    "        break\n",
    "    \n",
    "print(\"The following instructions will be done by the robot:\", instructionsApproved)"
   ]
  },
  {
   "cell_type": "code",
   "execution_count": 25,
   "id": "cbab00b3",
   "metadata": {},
   "outputs": [
    {
     "name": "stdout",
     "output_type": "stream",
     "text": [
      "Adding instruction: say hello\n",
      "Adding instruction: say how are you\n",
      "Adding instruction: ask for money\n",
      "Adding instruction: say thank you\n",
      "Adding instruction: say bye\n",
      "The following instructions will be done by the robot: ['say hello', 'say how are you', 'ask for money', 'say thank you', 'say bye']\n"
     ]
    }
   ],
   "source": [
    "# with \"else\":\n",
    "\n",
    "# Note that \"else\" is a part of the loop \"for\", and not \"if\", although it reacts to \"if\"!\n",
    "\n",
    "instructions = [\"say hello\", \"say how are you\", \"ask for money\", \"say thank you\", \"say bye\"]\n",
    "instructionsApproved = []\n",
    "\n",
    "for instr in instructions:\n",
    "    print(\"Adding instruction:\", instr)\n",
    "    instructionsApproved.append(instr)\n",
    "    \n",
    "    if instr == \"abort\":\n",
    "        print(\"Aborting!!!\")\n",
    "        instructionsApproved.clear()\n",
    "        break\n",
    "        \n",
    "else:\n",
    "    print(\"The following instructions will be done by the robot:\", instructionsApproved)"
   ]
  },
  {
   "cell_type": "code",
   "execution_count": 26,
   "id": "b291473a",
   "metadata": {},
   "outputs": [
    {
     "name": "stdout",
     "output_type": "stream",
     "text": [
      "------------------------------\n",
      "Adding instruction: say hello\n",
      "Adding instruction: say how are you\n",
      "Adding instruction: ask for money\n",
      "Adding instruction: say thank you\n",
      "Adding instruction: say bye\n",
      "The following instructions will be done by the robot: ['say hello', 'say how are you', 'ask for money', 'say thank you', 'say bye']\n"
     ]
    }
   ],
   "source": [
    "# Now let us see that the same works for \"while\":\n",
    "\n",
    "instructionsApproved.clear()\n",
    "print(\"-\"*30)\n",
    "\n",
    "i = 0\n",
    "\n",
    "while i < len(instructions):\n",
    "    print(\"Adding instruction:\", instructions[i])\n",
    "    instructionsApproved.append(instructions[i])\n",
    "    \n",
    "    if instructions[i] == \"abort\":\n",
    "        print(\"Aborting!!!\")\n",
    "        instructionsApproved.clear()\n",
    "        break\n",
    "        \n",
    "    i += 1\n",
    "        \n",
    "else:\n",
    "    print(\"The following instructions will be done by the robot:\", instructionsApproved)"
   ]
  },
  {
   "cell_type": "code",
   "execution_count": 27,
   "id": "68f3563a",
   "metadata": {},
   "outputs": [],
   "source": [
    "# Note that in above cases, \"else\" is performed only if \"break\" was not found before.\n",
    "# But the construction of \"for\" or \"while\" with \"else\" looks weird."
   ]
  },
  {
   "cell_type": "markdown",
   "id": "a3cabd63",
   "metadata": {},
   "source": [
    "## Range, list, slice"
   ]
  },
  {
   "cell_type": "code",
   "execution_count": 28,
   "id": "514b20ce",
   "metadata": {},
   "outputs": [
    {
     "name": "stdout",
     "output_type": "stream",
     "text": [
      "1\n",
      "3\n",
      "5\n",
      "7\n",
      "9\n"
     ]
    }
   ],
   "source": [
    "# Range is frequently used in the loop \"for\":\n",
    "\n",
    "# First parameter of range: starting point, second parameter: last point, third parameter: step:\n",
    "\n",
    "for i in range(1,11,2):\n",
    "    print(i)"
   ]
  },
  {
   "cell_type": "code",
   "execution_count": 29,
   "id": "859e475a",
   "metadata": {},
   "outputs": [
    {
     "name": "stdout",
     "output_type": "stream",
     "text": [
      "10\n",
      "9\n",
      "8\n",
      "7\n",
      "6\n",
      "5\n",
      "4\n",
      "3\n",
      "2\n",
      "1\n"
     ]
    }
   ],
   "source": [
    "for i in range(10,0,-1):\n",
    "    print(i)"
   ]
  },
  {
   "cell_type": "code",
   "execution_count": 31,
   "id": "ac57a883",
   "metadata": {},
   "outputs": [
    {
     "name": "stdout",
     "output_type": "stream",
     "text": [
      "[0, 1, 2, 3, 4, 5, 6, 7, 8, 9]\n"
     ]
    }
   ],
   "source": [
    "# Now I want to make a list using \"range\":\n",
    "# I need to conver range into a list type:\n",
    "\n",
    "del list\n",
    "\n",
    "# I had to remove a list from global environment to make it work (list was defined before).\n",
    "# List had priority over list(), which is a function, and there was a conflict.\n",
    "\n",
    "a = range(10)\n",
    "b = list(a)\n",
    "print(b)"
   ]
  },
  {
   "cell_type": "code",
   "execution_count": 48,
   "id": "2164cab0",
   "metadata": {},
   "outputs": [
    {
     "name": "stdout",
     "output_type": "stream",
     "text": [
      "[0, 1, 2, 3, 4, 5, 6, 7]\n"
     ]
    }
   ],
   "source": [
    "# Slicing:\n",
    "# [:] - is a slicing operator\n",
    "\n",
    "print(b[0:8])"
   ]
  },
  {
   "cell_type": "code",
   "execution_count": 49,
   "id": "12cdb3fe",
   "metadata": {},
   "outputs": [
    {
     "name": "stdout",
     "output_type": "stream",
     "text": [
      "[3, 4, 5, 6, 7, 8]\n"
     ]
    }
   ],
   "source": [
    "print(b[3:-1])"
   ]
  },
  {
   "cell_type": "code",
   "execution_count": 50,
   "id": "e1c76cea",
   "metadata": {},
   "outputs": [
    {
     "name": "stdout",
     "output_type": "stream",
     "text": [
      "[0, 2, 4, 6]\n"
     ]
    }
   ],
   "source": [
    "print(b[0:8:2])"
   ]
  },
  {
   "cell_type": "code",
   "execution_count": 55,
   "id": "243122cb",
   "metadata": {},
   "outputs": [
    {
     "name": "stdout",
     "output_type": "stream",
     "text": [
      "[9, 8, 7, 6, 5, 4, 3, 2, 1]\n"
     ]
    }
   ],
   "source": [
    "print(b[-1:0:-1])"
   ]
  },
  {
   "cell_type": "code",
   "execution_count": 56,
   "id": "ca879b81",
   "metadata": {},
   "outputs": [
    {
     "name": "stdout",
     "output_type": "stream",
     "text": [
      "[8, 7, 6, 5, 4, 3, 2, 1, 0]\n"
     ]
    }
   ],
   "source": [
    "print(b[-2::-1])"
   ]
  },
  {
   "cell_type": "markdown",
   "id": "48a52f9a",
   "metadata": {},
   "source": [
    "## enumerate & zip"
   ]
  },
  {
   "cell_type": "code",
   "execution_count": 58,
   "id": "0a3b9b7f",
   "metadata": {},
   "outputs": [
    {
     "name": "stdout",
     "output_type": "stream",
     "text": [
      "[19, 20, 21, 22, 21, 20]\n",
      "21\n"
     ]
    }
   ],
   "source": [
    "# Let us write a list of number of workdays in a few months:\n",
    "\n",
    "workdays = [19,20,21,22,21,20]\n",
    "print(workdays)\n",
    "print(workdays[2])"
   ]
  },
  {
   "cell_type": "code",
   "execution_count": 60,
   "id": "2bcd8183",
   "metadata": {},
   "outputs": [
    {
     "name": "stdout",
     "output_type": "stream",
     "text": [
      "[(0, 19), (1, 20), (2, 21), (3, 22), (4, 21), (5, 20)]\n"
     ]
    }
   ],
   "source": [
    "# To enumerate the elements of the list:\n",
    "\n",
    "enumeratedDays = list(enumerate(workdays))\n",
    "print(enumeratedDays)"
   ]
  },
  {
   "cell_type": "code",
   "execution_count": 61,
   "id": "698757c7",
   "metadata": {},
   "outputs": [
    {
     "name": "stdout",
     "output_type": "stream",
     "text": [
      "Position: 0 Value: 19\n",
      "Position: 1 Value: 20\n",
      "Position: 2 Value: 21\n",
      "Position: 3 Value: 22\n",
      "Position: 4 Value: 21\n",
      "Position: 5 Value: 20\n"
     ]
    }
   ],
   "source": [
    "# Such an enumerated list is useful to be used in a loop \"for\", which can be iterated over 2 values:\n",
    "\n",
    "for pos, value in enumeratedDays:\n",
    "    print(\"Position:\", pos, \"Value:\", value)"
   ]
  },
  {
   "cell_type": "code",
   "execution_count": 63,
   "id": "512ace58",
   "metadata": {},
   "outputs": [
    {
     "name": "stdout",
     "output_type": "stream",
     "text": [
      "[('I', 19), ('II', 20), ('III', 21), ('IV', 22), ('V', 21), ('VI', 20)]\n"
     ]
    }
   ],
   "source": [
    "# \"zip\" is used to merge 2 lists into 1 list, but it has to converted to list to work properly:\n",
    "\n",
    "months = [\"I\", \"II\", \"III\", \"IV\", \"V\", \"VI\"]\n",
    "\n",
    "monthsDays = list(zip(months,workdays))\n",
    "print(monthsDays)"
   ]
  },
  {
   "cell_type": "code",
   "execution_count": 70,
   "id": "54d32f5d",
   "metadata": {},
   "outputs": [
    {
     "name": "stdout",
     "output_type": "stream",
     "text": [
      "month: I, number of days: 19\n",
      "month: II, number of days: 20\n",
      "month: III, number of days: 21\n",
      "month: IV, number of days: 22\n",
      "month: V, number of days: 21\n",
      "month: VI, number of days: 20\n"
     ]
    }
   ],
   "source": [
    "# But this list can be printed in a nicer way:\n",
    "\n",
    "for m, d in monthsDays:\n",
    "    print(\"month:\", m + \",\", \"number of days:\", d)"
   ]
  },
  {
   "cell_type": "code",
   "execution_count": 73,
   "id": "c6869aee",
   "metadata": {},
   "outputs": [
    {
     "name": "stdout",
     "output_type": "stream",
     "text": [
      "position: 0, month: I, number of days: 19\n",
      "position: 1, month: II, number of days: 20\n",
      "position: 2, month: III, number of days: 21\n",
      "position: 3, month: IV, number of days: 22\n",
      "position: 4, month: V, number of days: 21\n",
      "position: 5, month: VI, number of days: 20\n"
     ]
    }
   ],
   "source": [
    "# And we can also add positions to this loop:\n",
    "\n",
    "for pos, (m, d) in enumerate(monthsDays):\n",
    "    print(\"position:\", str(pos) + \",\", \"month:\", m + \",\", \"number of days:\", d)"
   ]
  },
  {
   "cell_type": "code",
   "execution_count": 79,
   "id": "a4dff3d4",
   "metadata": {},
   "outputs": [
    {
     "name": "stdout",
     "output_type": "stream",
     "text": [
      "1. The leader of Brexit started 2016-06-23 is Theresa May.\n",
      "2. The leader of Nord Stream started 2016-08-29 is Wladimir Putin.\n"
     ]
    }
   ],
   "source": [
    "# Another example:\n",
    "\n",
    "project = [\"Brexit\", \"Nord Stream\"]\n",
    "leader = [\"Theresa May\", \"Wladimir Putin\"]\n",
    "date = [\"2016-06-23\", \"2016-08-29\"]\n",
    "\n",
    "for n, (p,l,d) in enumerate(zip(project, leader, date)):\n",
    "    print(\"{}. The leader of {} started {} is {}.\".format(n+1,p,d,l))"
   ]
  },
  {
   "cell_type": "markdown",
   "id": "5a5e2ebc",
   "metadata": {},
   "source": [
    "## Iteration"
   ]
  },
  {
   "cell_type": "code",
   "execution_count": 80,
   "id": "bcd0e418",
   "metadata": {},
   "outputs": [
    {
     "name": "stdout",
     "output_type": "stream",
     "text": [
      "{'I': 19, 'II': 20, 'III': 21, 'IV': 22, 'V': 21, 'VI': 20}\n"
     ]
    }
   ],
   "source": [
    "# We use the previous case with number of days in months, but we need to work with dict:\n",
    "\n",
    "workingDays = dict(zip(months, workdays))\n",
    "print(workingDays)"
   ]
  },
  {
   "cell_type": "code",
   "execution_count": 82,
   "id": "0571e9c7",
   "metadata": {},
   "outputs": [
    {
     "name": "stdout",
     "output_type": "stream",
     "text": [
      "month: I days: 19\n",
      "month: II days: 20\n",
      "month: III days: 21\n",
      "month: IV days: 22\n",
      "month: V days: 21\n",
      "month: VI days: 20\n"
     ]
    }
   ],
   "source": [
    "# Because it is a dictionary we cannot use analogous instructions as above for a list, we use\n",
    "\n",
    "for key in workingDays:\n",
    "    print(\"month:\", key, \"days:\", workingDays[key])"
   ]
  },
  {
   "cell_type": "code",
   "execution_count": 84,
   "id": "ec711d4e",
   "metadata": {},
   "outputs": [
    {
     "name": "stdout",
     "output_type": "stream",
     "text": [
      "days: I\n",
      "days: II\n",
      "days: III\n",
      "days: IV\n",
      "days: V\n",
      "days: VI\n"
     ]
    }
   ],
   "source": [
    "# To focus on only values or only keys:\n",
    "\n",
    "for value in workingDays.values():\n",
    "    print(\"days:\", value)\n"
   ]
  },
  {
   "cell_type": "code",
   "execution_count": 86,
   "id": "0e0f17db",
   "metadata": {},
   "outputs": [
    {
     "name": "stdout",
     "output_type": "stream",
     "text": [
      "month: I\n",
      "month: II\n",
      "month: III\n",
      "month: IV\n",
      "month: V\n",
      "month: VI\n"
     ]
    }
   ],
   "source": [
    "for key in workingDays.keys():\n",
    "    print(\"month:\", key)"
   ]
  },
  {
   "cell_type": "code",
   "execution_count": null,
   "id": "ef8c2667",
   "metadata": {},
   "outputs": [],
   "source": []
  }
 ],
 "metadata": {
  "kernelspec": {
   "display_name": "Python 3 (ipykernel)",
   "language": "python",
   "name": "python3"
  },
  "language_info": {
   "codemirror_mode": {
    "name": "ipython",
    "version": 3
   },
   "file_extension": ".py",
   "mimetype": "text/x-python",
   "name": "python",
   "nbconvert_exporter": "python",
   "pygments_lexer": "ipython3",
   "version": "3.8.5"
  }
 },
 "nbformat": 4,
 "nbformat_minor": 5
}
