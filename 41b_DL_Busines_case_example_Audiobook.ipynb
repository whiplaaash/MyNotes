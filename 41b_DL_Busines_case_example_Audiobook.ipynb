{
 "cells": [
  {
   "cell_type": "markdown",
   "id": "9ef3b092",
   "metadata": {},
   "source": [
    "# Lesson 41b: Deep Learning - Busines Case Example - Audiobook"
   ]
  },
  {
   "cell_type": "markdown",
   "id": "27d85822",
   "metadata": {},
   "source": [
    "## Creating the model"
   ]
  },
  {
   "cell_type": "markdown",
   "id": "cbb935a2",
   "metadata": {},
   "source": [
    "### Import libraries"
   ]
  },
  {
   "cell_type": "code",
   "execution_count": 1,
   "id": "31cf2b35",
   "metadata": {},
   "outputs": [],
   "source": [
    "import numpy as np\n",
    "import tensorflow as tf"
   ]
  },
  {
   "cell_type": "markdown",
   "id": "5e88ae5a",
   "metadata": {},
   "source": [
    "### Data"
   ]
  },
  {
   "cell_type": "code",
   "execution_count": 2,
   "id": "3cf88bbb",
   "metadata": {},
   "outputs": [],
   "source": [
    "npz = np.load(\"Audiobooks_data_train.npz\")\n",
    "\n",
    "train_inputs = npz[\"inputs\"].astype(np.float64)\n",
    "train_targets = npz[\"targets\"].astype(np.int32)\n",
    "\n",
    "npz = np.load(\"Audiobooks_data_validation.npz\")\n",
    "\n",
    "validation_inputs = npz[\"inputs\"].astype(np.float64)\n",
    "validation_targets = npz[\"targets\"].astype(np.int32)\n",
    "\n",
    "npz = np.load(\"Audiobooks_data_test.npz\")\n",
    "\n",
    "test_inputs = npz[\"inputs\"].astype(np.float64)\n",
    "test_targets = npz[\"targets\"].astype(np.int32)"
   ]
  },
  {
   "cell_type": "markdown",
   "id": "c804ebfe",
   "metadata": {},
   "source": [
    "### Outlining the model"
   ]
  },
  {
   "cell_type": "code",
   "execution_count": 3,
   "id": "f7bf4389",
   "metadata": {},
   "outputs": [],
   "source": [
    "input_size = 10   # Because there are 10 columns (independent varibales)\n",
    "output_size = 2   # Because there are two classes (0 and 1)\n",
    "hidden_layer_size = 50  # This is our choice.\n",
    "\n",
    "model = tf.keras.Sequential([\n",
    "    tf.keras.layers.Dense(hidden_layer_size, activation = \"relu\"),\n",
    "    tf.keras.layers.Dense(hidden_layer_size, activation = \"relu\"),\n",
    "    tf.keras.layers.Dense(output_size, activation = \"softmax\")\n",
    "])"
   ]
  },
  {
   "cell_type": "markdown",
   "id": "e74eef35",
   "metadata": {},
   "source": [
    "### Optimizer and loss function"
   ]
  },
  {
   "cell_type": "code",
   "execution_count": 4,
   "id": "3ecd3963",
   "metadata": {},
   "outputs": [],
   "source": [
    "custom_optimizer = \"adam\"\n",
    "\n",
    "model.compile(optimizer = custom_optimizer, loss = \"sparse_categorical_crossentropy\", metrics = [\"accuracy\"])\n",
    "\n",
    "# Here we do not have an iterable object, but we will deal with simple arrays. We emply batching when \n",
    "# fitting the model.\n",
    "\n",
    "BATCH_SIZE = 100\n",
    "\n",
    "MAX_EPOCHS = 100\n",
    "\n",
    "EARLY_STOPPING = tf.keras.callbacks.EarlyStopping(monitor = \"val_loss\", min_delta = 0, patience = 1)\n",
    "\n",
    "# This method monitors the validation loss and stops training process the first time when the validation loss \n",
    "# is increasing. When patience=2 is added we allow for 2 increases. (But actually it does not work ?????)"
   ]
  },
  {
   "cell_type": "markdown",
   "id": "f8d5dc89",
   "metadata": {},
   "source": [
    "### Training the model"
   ]
  },
  {
   "cell_type": "code",
   "execution_count": 5,
   "id": "419d67bd",
   "metadata": {},
   "outputs": [
    {
     "name": "stdout",
     "output_type": "stream",
     "text": [
      "Epoch 1/100\n",
      "36/36 - 1s - loss: 0.5822 - accuracy: 0.6815 - val_loss: 0.4852 - val_accuracy: 0.7808 - 971ms/epoch - 27ms/step\n",
      "Epoch 2/100\n",
      "36/36 - 0s - loss: 0.4568 - accuracy: 0.7673 - val_loss: 0.4085 - val_accuracy: 0.8166 - 242ms/epoch - 7ms/step\n",
      "Epoch 3/100\n",
      "36/36 - 0s - loss: 0.4105 - accuracy: 0.7849 - val_loss: 0.3825 - val_accuracy: 0.8054 - 301ms/epoch - 8ms/step\n",
      "Epoch 4/100\n",
      "36/36 - 0s - loss: 0.3869 - accuracy: 0.7949 - val_loss: 0.3698 - val_accuracy: 0.8277 - 253ms/epoch - 7ms/step\n",
      "Epoch 5/100\n",
      "36/36 - 0s - loss: 0.3746 - accuracy: 0.7921 - val_loss: 0.3587 - val_accuracy: 0.8233 - 204ms/epoch - 6ms/step\n",
      "Epoch 6/100\n",
      "36/36 - 0s - loss: 0.3648 - accuracy: 0.8058 - val_loss: 0.3519 - val_accuracy: 0.8345 - 274ms/epoch - 8ms/step\n",
      "Epoch 7/100\n",
      "36/36 - 0s - loss: 0.3602 - accuracy: 0.8027 - val_loss: 0.3452 - val_accuracy: 0.8345 - 238ms/epoch - 7ms/step\n",
      "Epoch 8/100\n",
      "36/36 - 0s - loss: 0.3523 - accuracy: 0.8134 - val_loss: 0.3414 - val_accuracy: 0.8277 - 318ms/epoch - 9ms/step\n",
      "Epoch 9/100\n",
      "36/36 - 0s - loss: 0.3498 - accuracy: 0.8117 - val_loss: 0.3432 - val_accuracy: 0.8210 - 267ms/epoch - 7ms/step\n"
     ]
    },
    {
     "data": {
      "text/plain": [
       "<keras.callbacks.History at 0x7fab846797d0>"
      ]
     },
     "execution_count": 5,
     "metadata": {},
     "output_type": "execute_result"
    }
   ],
   "source": [
    "model.fit(train_inputs, \n",
    "          train_targets,\n",
    "          batch_size = BATCH_SIZE,\n",
    "          epochs = MAX_EPOCHS, \n",
    "          callbacks = [EARLY_STOPPING],\n",
    "          validation_data = (validation_inputs, validation_targets), \n",
    "          verbose = 2)\n",
    "\n",
    "# We set max_epochs=100, but it is a lot! and we saw our model gets the same accuracy after 100 epochs \n",
    "# and after 7. Therefore we needed to set an early stopping mechanism.\n",
    "\n",
    "# Without early_stopping callback the model was overfitted and accuracy was higher, around 85% or even 87%."
   ]
  },
  {
   "cell_type": "markdown",
   "id": "1f833e5d",
   "metadata": {},
   "source": [
    "### Test the model"
   ]
  },
  {
   "cell_type": "code",
   "execution_count": 6,
   "id": "65a356dc",
   "metadata": {},
   "outputs": [
    {
     "name": "stdout",
     "output_type": "stream",
     "text": [
      "14/14 [==============================] - 0s 8ms/step - loss: 0.3477 - accuracy: 0.8237\n"
     ]
    }
   ],
   "source": [
    "test_loss, test_accuracy = model.evaluate(test_inputs, test_targets)"
   ]
  },
  {
   "cell_type": "code",
   "execution_count": null,
   "id": "b5db9a2e",
   "metadata": {},
   "outputs": [],
   "source": []
  }
 ],
 "metadata": {
  "kernelspec": {
   "display_name": "Python 3 (ipykernel)",
   "language": "python",
   "name": "python3"
  },
  "language_info": {
   "codemirror_mode": {
    "name": "ipython",
    "version": 3
   },
   "file_extension": ".py",
   "mimetype": "text/x-python",
   "name": "python",
   "nbconvert_exporter": "python",
   "pygments_lexer": "ipython3",
   "version": "3.9.13"
  }
 },
 "nbformat": 4,
 "nbformat_minor": 5
}
