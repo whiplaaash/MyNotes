{
 "cells": [
  {
   "cell_type": "markdown",
   "id": "dc02895d-53d6-41e5-b38b-b28e4091882c",
   "metadata": {},
   "source": [
    "## Make connection to SQLite3 database"
   ]
  },
  {
   "cell_type": "code",
   "execution_count": 1,
   "id": "8dd2d7dd-e66b-4512-9f7d-ec897365f5e1",
   "metadata": {},
   "outputs": [],
   "source": [
    "import sqlite3\n",
    "from sqlite3 import Error\n",
    "\n",
    "def create_connection(path):\n",
    "    connection = None\n",
    "    try:\n",
    "        connection = sqlite3.connect(path)\n",
    "        print(\"Connection to SQLite DB successful\")\n",
    "    except Error as e:\n",
    "        print(f\"The error '{e}' occurred\")\n",
    "\n",
    "    return connection"
   ]
  },
  {
   "cell_type": "code",
   "execution_count": 2,
   "id": "08bd9cf5-ef1c-484d-ad7f-f42382b2c14f",
   "metadata": {},
   "outputs": [
    {
     "name": "stdout",
     "output_type": "stream",
     "text": [
      "Connection to SQLite DB successful\n"
     ]
    }
   ],
   "source": [
    "connection = create_connection(\"db_basic.sqlite\")"
   ]
  },
  {
   "cell_type": "markdown",
   "id": "5ddff39e-638e-4d6f-9996-a7ba362e07fa",
   "metadata": {},
   "source": [
    "## Create tables in the database"
   ]
  },
  {
   "cell_type": "code",
   "execution_count": 3,
   "id": "b6b11b46-1584-4bd1-9210-bd607b31d1e3",
   "metadata": {},
   "outputs": [],
   "source": [
    "def execute_query(connection, query):\n",
    "    cursor = connection.cursor()\n",
    "    try:\n",
    "        cursor.execute(query)\n",
    "        connection.commit()\n",
    "        print(\"Query executed successfully\")\n",
    "    except Error as e:\n",
    "        print(f\"The error '{e}' occurred\")"
   ]
  },
  {
   "cell_type": "code",
   "execution_count": 4,
   "id": "63ac547c-011c-4c8f-8be0-7fd1b878d878",
   "metadata": {},
   "outputs": [],
   "source": [
    "create_users_table = \"\"\"\n",
    "CREATE TABLE IF NOT EXISTS users (\n",
    "  id INTEGER PRIMARY KEY AUTOINCREMENT,\n",
    "  name TEXT NOT NULL,\n",
    "  age INTEGER,\n",
    "  gender TEXT,\n",
    "  nationality TEXT\n",
    ");\n",
    "\"\"\""
   ]
  },
  {
   "cell_type": "code",
   "execution_count": 5,
   "id": "322ae81d-c7cf-453a-903a-acc68bf95c88",
   "metadata": {},
   "outputs": [
    {
     "name": "stdout",
     "output_type": "stream",
     "text": [
      "Query executed successfully\n"
     ]
    }
   ],
   "source": [
    "execute_query(connection, create_users_table)  "
   ]
  },
  {
   "cell_type": "code",
   "execution_count": 6,
   "id": "224085f1-400a-4b26-9669-732d8297a640",
   "metadata": {},
   "outputs": [],
   "source": [
    "create_posts_table = \"\"\"\n",
    "CREATE TABLE IF NOT EXISTS posts(\n",
    "  id INTEGER PRIMARY KEY AUTOINCREMENT, \n",
    "  title TEXT NOT NULL, \n",
    "  description TEXT NOT NULL, \n",
    "  user_id INTEGER NOT NULL, \n",
    "  FOREIGN KEY (user_id) REFERENCES users (id)\n",
    ");\n",
    "\"\"\""
   ]
  },
  {
   "cell_type": "code",
   "execution_count": 7,
   "id": "2e0dbc75-ed6b-4449-8a68-754ab1b135a3",
   "metadata": {},
   "outputs": [
    {
     "name": "stdout",
     "output_type": "stream",
     "text": [
      "Query executed successfully\n"
     ]
    }
   ],
   "source": [
    "execute_query(connection, create_posts_table)"
   ]
  },
  {
   "cell_type": "code",
   "execution_count": 8,
   "id": "4c8cb973-157c-43ef-806a-9d248836711f",
   "metadata": {},
   "outputs": [],
   "source": [
    "create_comments_table = \"\"\"\n",
    "CREATE TABLE IF NOT EXISTS comments (\n",
    "  id INTEGER PRIMARY KEY AUTOINCREMENT, \n",
    "  text TEXT NOT NULL, \n",
    "  user_id INTEGER NOT NULL, \n",
    "  post_id INTEGER NOT NULL, \n",
    "  FOREIGN KEY (user_id) REFERENCES users (id) FOREIGN KEY (post_id) REFERENCES posts (id)\n",
    ");\n",
    "\"\"\""
   ]
  },
  {
   "cell_type": "code",
   "execution_count": 9,
   "id": "16b6f04e-8b6b-4629-92a5-f890cbbddcdf",
   "metadata": {},
   "outputs": [
    {
     "name": "stdout",
     "output_type": "stream",
     "text": [
      "Query executed successfully\n"
     ]
    }
   ],
   "source": [
    "execute_query(connection, create_comments_table)  \n"
   ]
  },
  {
   "cell_type": "code",
   "execution_count": 10,
   "id": "a36e80e6-455c-431d-89a3-e810b4222649",
   "metadata": {},
   "outputs": [],
   "source": [
    "create_likes_table = \"\"\"\n",
    "CREATE TABLE IF NOT EXISTS likes (\n",
    "  id INTEGER PRIMARY KEY AUTOINCREMENT, \n",
    "  user_id INTEGER NOT NULL, \n",
    "  post_id integer NOT NULL, \n",
    "  FOREIGN KEY (user_id) REFERENCES users (id) FOREIGN KEY (post_id) REFERENCES posts (id)\n",
    ");\n",
    "\"\"\""
   ]
  },
  {
   "cell_type": "code",
   "execution_count": 11,
   "id": "36c05e28-cffa-4319-960e-a10df804da21",
   "metadata": {},
   "outputs": [
    {
     "name": "stdout",
     "output_type": "stream",
     "text": [
      "Query executed successfully\n"
     ]
    }
   ],
   "source": [
    "execute_query(connection, create_likes_table)            "
   ]
  },
  {
   "cell_type": "code",
   "execution_count": 12,
   "id": "b0e0f6ca-9727-47c6-b418-6919f033c57d",
   "metadata": {},
   "outputs": [
    {
     "name": "stdout",
     "output_type": "stream",
     "text": [
      "Query executed successfully\n"
     ]
    }
   ],
   "source": [
    "create_users = \"\"\"\n",
    "INSERT INTO\n",
    "  users (name, age, gender, nationality)\n",
    "VALUES\n",
    "  ('James', 25, 'male', 'USA'),\n",
    "  ('Leila', 32, 'female', 'France'),\n",
    "  ('Brigitte', 35, 'female', 'England'),\n",
    "  ('Mike', 40, 'male', 'Denmark'),\n",
    "  ('Elizabeth', 21, 'female', 'Canada');\n",
    "\"\"\"\n",
    "\n",
    "execute_query(connection, create_users) "
   ]
  },
  {
   "cell_type": "code",
   "execution_count": 13,
   "id": "688d67b2-123a-4e65-9816-01011e2891e5",
   "metadata": {},
   "outputs": [
    {
     "name": "stdout",
     "output_type": "stream",
     "text": [
      "Query executed successfully\n"
     ]
    }
   ],
   "source": [
    "create_posts = \"\"\"\n",
    "INSERT INTO\n",
    "  posts (title, description, user_id)\n",
    "VALUES\n",
    "  (\"Happy\", \"I am feeling very happy today\", 1),\n",
    "  (\"Hot Weather\", \"The weather is very hot today\", 2),\n",
    "  (\"Help\", \"I need some help with my work\", 2),\n",
    "  (\"Great News\", \"I am getting married\", 1),\n",
    "  (\"Interesting Game\", \"It was a fantastic game of tennis\", 5),\n",
    "  (\"Party\", \"Anyone up for a late-night party today?\", 3);\n",
    "\"\"\"\n",
    "\n",
    "execute_query(connection, create_posts) "
   ]
  },
  {
   "cell_type": "code",
   "execution_count": 14,
   "id": "e657251b-0c57-472d-bb1d-8da4f45b1257",
   "metadata": {},
   "outputs": [
    {
     "name": "stdout",
     "output_type": "stream",
     "text": [
      "Query executed successfully\n"
     ]
    }
   ],
   "source": [
    "create_comments = \"\"\"\n",
    "INSERT INTO\n",
    "  comments (text, user_id, post_id)\n",
    "VALUES\n",
    "  ('Count me in', 1, 6),\n",
    "  ('What sort of help?', 5, 3),\n",
    "  ('Congrats buddy', 2, 4),\n",
    "  ('I was rooting for Nadal though', 4, 5),\n",
    "  ('Help with your thesis?', 2, 3),\n",
    "  ('Many congratulations', 5, 4);\n",
    "\"\"\"\n",
    "\n",
    "execute_query(connection, create_comments)"
   ]
  },
  {
   "cell_type": "code",
   "execution_count": 15,
   "id": "70660b38-5f43-454f-b5c1-672b099dff93",
   "metadata": {},
   "outputs": [
    {
     "name": "stdout",
     "output_type": "stream",
     "text": [
      "Query executed successfully\n"
     ]
    }
   ],
   "source": [
    "create_likes = \"\"\"\n",
    "INSERT INTO\n",
    "  likes (user_id, post_id)\n",
    "VALUES\n",
    "  (1, 6),\n",
    "  (2, 3),\n",
    "  (1, 5),\n",
    "  (5, 4),\n",
    "  (2, 4),\n",
    "  (4, 2),\n",
    "  (3, 6);\n",
    "\"\"\"\n",
    "\n",
    "execute_query(connection, create_likes)  "
   ]
  },
  {
   "cell_type": "markdown",
   "id": "56a33d88-b1ea-4069-a172-bbfc5be110c1",
   "metadata": {},
   "source": [
    "## Select information from tables"
   ]
  },
  {
   "cell_type": "code",
   "execution_count": 16,
   "id": "db38a337-1089-4d43-ab94-74df7c057f31",
   "metadata": {},
   "outputs": [],
   "source": [
    "def execute_read_query(connection, query):\n",
    "    cursor = connection.cursor()\n",
    "    result = None\n",
    "    try:\n",
    "        cursor.execute(query)\n",
    "        result = cursor.fetchall()\n",
    "        return result\n",
    "    except Error as e:\n",
    "        print(f\"The error '{e}' occurred\")"
   ]
  },
  {
   "cell_type": "code",
   "execution_count": 17,
   "id": "051bdfe3-e9f0-45dd-8490-ea761e530914",
   "metadata": {},
   "outputs": [
    {
     "name": "stdout",
     "output_type": "stream",
     "text": [
      "(1, 'James', 25, 'male', 'USA')\n",
      "(2, 'Leila', 32, 'female', 'France')\n",
      "(3, 'Brigitte', 35, 'female', 'England')\n",
      "(4, 'Mike', 40, 'male', 'Denmark')\n",
      "(5, 'Elizabeth', 21, 'female', 'Canada')\n"
     ]
    }
   ],
   "source": [
    "select_users = \"SELECT * from users\"\n",
    "users = execute_read_query(connection, select_users)\n",
    "\n",
    "for user in users:\n",
    "    print(user)"
   ]
  },
  {
   "cell_type": "code",
   "execution_count": 18,
   "id": "45b76670-ba66-45ef-a058-d10dcc325d22",
   "metadata": {},
   "outputs": [
    {
     "name": "stdout",
     "output_type": "stream",
     "text": [
      "(1, 'Happy', 'I am feeling very happy today', 1)\n",
      "(2, 'Hot Weather', 'The weather is very hot today', 2)\n",
      "(3, 'Help', 'I need some help with my work', 2)\n",
      "(4, 'Great News', 'I am getting married', 1)\n",
      "(5, 'Interesting Game', 'It was a fantastic game of tennis', 5)\n",
      "(6, 'Party', 'Anyone up for a late-night party today?', 3)\n"
     ]
    }
   ],
   "source": [
    "select_posts = \"SELECT * FROM posts\"\n",
    "posts = execute_read_query(connection, select_posts)\n",
    "\n",
    "for post in posts:\n",
    "    print(post)\n"
   ]
  },
  {
   "cell_type": "code",
   "execution_count": 19,
   "id": "a9c24a49-fe9e-4255-bffa-f0aa7b2846b6",
   "metadata": {},
   "outputs": [
    {
     "name": "stdout",
     "output_type": "stream",
     "text": [
      "(1, 'James', 'I am feeling very happy today')\n",
      "(2, 'Leila', 'The weather is very hot today')\n",
      "(2, 'Leila', 'I need some help with my work')\n",
      "(1, 'James', 'I am getting married')\n",
      "(5, 'Elizabeth', 'It was a fantastic game of tennis')\n",
      "(3, 'Brigitte', 'Anyone up for a late-night party today?')\n"
     ]
    }
   ],
   "source": [
    "select_users_posts = \"\"\"\n",
    "SELECT\n",
    "  users.id,\n",
    "  users.name,\n",
    "  posts.description\n",
    "FROM\n",
    "  posts\n",
    "  INNER JOIN users ON users.id = posts.user_id\n",
    "\"\"\"\n",
    "\n",
    "users_posts = execute_read_query(connection, select_users_posts)\n",
    "\n",
    "for users_post in users_posts:\n",
    "    print(users_post)"
   ]
  },
  {
   "cell_type": "code",
   "execution_count": 20,
   "id": "80084f86-c64d-40fc-b348-e8e3e7d63b1a",
   "metadata": {},
   "outputs": [
    {
     "name": "stdout",
     "output_type": "stream",
     "text": [
      "('Anyone up for a late-night party today?', 'Count me in', 'James')\n",
      "('I need some help with my work', 'What sort of help?', 'Elizabeth')\n",
      "('I am getting married', 'Congrats buddy', 'Leila')\n",
      "('It was a fantastic game of tennis', 'I was rooting for Nadal though', 'Mike')\n",
      "('I need some help with my work', 'Help with your thesis?', 'Leila')\n",
      "('I am getting married', 'Many congratulations', 'Elizabeth')\n"
     ]
    }
   ],
   "source": [
    "select_posts_comments_users = \"\"\"\n",
    "SELECT\n",
    "  posts.description as post,\n",
    "  text as comment,\n",
    "  name\n",
    "FROM\n",
    "  posts\n",
    "  INNER JOIN comments ON posts.id = comments.post_id\n",
    "  INNER JOIN users ON users.id = comments.user_id\n",
    "\"\"\"\n",
    "\n",
    "posts_comments_users = execute_read_query(\n",
    "    connection, select_posts_comments_users\n",
    ")\n",
    "\n",
    "for posts_comments_user in posts_comments_users:\n",
    "    print(posts_comments_user)"
   ]
  },
  {
   "cell_type": "code",
   "execution_count": 21,
   "id": "5d5a906a-f27a-4c1e-8cbc-9cd7b0e5a54c",
   "metadata": {},
   "outputs": [
    {
     "name": "stdout",
     "output_type": "stream",
     "text": [
      "['post', 'comment', 'name']\n"
     ]
    }
   ],
   "source": [
    "cursor = connection.cursor()\n",
    "cursor.execute(select_posts_comments_users)\n",
    "cursor.fetchall()\n",
    "\n",
    "column_names = [description[0] for description in cursor.description]\n",
    "print(column_names)"
   ]
  },
  {
   "cell_type": "code",
   "execution_count": 22,
   "id": "a47c1f56-60f5-4233-b5c9-82e55477c9f0",
   "metadata": {},
   "outputs": [
    {
     "name": "stdout",
     "output_type": "stream",
     "text": [
      "('The weather is very hot today', 1)\n",
      "('I need some help with my work', 1)\n",
      "('I am getting married', 2)\n",
      "('It was a fantastic game of tennis', 1)\n",
      "('Anyone up for a late-night party today?', 2)\n"
     ]
    }
   ],
   "source": [
    "select_post_likes = \"\"\"\n",
    "SELECT\n",
    "  description as Post,\n",
    "  COUNT(likes.id) as Likes\n",
    "FROM\n",
    "  likes,\n",
    "  posts\n",
    "WHERE\n",
    "  posts.id = likes.post_id\n",
    "GROUP BY\n",
    "  likes.post_id\n",
    "\"\"\"\n",
    "\n",
    "post_likes = execute_read_query(connection, select_post_likes)\n",
    "\n",
    "for post_like in post_likes:\n",
    "    print(post_like)"
   ]
  },
  {
   "cell_type": "markdown",
   "id": "a9df6df1-3a20-48ef-ae40-6f087ede6a21",
   "metadata": {},
   "source": [
    "## Updating database"
   ]
  },
  {
   "cell_type": "code",
   "execution_count": 23,
   "id": "9c82e23c-1008-4fe7-a1cf-16b1a52b2952",
   "metadata": {},
   "outputs": [
    {
     "name": "stdout",
     "output_type": "stream",
     "text": [
      "('The weather is very hot today',)\n"
     ]
    }
   ],
   "source": [
    "select_post_description = \"SELECT description FROM posts WHERE id = 2\"\n",
    "\n",
    "post_description = execute_read_query(connection, select_post_description)\n",
    "\n",
    "for description in post_description:\n",
    "    print(description)"
   ]
  },
  {
   "cell_type": "code",
   "execution_count": 24,
   "id": "963a654c-2e4c-4c1a-a834-6dd1a5234914",
   "metadata": {},
   "outputs": [
    {
     "name": "stdout",
     "output_type": "stream",
     "text": [
      "Query executed successfully\n"
     ]
    }
   ],
   "source": [
    "update_post_description = \"\"\"\n",
    "UPDATE\n",
    "  posts\n",
    "SET\n",
    "  description = \"The weather has become pleasant now\"\n",
    "WHERE\n",
    "  id = 2\n",
    "\"\"\"\n",
    "\n",
    "execute_query(connection, update_post_description)"
   ]
  },
  {
   "cell_type": "code",
   "execution_count": 25,
   "id": "53a8489d-32e3-40fa-86c1-c9021feee2e3",
   "metadata": {},
   "outputs": [
    {
     "name": "stdout",
     "output_type": "stream",
     "text": [
      "('The weather has become pleasant now',)\n"
     ]
    }
   ],
   "source": [
    "select_post_description = \"SELECT description FROM posts WHERE id = 2\"\n",
    "\n",
    "post_description = execute_read_query(connection, select_post_description)\n",
    "\n",
    "for description in post_description:\n",
    "    print(description)"
   ]
  },
  {
   "cell_type": "markdown",
   "id": "fa474b34-821d-4dfc-a7c3-8b3353b14fb7",
   "metadata": {},
   "source": [
    "## Deleting rows from tables"
   ]
  },
  {
   "cell_type": "code",
   "execution_count": 26,
   "id": "8489a52c-2b3f-4548-9faf-9587460b8daa",
   "metadata": {},
   "outputs": [
    {
     "name": "stdout",
     "output_type": "stream",
     "text": [
      "Query executed successfully\n"
     ]
    }
   ],
   "source": [
    "delete_comment = \"DELETE FROM comments WHERE id = 5\"\n",
    "execute_query(connection, delete_comment)"
   ]
  },
  {
   "cell_type": "code",
   "execution_count": 27,
   "id": "27309292-8db8-4d6b-a988-a7b899ab14fb",
   "metadata": {},
   "outputs": [
    {
     "name": "stdout",
     "output_type": "stream",
     "text": [
      "(1, 'Count me in', 1, 6)\n",
      "(2, 'What sort of help?', 5, 3)\n",
      "(3, 'Congrats buddy', 2, 4)\n",
      "(4, 'I was rooting for Nadal though', 4, 5)\n",
      "(6, 'Many congratulations', 5, 4)\n"
     ]
    }
   ],
   "source": [
    "select_comments = \"SELECT * FROM comments\"\n",
    "comments = execute_read_query(connection, select_comments)\n",
    "\n",
    "for comment in comments:\n",
    "    print(comment)"
   ]
  },
  {
   "cell_type": "code",
   "execution_count": null,
   "id": "2b0a8621-29a9-4a47-9e68-42f93728be35",
   "metadata": {},
   "outputs": [],
   "source": []
  }
 ],
 "metadata": {
  "kernelspec": {
   "display_name": "Python 3 (ipykernel)",
   "language": "python",
   "name": "python3"
  },
  "language_info": {
   "codemirror_mode": {
    "name": "ipython",
    "version": 3
   },
   "file_extension": ".py",
   "mimetype": "text/x-python",
   "name": "python",
   "nbconvert_exporter": "python",
   "pygments_lexer": "ipython3",
   "version": "3.9.13"
  }
 },
 "nbformat": 4,
 "nbformat_minor": 5
}
