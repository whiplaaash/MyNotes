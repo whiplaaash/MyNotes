{
 "cells": [
  {
   "cell_type": "markdown",
   "id": "9ab822e4",
   "metadata": {},
   "source": [
    "# Lesson 18a: Pandas - Data Series"
   ]
  },
  {
   "cell_type": "markdown",
   "id": "7c2da32f",
   "metadata": {},
   "source": [
    "## Import libraries"
   ]
  },
  {
   "cell_type": "code",
   "execution_count": 4,
   "id": "7745e984",
   "metadata": {},
   "outputs": [],
   "source": [
    "import numpy as np\n",
    "import pandas as pd\n",
    "import matplotlib.pyplot as plt\n",
    "import math as math"
   ]
  },
  {
   "cell_type": "markdown",
   "id": "b1e5f17c",
   "metadata": {},
   "source": [
    "## Basics"
   ]
  },
  {
   "cell_type": "code",
   "execution_count": 13,
   "id": "8786296d",
   "metadata": {},
   "outputs": [
    {
     "data": {
      "text/plain": [
       "['Paris', 'Berlin', 'London', 'Warsaw']"
      ]
     },
     "execution_count": 13,
     "metadata": {},
     "output_type": "execute_result"
    }
   ],
   "source": [
    "# List:\n",
    "\n",
    "cities = [\"Paris\", \"Berlin\", \"London\", \"Warsaw\"]\n",
    "cities"
   ]
  },
  {
   "cell_type": "code",
   "execution_count": 14,
   "id": "ac59fab2",
   "metadata": {},
   "outputs": [
    {
     "data": {
      "text/plain": [
       "0     Paris\n",
       "1    Berlin\n",
       "2    London\n",
       "3    Warsaw\n",
       "dtype: object"
      ]
     },
     "execution_count": 14,
     "metadata": {},
     "output_type": "execute_result"
    }
   ],
   "source": [
    "# Changing a list into a series (column of data):\n",
    "\n",
    "pd.Series(cities)\n",
    "\n",
    "# Note that the index is automatic."
   ]
  },
  {
   "cell_type": "code",
   "execution_count": 15,
   "id": "c6a95e91",
   "metadata": {},
   "outputs": [
    {
     "data": {
      "text/plain": [
       "0     2\n",
       "1     3\n",
       "2     5\n",
       "3     7\n",
       "4    11\n",
       "5    13\n",
       "6    17\n",
       "7    19\n",
       "8    23\n",
       "dtype: int64"
      ]
     },
     "execution_count": 15,
     "metadata": {},
     "output_type": "execute_result"
    }
   ],
   "source": [
    "prime_numbers = (2,3,5,7,11,13,17,19,23)\n",
    "pd.Series(prime_numbers)"
   ]
  },
  {
   "cell_type": "code",
   "execution_count": 16,
   "id": "d9d6c1e2",
   "metadata": {},
   "outputs": [
    {
     "data": {
      "text/plain": [
       "Jaws                                             1975\n",
       "1941                                             1979\n",
       "Indiana Jones and the Raiders of the Lost Ark    1981\n",
       "E. T. the Extra-Terrestial                       1982\n",
       "dtype: int64"
      ]
     },
     "execution_count": 16,
     "metadata": {},
     "output_type": "execute_result"
    }
   ],
   "source": [
    "# Dictionary (or hash table):\n",
    "\n",
    "Spielberg_filmography = {\"Jaws\": 1975, \"1941\": 1979, \"Indiana Jones and the Raiders of the Lost Ark\": 1981,\n",
    "                        \"E. T. the Extra-Terrestial\": 1982}\n",
    "pd.Series(Spielberg_filmography)\n",
    "\n",
    "# note that there are bo indexes here, but there are labels from the dictionary, which act as indexes."
   ]
  },
  {
   "cell_type": "markdown",
   "id": "89133e23",
   "metadata": {},
   "source": [
    "## Atributes of Series\n",
    "\n",
    "Atributes - the properties that a given object has and we want to extract them. \n",
    "To get it we use: series.atribute"
   ]
  },
  {
   "cell_type": "code",
   "execution_count": 17,
   "id": "ff77ba90",
   "metadata": {},
   "outputs": [
    {
     "data": {
      "text/plain": [
       "0     Paris\n",
       "1    Berlin\n",
       "2    London\n",
       "3    Warsaw\n",
       "dtype: object"
      ]
     },
     "execution_count": 17,
     "metadata": {},
     "output_type": "execute_result"
    }
   ],
   "source": [
    "cities_series = pd.Series(cities)\n",
    "cities_series"
   ]
  },
  {
   "cell_type": "code",
   "execution_count": 19,
   "id": "aefab48e",
   "metadata": {},
   "outputs": [
    {
     "data": {
      "text/plain": [
       "4"
      ]
     },
     "execution_count": 19,
     "metadata": {},
     "output_type": "execute_result"
    }
   ],
   "source": [
    "# Examples of the atributes:\n",
    "\n",
    "cities_series.size"
   ]
  },
  {
   "cell_type": "code",
   "execution_count": 20,
   "id": "0a162e0b",
   "metadata": {},
   "outputs": [
    {
     "data": {
      "text/plain": [
       "True"
      ]
     },
     "execution_count": 20,
     "metadata": {},
     "output_type": "execute_result"
    }
   ],
   "source": [
    "cities_series.is_unique"
   ]
  },
  {
   "cell_type": "code",
   "execution_count": 21,
   "id": "7e14bbf5",
   "metadata": {},
   "outputs": [
    {
     "data": {
      "text/plain": [
       "False"
      ]
     },
     "execution_count": 21,
     "metadata": {},
     "output_type": "execute_result"
    }
   ],
   "source": [
    "cities_series.is_monotonic"
   ]
  },
  {
   "cell_type": "code",
   "execution_count": 22,
   "id": "810467e7",
   "metadata": {},
   "outputs": [
    {
     "data": {
      "text/plain": [
       "RangeIndex(start=0, stop=4, step=1)"
      ]
     },
     "execution_count": 22,
     "metadata": {},
     "output_type": "execute_result"
    }
   ],
   "source": [
    "cities_series.index"
   ]
  },
  {
   "cell_type": "code",
   "execution_count": 23,
   "id": "0b1177b1",
   "metadata": {},
   "outputs": [
    {
     "data": {
      "text/plain": [
       "array(['Paris', 'Berlin', 'London', 'Warsaw'], dtype=object)"
      ]
     },
     "execution_count": 23,
     "metadata": {},
     "output_type": "execute_result"
    }
   ],
   "source": [
    "cities_series.values"
   ]
  },
  {
   "cell_type": "markdown",
   "id": "8d0283e0",
   "metadata": {},
   "source": [
    "## Methods on Series\n",
    "\n",
    "Method - are used to manipulate on the object or to change it. To apply it we use: series.method()"
   ]
  },
  {
   "cell_type": "code",
   "execution_count": 25,
   "id": "d7cca1c1",
   "metadata": {},
   "outputs": [
    {
     "data": {
      "text/plain": [
       "0     1\n",
       "1     4\n",
       "2    22\n",
       "3    57\n",
       "dtype: int64"
      ]
     },
     "execution_count": 25,
     "metadata": {},
     "output_type": "execute_result"
    }
   ],
   "source": [
    "# Declare the object:\n",
    "\n",
    "monotonic_list = (1,4,22,57)\n",
    "monotonic_series = pd.Series(monotonic_list)\n",
    "monotonic_series"
   ]
  },
  {
   "cell_type": "code",
   "execution_count": 26,
   "id": "8f3eb331",
   "metadata": {},
   "outputs": [
    {
     "data": {
      "text/plain": [
       "84"
      ]
     },
     "execution_count": 26,
     "metadata": {},
     "output_type": "execute_result"
    }
   ],
   "source": [
    "# Examples of methods:\n",
    "monotonic_series.sum()"
   ]
  },
  {
   "cell_type": "code",
   "execution_count": 27,
   "id": "7f99a974",
   "metadata": {},
   "outputs": [
    {
     "data": {
      "text/plain": [
       "1"
      ]
     },
     "execution_count": 27,
     "metadata": {},
     "output_type": "execute_result"
    }
   ],
   "source": [
    "monotonic_series.min()"
   ]
  },
  {
   "cell_type": "code",
   "execution_count": 28,
   "id": "49e6dc02",
   "metadata": {},
   "outputs": [
    {
     "data": {
      "text/plain": [
       "57"
      ]
     },
     "execution_count": 28,
     "metadata": {},
     "output_type": "execute_result"
    }
   ],
   "source": [
    "monotonic_series.max()"
   ]
  },
  {
   "cell_type": "code",
   "execution_count": 29,
   "id": "3881943e",
   "metadata": {},
   "outputs": [
    {
     "data": {
      "text/plain": [
       "21.0"
      ]
     },
     "execution_count": 29,
     "metadata": {},
     "output_type": "execute_result"
    }
   ],
   "source": [
    "monotonic_series.mean()"
   ]
  },
  {
   "cell_type": "code",
   "execution_count": 32,
   "id": "7f6b2d27",
   "metadata": {},
   "outputs": [
    {
     "data": {
      "text/plain": [
       "RangeIndex(start=0, stop=4, step=1)"
      ]
     },
     "execution_count": 32,
     "metadata": {},
     "output_type": "execute_result"
    }
   ],
   "source": [
    "monotonic_series.keys()  # Returns how the index was built."
   ]
  },
  {
   "cell_type": "code",
   "execution_count": 33,
   "id": "36e6d33e",
   "metadata": {},
   "outputs": [
    {
     "data": {
      "text/plain": [
       "[1, 4, 22, 57]"
      ]
     },
     "execution_count": 33,
     "metadata": {},
     "output_type": "execute_result"
    }
   ],
   "source": [
    "monotonic_series.tolist()  # changes the object into a list."
   ]
  },
  {
   "cell_type": "code",
   "execution_count": 35,
   "id": "e52be5f1",
   "metadata": {},
   "outputs": [
    {
     "data": {
      "text/plain": [
       "0    11\n",
       "1    14\n",
       "2    32\n",
       "3    67\n",
       "dtype: int64"
      ]
     },
     "execution_count": 35,
     "metadata": {},
     "output_type": "execute_result"
    }
   ],
   "source": [
    "monotonic_series.add(10)  # Adds 10 to each element of the series."
   ]
  },
  {
   "cell_type": "code",
   "execution_count": 36,
   "id": "db7d9f11",
   "metadata": {},
   "outputs": [
    {
     "data": {
      "text/plain": [
       "0    11\n",
       "1    14\n",
       "2    32\n",
       "3    67\n",
       "dtype: int64"
      ]
     },
     "execution_count": 36,
     "metadata": {},
     "output_type": "execute_result"
    }
   ],
   "source": [
    "# Methods do not modify the original series but they create a copy on which they act. \n",
    "# If I want to keep a result of the method I need to define a new object:\n",
    "\n",
    "new_series = monotonic_series.add(10)\n",
    "new_series"
   ]
  },
  {
   "cell_type": "code",
   "execution_count": 41,
   "id": "60f3b78a",
   "metadata": {},
   "outputs": [
    {
     "data": {
      "text/plain": [
       "eur     Germany\n",
       "usd         USA\n",
       "eur    Portugal\n",
       "pln      Poland\n",
       "eur      Frnace\n",
       "dtype: object"
      ]
     },
     "execution_count": 41,
     "metadata": {},
     "output_type": "execute_result"
    }
   ],
   "source": [
    "currencies = [\"eur\", \"usd\", \"eur\", \"pln\", \"eur\"]\n",
    "countries = [\"Germany\", \"USA\", \"Portugal\", \"Poland\", \"Frnace\"]\n",
    "\n",
    "cur_countries = pd.Series(countries,currencies) \n",
    "# In this way I created a series where currency acts as an index. Note that the order is important.\n",
    "# Similarly, I can use:\n",
    "\n",
    "cur_countries2 = pd.Series(data = countries, index = currencies)\n",
    "# This is equivalent to: pd.Series(index = currencies, data = countries) - the order does not matter.\n",
    "\n",
    "cur_countries2"
   ]
  },
  {
   "cell_type": "code",
   "execution_count": 42,
   "id": "7683b053",
   "metadata": {},
   "outputs": [],
   "source": [
    "# By using Shift+Tab you can get access to the parameters that a given method has."
   ]
  },
  {
   "cell_type": "markdown",
   "id": "110e2fc3",
   "metadata": {},
   "source": [
    "## Choosing some data imposing a condition"
   ]
  },
  {
   "cell_type": "markdown",
   "id": "6e1cd046",
   "metadata": {},
   "source": [
    "### Condition - where"
   ]
  },
  {
   "cell_type": "code",
   "execution_count": 44,
   "id": "a3fe0211",
   "metadata": {},
   "outputs": [
    {
     "data": {
      "text/plain": [
       "0    False\n",
       "1    False\n",
       "2    False\n",
       "3     True\n",
       "4     True\n",
       "dtype: bool"
      ]
     },
     "execution_count": 44,
     "metadata": {},
     "output_type": "execute_result"
    }
   ],
   "source": [
    "# By using a condition (with a method \"where()\") - in this way we work on values and not indexes.\n",
    "\n",
    "numbers = (3,5,7,14,36)\n",
    "\n",
    "# Note that it does not work for a list: \"numbers > 10\" will return error. But it works for a series:\n",
    "\n",
    "numbers_series = pd.Series(numbers)\n",
    "\n",
    "numbers_series > 10"
   ]
  },
  {
   "cell_type": "code",
   "execution_count": 45,
   "id": "86f53c90",
   "metadata": {},
   "outputs": [
    {
     "data": {
      "text/plain": [
       "0     NaN\n",
       "1     NaN\n",
       "2     NaN\n",
       "3    14.0\n",
       "4    36.0\n",
       "dtype: float64"
      ]
     },
     "execution_count": 45,
     "metadata": {},
     "output_type": "execute_result"
    }
   ],
   "source": [
    "numbers_series.where(numbers_series > 10)"
   ]
  },
  {
   "cell_type": "code",
   "execution_count": 47,
   "id": "2dcd1ff1",
   "metadata": {},
   "outputs": [
    {
     "data": {
      "text/plain": [
       "0     0\n",
       "1     0\n",
       "2     0\n",
       "3    14\n",
       "4    36\n",
       "dtype: int64"
      ]
     },
     "execution_count": 47,
     "metadata": {},
     "output_type": "execute_result"
    }
   ],
   "source": [
    "numbers_series.where(numbers_series > 10, other = 0)"
   ]
  },
  {
   "cell_type": "code",
   "execution_count": 48,
   "id": "617e97b1",
   "metadata": {},
   "outputs": [
    {
     "data": {
      "text/plain": [
       "3    14.0\n",
       "4    36.0\n",
       "dtype: float64"
      ]
     },
     "execution_count": 48,
     "metadata": {},
     "output_type": "execute_result"
    }
   ],
   "source": [
    "numbers_series.where(numbers_series > 10).dropna() \n",
    "# We excluded all values that do not satisfy the condition. \n",
    "# Note that it is nicely done by attaching another method to our object.\n",
    "# Note also that the original object is not changed."
   ]
  },
  {
   "cell_type": "code",
   "execution_count": 50,
   "id": "85d48a38",
   "metadata": {},
   "outputs": [
    {
     "data": {
      "text/plain": [
       "0     NaN\n",
       "1     NaN\n",
       "2     NaN\n",
       "3    14.0\n",
       "4    36.0\n",
       "dtype: float64"
      ]
     },
     "execution_count": 50,
     "metadata": {},
     "output_type": "execute_result"
    }
   ],
   "source": [
    "# To change the original object we can use the parameter \"inplace=True\".\n",
    "numbers_series.where(numbers_series > 10, inplace = True)\n",
    "numbers_series"
   ]
  },
  {
   "cell_type": "code",
   "execution_count": 57,
   "id": "3bf313b9",
   "metadata": {},
   "outputs": [
    {
     "data": {
      "text/plain": [
       "3    14.0\n",
       "4    36.0\n",
       "dtype: float64"
      ]
     },
     "execution_count": 57,
     "metadata": {},
     "output_type": "execute_result"
    }
   ],
   "source": [
    "# and then we can drop the undefined values:\n",
    "numbers_series.dropna(inplace = True)\n",
    "numbers_series\n",
    "\n",
    "# Note that although the chain rule works for methods to attach one after the other, \n",
    "# 2 methods with \"inplace=True\" cannot be combined."
   ]
  },
  {
   "cell_type": "code",
   "execution_count": 75,
   "id": "df7a86c5",
   "metadata": {},
   "outputs": [
    {
     "data": {
      "text/plain": [
       "0     NaN\n",
       "1     NaN\n",
       "2     NaN\n",
       "3     NaN\n",
       "4    15.0\n",
       "5    33.0\n",
       "6     NaN\n",
       "dtype: float64"
      ]
     },
     "execution_count": 75,
     "metadata": {},
     "output_type": "execute_result"
    }
   ],
   "source": [
    "# To combine two conditions we have to define these conditions separately \n",
    "# and then put them in the method \"where()\"\n",
    "\n",
    "n = (1,3,6,9,15,33,58)\n",
    "n_series = pd.Series(n)\n",
    "\n",
    "n1 = n_series > 10\n",
    "n2 = n_series % 2 == 1\n",
    "\n",
    "n_series.where(n1 & n2) # Note it works only when I use the operator \"&\" (which works on bites) and not \"and\".\n"
   ]
  },
  {
   "cell_type": "markdown",
   "id": "9939176d",
   "metadata": {},
   "source": [
    "### Condition - between"
   ]
  },
  {
   "cell_type": "code",
   "execution_count": 83,
   "id": "1d17e233",
   "metadata": {},
   "outputs": [
    {
     "data": {
      "text/plain": [
       "1    3.0\n",
       "2    6.0\n",
       "3    9.0\n",
       "dtype: float64"
      ]
     },
     "execution_count": 83,
     "metadata": {},
     "output_type": "execute_result"
    }
   ],
   "source": [
    "n_between = n_series.between(3,12)\n",
    "n_to_show = n_series.where(n_between).dropna()\n",
    "n_to_show"
   ]
  },
  {
   "cell_type": "markdown",
   "id": "ee1c3aa8",
   "metadata": {},
   "source": [
    "## Filtering"
   ]
  },
  {
   "cell_type": "code",
   "execution_count": 56,
   "id": "550ae8f5",
   "metadata": {},
   "outputs": [
    {
     "data": {
      "text/plain": [
       "3    14.0\n",
       "dtype: float64"
      ]
     },
     "execution_count": 56,
     "metadata": {},
     "output_type": "execute_result"
    }
   ],
   "source": [
    "# Filtering - working on indexes of our data in the series.\n",
    "\n",
    "numbers_series.filter(items=[3])\n",
    "\n",
    "# Note that the index of the original series is kept in memory."
   ]
  },
  {
   "cell_type": "code",
   "execution_count": null,
   "id": "89a506ac",
   "metadata": {},
   "outputs": [],
   "source": []
  }
 ],
 "metadata": {
  "kernelspec": {
   "display_name": "Python 3 (ipykernel)",
   "language": "python",
   "name": "python3"
  },
  "language_info": {
   "codemirror_mode": {
    "name": "ipython",
    "version": 3
   },
   "file_extension": ".py",
   "mimetype": "text/x-python",
   "name": "python",
   "nbconvert_exporter": "python",
   "pygments_lexer": "ipython3",
   "version": "3.8.15"
  }
 },
 "nbformat": 4,
 "nbformat_minor": 5
}
