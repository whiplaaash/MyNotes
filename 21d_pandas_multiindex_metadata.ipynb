{
 "cells": [
  {
   "cell_type": "markdown",
   "id": "3bf54606",
   "metadata": {},
   "source": [
    "# Lesson 21d: Multiindex - metadata (getting info about multiindex)"
   ]
  },
  {
   "cell_type": "markdown",
   "id": "ff900a54",
   "metadata": {},
   "source": [
    "## Import libraries and load data"
   ]
  },
  {
   "cell_type": "code",
   "execution_count": 8,
   "id": "f1392d2a",
   "metadata": {},
   "outputs": [
    {
     "data": {
      "text/html": [
       "<div>\n",
       "<style scoped>\n",
       "    .dataframe tbody tr th:only-of-type {\n",
       "        vertical-align: middle;\n",
       "    }\n",
       "\n",
       "    .dataframe tbody tr th {\n",
       "        vertical-align: top;\n",
       "    }\n",
       "\n",
       "    .dataframe thead th {\n",
       "        text-align: right;\n",
       "    }\n",
       "</style>\n",
       "<table border=\"1\" class=\"dataframe\">\n",
       "  <thead>\n",
       "    <tr style=\"text-align: right;\">\n",
       "      <th></th>\n",
       "      <th>Region</th>\n",
       "      <th>EventType</th>\n",
       "      <th>Public automated</th>\n",
       "      <th>Public passive</th>\n",
       "      <th>Private</th>\n",
       "      <th>Farm</th>\n",
       "    </tr>\n",
       "  </thead>\n",
       "  <tbody>\n",
       "    <tr>\n",
       "      <th>0</th>\n",
       "      <td>Newfoundland</td>\n",
       "      <td>Accidents</td>\n",
       "      <td>0</td>\n",
       "      <td>0</td>\n",
       "      <td>0</td>\n",
       "      <td>0</td>\n",
       "    </tr>\n",
       "    <tr>\n",
       "      <th>1</th>\n",
       "      <td>Newfoundland</td>\n",
       "      <td>Fatalities</td>\n",
       "      <td>0</td>\n",
       "      <td>0</td>\n",
       "      <td>0</td>\n",
       "      <td>0</td>\n",
       "    </tr>\n",
       "    <tr>\n",
       "      <th>2</th>\n",
       "      <td>Newfoundland</td>\n",
       "      <td>Serious injuries</td>\n",
       "      <td>0</td>\n",
       "      <td>0</td>\n",
       "      <td>0</td>\n",
       "      <td>0</td>\n",
       "    </tr>\n",
       "    <tr>\n",
       "      <th>3</th>\n",
       "      <td>Nova Scotia</td>\n",
       "      <td>Accidents</td>\n",
       "      <td>1</td>\n",
       "      <td>0</td>\n",
       "      <td>0</td>\n",
       "      <td>0</td>\n",
       "    </tr>\n",
       "    <tr>\n",
       "      <th>4</th>\n",
       "      <td>Nova Scotia</td>\n",
       "      <td>Fatalities</td>\n",
       "      <td>0</td>\n",
       "      <td>0</td>\n",
       "      <td>0</td>\n",
       "      <td>0</td>\n",
       "    </tr>\n",
       "  </tbody>\n",
       "</table>\n",
       "</div>"
      ],
      "text/plain": [
       "         Region         EventType  Public automated  Public passive  Private  \\\n",
       "0  Newfoundland         Accidents                 0               0        0   \n",
       "1  Newfoundland        Fatalities                 0               0        0   \n",
       "2  Newfoundland  Serious injuries                 0               0        0   \n",
       "3   Nova Scotia         Accidents                 1               0        0   \n",
       "4   Nova Scotia        Fatalities                 0               0        0   \n",
       "\n",
       "   Farm  \n",
       "0     0  \n",
       "1     0  \n",
       "2     0  \n",
       "3     0  \n",
       "4     0  "
      ]
     },
     "execution_count": 8,
     "metadata": {},
     "output_type": "execute_result"
    }
   ],
   "source": [
    "import numpy as np\n",
    "import pandas as pd\n",
    "\n",
    "incidents = pd.read_csv(\"Canadian Railway Crossing Incidents.csv\")\n",
    "incidents.head()"
   ]
  },
  {
   "cell_type": "markdown",
   "id": "305375c3",
   "metadata": {},
   "source": [
    "## Building 2-level index"
   ]
  },
  {
   "cell_type": "code",
   "execution_count": 9,
   "id": "74cc0bba",
   "metadata": {},
   "outputs": [
    {
     "data": {
      "text/html": [
       "<div>\n",
       "<style scoped>\n",
       "    .dataframe tbody tr th:only-of-type {\n",
       "        vertical-align: middle;\n",
       "    }\n",
       "\n",
       "    .dataframe tbody tr th {\n",
       "        vertical-align: top;\n",
       "    }\n",
       "\n",
       "    .dataframe thead th {\n",
       "        text-align: right;\n",
       "    }\n",
       "</style>\n",
       "<table border=\"1\" class=\"dataframe\">\n",
       "  <thead>\n",
       "    <tr style=\"text-align: right;\">\n",
       "      <th></th>\n",
       "      <th></th>\n",
       "      <th>Public automated</th>\n",
       "      <th>Public passive</th>\n",
       "      <th>Private</th>\n",
       "      <th>Farm</th>\n",
       "    </tr>\n",
       "    <tr>\n",
       "      <th>Region</th>\n",
       "      <th>EventType</th>\n",
       "      <th></th>\n",
       "      <th></th>\n",
       "      <th></th>\n",
       "      <th></th>\n",
       "    </tr>\n",
       "  </thead>\n",
       "  <tbody>\n",
       "    <tr>\n",
       "      <th rowspan=\"3\" valign=\"top\">Newfoundland</th>\n",
       "      <th>Accidents</th>\n",
       "      <td>0</td>\n",
       "      <td>0</td>\n",
       "      <td>0</td>\n",
       "      <td>0</td>\n",
       "    </tr>\n",
       "    <tr>\n",
       "      <th>Fatalities</th>\n",
       "      <td>0</td>\n",
       "      <td>0</td>\n",
       "      <td>0</td>\n",
       "      <td>0</td>\n",
       "    </tr>\n",
       "    <tr>\n",
       "      <th>Serious injuries</th>\n",
       "      <td>0</td>\n",
       "      <td>0</td>\n",
       "      <td>0</td>\n",
       "      <td>0</td>\n",
       "    </tr>\n",
       "    <tr>\n",
       "      <th rowspan=\"2\" valign=\"top\">Nova Scotia</th>\n",
       "      <th>Accidents</th>\n",
       "      <td>1</td>\n",
       "      <td>0</td>\n",
       "      <td>0</td>\n",
       "      <td>0</td>\n",
       "    </tr>\n",
       "    <tr>\n",
       "      <th>Fatalities</th>\n",
       "      <td>0</td>\n",
       "      <td>0</td>\n",
       "      <td>0</td>\n",
       "      <td>0</td>\n",
       "    </tr>\n",
       "  </tbody>\n",
       "</table>\n",
       "</div>"
      ],
      "text/plain": [
       "                               Public automated  Public passive  Private  Farm\n",
       "Region       EventType                                                        \n",
       "Newfoundland Accidents                        0               0        0     0\n",
       "             Fatalities                       0               0        0     0\n",
       "             Serious injuries                 0               0        0     0\n",
       "Nova Scotia  Accidents                        1               0        0     0\n",
       "             Fatalities                       0               0        0     0"
      ]
     },
     "execution_count": 9,
     "metadata": {},
     "output_type": "execute_result"
    }
   ],
   "source": [
    "incidents.set_index([\"Region\",\"EventType\"], inplace=True)\n",
    "incidents.head()"
   ]
  },
  {
   "cell_type": "code",
   "execution_count": 10,
   "id": "ed7ec6c6",
   "metadata": {},
   "outputs": [
    {
     "data": {
      "text/plain": [
       "MultiIndex([(         'Newfoundland',        'Accidents'),\n",
       "            (         'Newfoundland',       'Fatalities'),\n",
       "            (         'Newfoundland', 'Serious injuries'),\n",
       "            (          'Nova Scotia',        'Accidents'),\n",
       "            (          'Nova Scotia',       'Fatalities'),\n",
       "            (          'Nova Scotia', 'Serious injuries'),\n",
       "            (        'New Brunswick',        'Accidents'),\n",
       "            (        'New Brunswick',       'Fatalities'),\n",
       "            (        'New Brunswick', 'Serious injuries'),\n",
       "            (               'Quebec',        'Accidents'),\n",
       "            (               'Quebec',       'Fatalities'),\n",
       "            (               'Quebec', 'Serious injuries'),\n",
       "            (              'Ontario',        'Accidents'),\n",
       "            (              'Ontario',       'Fatalities'),\n",
       "            (              'Ontario', 'Serious injuries'),\n",
       "            (             'Manitoba',        'Accidents'),\n",
       "            (             'Manitoba',       'Fatalities'),\n",
       "            (             'Manitoba', 'Serious injuries'),\n",
       "            (         'Saskatchewan',        'Accidents'),\n",
       "            (         'Saskatchewan',       'Fatalities'),\n",
       "            (         'Saskatchewan', 'Serious injuries'),\n",
       "            (              'Alberta',        'Accidents'),\n",
       "            (              'Alberta',       'Fatalities'),\n",
       "            (              'Alberta', 'Serious injuries'),\n",
       "            (     'British Columbia',        'Accidents'),\n",
       "            (     'British Columbia',       'Fatalities'),\n",
       "            (     'British Columbia', 'Serious injuries'),\n",
       "            ('Northwest Territories',        'Accidents'),\n",
       "            ('Northwest Territories',       'Fatalities'),\n",
       "            ('Northwest Territories', 'Serious injuries')],\n",
       "           names=['Region', 'EventType'])"
      ]
     },
     "execution_count": 10,
     "metadata": {},
     "output_type": "execute_result"
    }
   ],
   "source": [
    "incidents.index"
   ]
  },
  {
   "cell_type": "code",
   "execution_count": 12,
   "id": "e720ce0c",
   "metadata": {},
   "outputs": [
    {
     "data": {
      "text/plain": [
       "Index(['Newfoundland', 'Newfoundland', 'Newfoundland', 'Nova Scotia',\n",
       "       'Nova Scotia', 'Nova Scotia', 'New Brunswick', 'New Brunswick',\n",
       "       'New Brunswick', 'Quebec', 'Quebec', 'Quebec', 'Ontario', 'Ontario',\n",
       "       'Ontario', 'Manitoba', 'Manitoba', 'Manitoba', 'Saskatchewan',\n",
       "       'Saskatchewan', 'Saskatchewan', 'Alberta', 'Alberta', 'Alberta',\n",
       "       'British Columbia', 'British Columbia', 'British Columbia',\n",
       "       'Northwest Territories', 'Northwest Territories',\n",
       "       'Northwest Territories'],\n",
       "      dtype='object', name='Region')"
      ]
     },
     "execution_count": 12,
     "metadata": {},
     "output_type": "execute_result"
    }
   ],
   "source": [
    "# If I want to display values of the most external index, I use:\n",
    "incidents.index.get_level_values(0)"
   ]
  },
  {
   "cell_type": "code",
   "execution_count": 14,
   "id": "1d06104b",
   "metadata": {},
   "outputs": [
    {
     "data": {
      "text/plain": [
       "Index(['Accidents', 'Fatalities', 'Serious injuries', 'Accidents',\n",
       "       'Fatalities', 'Serious injuries', 'Accidents', 'Fatalities',\n",
       "       'Serious injuries', 'Accidents', 'Fatalities', 'Serious injuries',\n",
       "       'Accidents', 'Fatalities', 'Serious injuries', 'Accidents',\n",
       "       'Fatalities', 'Serious injuries', 'Accidents', 'Fatalities',\n",
       "       'Serious injuries', 'Accidents', 'Fatalities', 'Serious injuries',\n",
       "       'Accidents', 'Fatalities', 'Serious injuries', 'Accidents',\n",
       "       'Fatalities', 'Serious injuries'],\n",
       "      dtype='object', name='EventType')"
      ]
     },
     "execution_count": 14,
     "metadata": {},
     "output_type": "execute_result"
    }
   ],
   "source": [
    "# Similarly, for the 2nd level index, I use:\n",
    "incidents.index.get_level_values(1)"
   ]
  },
  {
   "cell_type": "code",
   "execution_count": 15,
   "id": "98514433",
   "metadata": {},
   "outputs": [
    {
     "data": {
      "text/plain": [
       "FrozenList(['Region', 'EventType'])"
      ]
     },
     "execution_count": 15,
     "metadata": {},
     "output_type": "execute_result"
    }
   ],
   "source": [
    "# To dispaly names:\n",
    "incidents.index.names"
   ]
  },
  {
   "cell_type": "code",
   "execution_count": 17,
   "id": "a98b9cdf",
   "metadata": {},
   "outputs": [
    {
     "data": {
      "text/html": [
       "<div>\n",
       "<style scoped>\n",
       "    .dataframe tbody tr th:only-of-type {\n",
       "        vertical-align: middle;\n",
       "    }\n",
       "\n",
       "    .dataframe tbody tr th {\n",
       "        vertical-align: top;\n",
       "    }\n",
       "\n",
       "    .dataframe thead th {\n",
       "        text-align: right;\n",
       "    }\n",
       "</style>\n",
       "<table border=\"1\" class=\"dataframe\">\n",
       "  <thead>\n",
       "    <tr style=\"text-align: right;\">\n",
       "      <th></th>\n",
       "      <th></th>\n",
       "      <th>Public automated</th>\n",
       "      <th>Public passive</th>\n",
       "      <th>Private</th>\n",
       "      <th>Farm</th>\n",
       "    </tr>\n",
       "    <tr>\n",
       "      <th>Area</th>\n",
       "      <th>Event</th>\n",
       "      <th></th>\n",
       "      <th></th>\n",
       "      <th></th>\n",
       "      <th></th>\n",
       "    </tr>\n",
       "  </thead>\n",
       "  <tbody>\n",
       "    <tr>\n",
       "      <th rowspan=\"3\" valign=\"top\">Newfoundland</th>\n",
       "      <th>Accidents</th>\n",
       "      <td>0</td>\n",
       "      <td>0</td>\n",
       "      <td>0</td>\n",
       "      <td>0</td>\n",
       "    </tr>\n",
       "    <tr>\n",
       "      <th>Fatalities</th>\n",
       "      <td>0</td>\n",
       "      <td>0</td>\n",
       "      <td>0</td>\n",
       "      <td>0</td>\n",
       "    </tr>\n",
       "    <tr>\n",
       "      <th>Serious injuries</th>\n",
       "      <td>0</td>\n",
       "      <td>0</td>\n",
       "      <td>0</td>\n",
       "      <td>0</td>\n",
       "    </tr>\n",
       "    <tr>\n",
       "      <th rowspan=\"2\" valign=\"top\">Nova Scotia</th>\n",
       "      <th>Accidents</th>\n",
       "      <td>1</td>\n",
       "      <td>0</td>\n",
       "      <td>0</td>\n",
       "      <td>0</td>\n",
       "    </tr>\n",
       "    <tr>\n",
       "      <th>Fatalities</th>\n",
       "      <td>0</td>\n",
       "      <td>0</td>\n",
       "      <td>0</td>\n",
       "      <td>0</td>\n",
       "    </tr>\n",
       "  </tbody>\n",
       "</table>\n",
       "</div>"
      ],
      "text/plain": [
       "                               Public automated  Public passive  Private  Farm\n",
       "Area         Event                                                            \n",
       "Newfoundland Accidents                        0               0        0     0\n",
       "             Fatalities                       0               0        0     0\n",
       "             Serious injuries                 0               0        0     0\n",
       "Nova Scotia  Accidents                        1               0        0     0\n",
       "             Fatalities                       0               0        0     0"
      ]
     },
     "execution_count": 17,
     "metadata": {},
     "output_type": "execute_result"
    }
   ],
   "source": [
    "# If I need to change the names of the columns, which are indexes, I use:\n",
    "incidents.index.set_names([\"Area\",\"Event\"], inplace=True)\n",
    "incidents.head()"
   ]
  },
  {
   "cell_type": "code",
   "execution_count": null,
   "id": "080df58d",
   "metadata": {},
   "outputs": [],
   "source": []
  }
 ],
 "metadata": {
  "kernelspec": {
   "display_name": "Python 3 (ipykernel)",
   "language": "python",
   "name": "python3"
  },
  "language_info": {
   "codemirror_mode": {
    "name": "ipython",
    "version": 3
   },
   "file_extension": ".py",
   "mimetype": "text/x-python",
   "name": "python",
   "nbconvert_exporter": "python",
   "pygments_lexer": "ipython3",
   "version": "3.8.5"
  }
 },
 "nbformat": 4,
 "nbformat_minor": 5
}
