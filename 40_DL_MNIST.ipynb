{
 "cells": [
  {
   "cell_type": "markdown",
   "id": "e8d6a62a",
   "metadata": {},
   "source": [
    "# Lesson 40: Deep Learning - MNIST example"
   ]
  },
  {
   "cell_type": "markdown",
   "id": "8352bb29",
   "metadata": {},
   "source": [
    "This is \"Hello World!\" of Deep Learning: image recognition and classification."
   ]
  },
  {
   "cell_type": "markdown",
   "id": "a2655263",
   "metadata": {},
   "source": [
    "## Import packages"
   ]
  },
  {
   "cell_type": "code",
   "execution_count": 1,
   "id": "411e1776",
   "metadata": {},
   "outputs": [],
   "source": [
    "import numpy as np\n",
    "import tensorflow as tf\n",
    "\n",
    "import tensorflow_datasets as tfds"
   ]
  },
  {
   "cell_type": "markdown",
   "id": "029e72de",
   "metadata": {},
   "source": [
    "## Data"
   ]
  },
  {
   "cell_type": "markdown",
   "id": "a3a79de4",
   "metadata": {},
   "source": [
    "### Loading, cleaning"
   ]
  },
  {
   "cell_type": "code",
   "execution_count": 2,
   "id": "7324f2b5",
   "metadata": {},
   "outputs": [
    {
     "data": {
      "text/plain": [
       "tfds.core.DatasetInfo(\n",
       "    name='mnist',\n",
       "    full_name='mnist/3.0.1',\n",
       "    description=\"\"\"\n",
       "    The MNIST database of handwritten digits.\n",
       "    \"\"\",\n",
       "    homepage='http://yann.lecun.com/exdb/mnist/',\n",
       "    data_path='/home/alina/tensorflow_datasets/mnist/3.0.1',\n",
       "    file_format=tfrecord,\n",
       "    download_size=11.06 MiB,\n",
       "    dataset_size=21.00 MiB,\n",
       "    features=FeaturesDict({\n",
       "        'image': Image(shape=(28, 28, 1), dtype=uint8),\n",
       "        'label': ClassLabel(shape=(), dtype=int64, num_classes=10),\n",
       "    }),\n",
       "    supervised_keys=('image', 'label'),\n",
       "    disable_shuffling=False,\n",
       "    splits={\n",
       "        'test': <SplitInfo num_examples=10000, num_shards=1>,\n",
       "        'train': <SplitInfo num_examples=60000, num_shards=1>,\n",
       "    },\n",
       "    citation=\"\"\"@article{lecun2010mnist,\n",
       "      title={MNIST handwritten digit database},\n",
       "      author={LeCun, Yann and Cortes, Corinna and Burges, CJ},\n",
       "      journal={ATT Labs [Online]. Available: http://yann.lecun.com/exdb/mnist},\n",
       "      volume={2},\n",
       "      year={2010}\n",
       "    }\"\"\",\n",
       ")"
      ]
     },
     "execution_count": 2,
     "metadata": {},
     "output_type": "execute_result"
    }
   ],
   "source": [
    "# Datasets are registerd sets of data which are loaded by name. \"as_supervised = True\" means that the data \n",
    "# will be organized as two tuples: input and output.\n",
    "\n",
    "mnist_dataset, mnist_info = tfds.load(name = \"mnist\", with_info = True, as_supervised = True)\n",
    "\n",
    "mnist_train, mnist_test = mnist_dataset[\"train\"], mnist_dataset[\"test\"]\n",
    "\n",
    "# By default, there is no validation set and we have to create it by ourselves.\n",
    "\n",
    "num_validation_samples = 0.1 * mnist_info.splits[\"train\"].num_examples\n",
    "\n",
    "# At this point we cannot be sure if the validation sample is int type, so we convert it to int:\n",
    "\n",
    "num_validation_samples = tf.cast(num_validation_samples, tf.int64)\n",
    "\n",
    "# Let us create a variable dedicated to test samples:\n",
    "\n",
    "num_test_samples = mnist_info.splits[\"test\"].num_examples\n",
    "num_test_samples = tf.cast(num_test_samples, tf.int64)\n",
    "mnist_info"
   ]
  },
  {
   "cell_type": "markdown",
   "id": "7d1d1cf2",
   "metadata": {},
   "source": [
    "### Preprocessing (scaling, shuffling, batching)"
   ]
  },
  {
   "cell_type": "code",
   "execution_count": 3,
   "id": "e8dc0275",
   "metadata": {},
   "outputs": [],
   "source": [
    "# Now we scale the numerical variables so that they are between 0 and 1 (now they correspond to grey scale numbers\n",
    "# which are between 0 and 255), to make them more stable.\n",
    "\n",
    "# Transforming function is:\n",
    "\n",
    "def scale(image, label):\n",
    "    image = tf.cast(image, tf.float32)\n",
    "    image /=  255.\n",
    "    return image, label\n",
    "    \n",
    "scaled_train_and_validation_data = mnist_train.map(scale)\n",
    "\n",
    "scaled_test_data = mnist_test.map(scale)\n",
    "\n",
    "# Shuffling:\n",
    "\n",
    "# \"buffer_size\" - used for huge data, because we cannot shuffle all data at once, and we need to shuffle them\n",
    "# in packages:\n",
    "\n",
    "# 1 < buffer_sze < num_samples - optimal way to shuffle data\n",
    "\n",
    "BUFFER_SIZE = 10000\n",
    "\n",
    "shuffled_train_and_validation_data = scaled_train_and_validation_data.shuffle(BUFFER_SIZE)\n",
    "\n",
    "# Extracting validation and train data:\n",
    "\n",
    "validation_data = shuffled_train_and_validation_data.take(num_validation_samples)\n",
    "train_data = shuffled_train_and_validation_data.skip(num_validation_samples)\n",
    "\n",
    "# Preparing for batching:\n",
    "\n",
    "# We will be using \"mini-batch gradient descent\" method as it is the train accuracy and speed is most optimal.\n",
    "# batch size = 1 is the stochastic gradient descent\n",
    "# batch size = num_samples is the sigle batch gradient descent\n",
    "# 1 < batch size < num_samples: mini-batch GD\n",
    "\n",
    "# A number of samples taken to each batch:\n",
    "\n",
    "BATCH_SIZE = 100\n",
    "\n",
    "train_data = train_data.batch(BATCH_SIZE)\n",
    "\n",
    "# Batching is needed for the train_data as it needs backpropagation. \n",
    "# Validation_data will need forward propagation so batching is not needed.\n",
    "\n",
    "# Note that batching is useful for updating weights, but doing it once per a batch is enough.\n",
    "\n",
    "# Whenever we validate or test we simply forward propagate once. \n",
    "# When we are batching during training we find an average LOSS\n",
    "\n",
    "# HOWEVER, the model needs to specify butching for validation_data and test_data:\n",
    "\n",
    "validation_data = validation_data.batch(num_validation_samples)\n",
    "test_data = scaled_test_data.batch(num_test_samples)\n",
    "\n",
    "validation_inputs, validation_targets = next(iter(validation_data))\n",
    "\n",
    "# iter() makes the elements of validation_data iterable; next() - loads the next element of the iterable object.\n"
   ]
  },
  {
   "cell_type": "markdown",
   "id": "ee278f94",
   "metadata": {},
   "source": [
    "## Model"
   ]
  },
  {
   "cell_type": "markdown",
   "id": "06e26ed1",
   "metadata": {},
   "source": [
    "### Outlining the model"
   ]
  },
  {
   "cell_type": "code",
   "execution_count": 4,
   "id": "50eb08c6",
   "metadata": {},
   "outputs": [],
   "source": [
    "input_size = 784\n",
    "output_size = 10\n",
    "hidden_layer_size = 300\n",
    "\n",
    "# Our data is 28*28*1 each input.\n",
    "\n",
    "model = tf.keras.Sequential([\n",
    "    tf.keras.layers.Flatten(input_shape = (28,28,1)),\n",
    "    tf.keras.layers.Dense(hidden_layer_size, activation = \"relu\"),\n",
    "    # tf.keras.layers.Dense(hidden_layer_size, activation = \"sigmoid\"),\n",
    "    tf.keras.layers.Dense(hidden_layer_size, activation = \"tanh\"),\n",
    "    tf.keras.layers.Dense(output_size, activation = \"softmax\")\n",
    "])"
   ]
  },
  {
   "cell_type": "markdown",
   "id": "a43463ea",
   "metadata": {},
   "source": [
    "### Optimizer and loss function"
   ]
  },
  {
   "cell_type": "code",
   "execution_count": 5,
   "id": "09855abb",
   "metadata": {},
   "outputs": [],
   "source": [
    "custom_optimizer = \"adam\"\n",
    "\n",
    "model.compile(optimizer = custom_optimizer, loss = \"sparse_categorical_crossentropy\", metrics = [\"accuracy\"])"
   ]
  },
  {
   "cell_type": "markdown",
   "id": "6506cf80",
   "metadata": {},
   "source": [
    "### Training "
   ]
  },
  {
   "cell_type": "code",
   "execution_count": 6,
   "id": "ec9f889d",
   "metadata": {},
   "outputs": [
    {
     "name": "stdout",
     "output_type": "stream",
     "text": [
      "Epoch 1/10\n",
      "540/540 - 12s - loss: 0.2316 - accuracy: 0.9305 - val_loss: 0.1169 - val_accuracy: 0.9658 - 12s/epoch - 23ms/step\n",
      "Epoch 2/10\n",
      "540/540 - 10s - loss: 0.0902 - accuracy: 0.9717 - val_loss: 0.0812 - val_accuracy: 0.9765 - 10s/epoch - 18ms/step\n",
      "Epoch 3/10\n",
      "540/540 - 9s - loss: 0.0596 - accuracy: 0.9810 - val_loss: 0.0483 - val_accuracy: 0.9855 - 9s/epoch - 16ms/step\n",
      "Epoch 4/10\n",
      "540/540 - 11s - loss: 0.0440 - accuracy: 0.9857 - val_loss: 0.0418 - val_accuracy: 0.9870 - 11s/epoch - 19ms/step\n",
      "Epoch 5/10\n",
      "540/540 - 10s - loss: 0.0340 - accuracy: 0.9889 - val_loss: 0.0352 - val_accuracy: 0.9890 - 10s/epoch - 18ms/step\n",
      "Epoch 6/10\n",
      "540/540 - 10s - loss: 0.0255 - accuracy: 0.9918 - val_loss: 0.0270 - val_accuracy: 0.9915 - 10s/epoch - 18ms/step\n",
      "Epoch 7/10\n",
      "540/540 - 11s - loss: 0.0222 - accuracy: 0.9923 - val_loss: 0.0199 - val_accuracy: 0.9938 - 11s/epoch - 20ms/step\n",
      "Epoch 8/10\n",
      "540/540 - 10s - loss: 0.0223 - accuracy: 0.9925 - val_loss: 0.0228 - val_accuracy: 0.9937 - 10s/epoch - 19ms/step\n"
     ]
    },
    {
     "data": {
      "text/plain": [
       "<keras.callbacks.History at 0x7fe480382f10>"
      ]
     },
     "execution_count": 6,
     "metadata": {},
     "output_type": "execute_result"
    }
   ],
   "source": [
    "NUM_EPOCHS = 10\n",
    "\n",
    "EARLY_STOPPING = tf.keras.callbacks.EarlyStopping(monitor = \"val_loss\", min_delta = 0, patience = 1)\n",
    "\n",
    "model.fit(train_data, \n",
    "          epochs = NUM_EPOCHS, \n",
    "          callbacks = [EARLY_STOPPING],\n",
    "          validation_data = (validation_inputs, validation_targets), \n",
    "          verbose = 2)"
   ]
  },
  {
   "cell_type": "markdown",
   "id": "eba1761a",
   "metadata": {},
   "source": [
    "### Testing"
   ]
  },
  {
   "cell_type": "code",
   "execution_count": 7,
   "id": "f9cb4a03",
   "metadata": {},
   "outputs": [
    {
     "name": "stdout",
     "output_type": "stream",
     "text": [
      "1/1 [==============================] - 1s 724ms/step - loss: 0.0790 - accuracy: 0.9787\n"
     ]
    }
   ],
   "source": [
    "test_loss, test_accuracy = model.evaluate(test_data)"
   ]
  },
  {
   "cell_type": "code",
   "execution_count": 8,
   "id": "49bf5018",
   "metadata": {},
   "outputs": [
    {
     "name": "stdout",
     "output_type": "stream",
     "text": [
      "Test loss: 0.08. Test accuracy: 97.87%.\n"
     ]
    }
   ],
   "source": [
    "print(\"Test loss: {:.2f}. Test accuracy: {:.2f}%.\".format(test_loss, test_accuracy * 100.))"
   ]
  },
  {
   "cell_type": "code",
   "execution_count": null,
   "id": "959a5386",
   "metadata": {},
   "outputs": [],
   "source": []
  }
 ],
 "metadata": {
  "kernelspec": {
   "display_name": "Python 3 (ipykernel)",
   "language": "python",
   "name": "python3"
  },
  "language_info": {
   "codemirror_mode": {
    "name": "ipython",
    "version": 3
   },
   "file_extension": ".py",
   "mimetype": "text/x-python",
   "name": "python",
   "nbconvert_exporter": "python",
   "pygments_lexer": "ipython3",
   "version": "3.9.13"
  }
 },
 "nbformat": 4,
 "nbformat_minor": 5
}
