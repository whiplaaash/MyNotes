{
 "cells": [
  {
   "cell_type": "markdown",
   "id": "3f6a7131",
   "metadata": {},
   "source": [
    "# Lesson 1: Basics of Python"
   ]
  },
  {
   "cell_type": "markdown",
   "id": "646f52dc",
   "metadata": {},
   "source": [
    "## Variables:"
   ]
  },
  {
   "cell_type": "code",
   "execution_count": 7,
   "id": "ced98f9d",
   "metadata": {},
   "outputs": [],
   "source": [
    "x = 5              # Use hash \"#\" to comment. "
   ]
  },
  {
   "cell_type": "code",
   "execution_count": 9,
   "id": "8dcafd4c",
   "metadata": {},
   "outputs": [
    {
     "data": {
      "text/plain": [
       "5"
      ]
     },
     "execution_count": 9,
     "metadata": {},
     "output_type": "execute_result"
    }
   ],
   "source": [
    "x                  # Use Shift+Enter to execute"
   ]
  },
  {
   "cell_type": "code",
   "execution_count": 10,
   "id": "95add1e7",
   "metadata": {},
   "outputs": [],
   "source": [
    "x,y = (1,2)        # Defining more than one variables. We have to have the same number of variables and values."
   ]
  },
  {
   "cell_type": "code",
   "execution_count": 46,
   "id": "d46652cb",
   "metadata": {},
   "outputs": [
    {
     "data": {
      "text/plain": [
       "True"
      ]
     },
     "execution_count": 46,
     "metadata": {},
     "output_type": "execute_result"
    }
   ],
   "source": [
    "a = 6              # Assigning an integer 6 to \"a\".\n",
    "b = 0.5            # Assigning a float 0.5 to \"b\".\n",
    "c = \"ala\"          # Assigning a string (text) to \"c\". String should be inside \"\" or inside ''.\n",
    "d = True           # Assigning a boolean (True or False) to \"d\". Use capital letters to define booleans.\n",
    "\n",
    "type(d)            # This function returns the type of a variable. It can be \"int\", \"float\", \"str\" or \"bool\".\n",
    "type(\"kla\")        # type() function can be used directly to a value.\n",
    "\n",
    "int(b)             # These functions change a given value into \"int\", \"float\", \"str\", or \"bool\" values.\n",
    "float(a)\n",
    "str(b)\n",
    "bool(b)"
   ]
  },
  {
   "cell_type": "markdown",
   "id": "f085950c",
   "metadata": {},
   "source": [
    "## Printing text"
   ]
  },
  {
   "cell_type": "code",
   "execution_count": 47,
   "id": "eb096d3e",
   "metadata": {
    "scrolled": true
   },
   "outputs": [
    {
     "name": "stdout",
     "output_type": "stream",
     "text": [
      "6\n",
      "1 Dollar\n"
     ]
    }
   ],
   "source": [
    "print(a)                      # This functions displays (or prints) a given value. The output shows up \n",
    "                              # without quotes.\n",
    "print(str(x) + \" Dollar\")     # If we have different types of values, we should unify them and convert them \n",
    "                              # to a string type to display everything correctly. Here an int \"x\" was \n",
    "                              # converted to a string."
   ]
  },
  {
   "cell_type": "code",
   "execution_count": 53,
   "id": "8caeed93",
   "metadata": {},
   "outputs": [
    {
     "data": {
      "text/plain": [
       "'Press \"Enter\"'"
      ]
     },
     "execution_count": 53,
     "metadata": {},
     "output_type": "execute_result"
    }
   ],
   "source": [
    "\"I'm fine\"         # If I have an apostrophe inside a sentence, I have to use \"\", a not '' to define \n",
    "                   # the text of the sentence.\n",
    "\n",
    "'I\\'m fine'        # Alternatively, \"\\\" can be used together with single quatation marks ''.\n",
    "\n",
    "'Press \"Enter\"'    # Another alternative."
   ]
  },
  {
   "cell_type": "code",
   "execution_count": 68,
   "id": "f3d616d8",
   "metadata": {},
   "outputs": [
    {
     "name": "stdout",
     "output_type": "stream",
     "text": [
      "Ala ma kota\n",
      "Ala ma kota\n"
     ]
    },
    {
     "data": {
      "text/plain": [
       "(3, 5, 'gol')"
      ]
     },
     "execution_count": 68,
     "metadata": {},
     "output_type": "execute_result"
    }
   ],
   "source": [
    "\"Ala \" \"ma \" \"kota\"             # Adding three strings. Note the apca must be added in an appropriate place.\n",
    "\"Ala \" + \"ma \" + \"kota\"         # Alternative.\n",
    "print(\"Ala \" + \"ma \" + \"kota\")  # Alternative, but the output text appears without quatation marks.\n",
    "print(\"Ala\", \"ma\", \"kota\")      # Alternative, but the comas can be used to replace the spaces.\n",
    "3, 5, \"gol\"                     # Alternative, but all values will show up inside the parantheses ()."
   ]
  },
  {
   "cell_type": "markdown",
   "id": "e7aa4790",
   "metadata": {},
   "source": [
    "## Operators"
   ]
  },
  {
   "cell_type": "code",
   "execution_count": 81,
   "id": "072c2f8d",
   "metadata": {},
   "outputs": [
    {
     "data": {
      "text/plain": [
       "(5, 2, 5.333333333333333, 27.2, 1, 8)"
      ]
     },
     "execution_count": 81,
     "metadata": {},
     "output_type": "execute_result"
    }
   ],
   "source": [
    "x,y = 2 + 3, 4 - 2   # Sum and difference is made by using \"+\" and \"-\" signs.   \n",
    "w,z = 16/3, 3.4*8    # Division and multiplication. In Python2 we would have to use 16.0/3 to get it correctly.\n",
    "m = 16 % 3           # Remainder of the division\n",
    "k = 2**3             # Power\n",
    "\n",
    "x,y,w,z,m,k"
   ]
  },
  {
   "cell_type": "code",
   "execution_count": 100,
   "id": "770d9531",
   "metadata": {},
   "outputs": [
    {
     "data": {
      "text/plain": [
       "True"
      ]
     },
     "execution_count": 100,
     "metadata": {},
     "output_type": "execute_result"
    }
   ],
   "source": [
    "p = 5     # Assigning the value\n",
    "p == 6    # Checking the condition: is p eqal to 6? The answer is always a boolean type.\n",
    "p != 3    # Verifying whether the left side is not equal to the right side.\n",
    "p > 3\n",
    "p < 7\n",
    "p >= 4     # Is p bigger or equal than 4? \n",
    "p <= 6     # Is p smaller or equal than 6?"
   ]
  },
  {
   "cell_type": "code",
   "execution_count": 106,
   "id": "6b407539",
   "metadata": {},
   "outputs": [
    {
     "data": {
      "text/plain": [
       "True"
      ]
     },
     "execution_count": 106,
     "metadata": {},
     "output_type": "execute_result"
    }
   ],
   "source": [
    "True and True     # \"and\" operator results in True, only when both sides are True, otherwise it is False.\n",
    "2 < 3 and 1 < 8   # Example of using \"and\".\n",
    "True or False     # \"or\" operator results in True, when at least one side is True, otherwise is False.\n",
    "2 > 4 or 4 < 6    # Example of using \"or\".\n",
    "not False         # \"not\" operator is negation.\n",
    "\n",
    "1 < 3 and not False or 2 > 7  # The order of importance: not - and - or "
   ]
  },
  {
   "cell_type": "code",
   "execution_count": 86,
   "id": "a4f7a775",
   "metadata": {},
   "outputs": [
    {
     "data": {
      "text/plain": [
       "6"
      ]
     },
     "execution_count": 86,
     "metadata": {},
     "output_type": "execute_result"
    }
   ],
   "source": [
    "4*3 + 3 - \\\n",
    "9                     # In case of long expression we divide it into two lines, then \"\\\" must be added \n",
    "                      # at the end of the first line."
   ]
  },
  {
   "cell_type": "markdown",
   "id": "54f4d197",
   "metadata": {},
   "source": [
    "## Indexing "
   ]
  },
  {
   "cell_type": "code",
   "execution_count": 87,
   "id": "c194a324",
   "metadata": {},
   "outputs": [
    {
     "data": {
      "text/plain": [
       "'d'"
      ]
     },
     "execution_count": 87,
     "metadata": {},
     "output_type": "execute_result"
    }
   ],
   "source": [
    "\"Friday\"\n",
    "\"Friday\"[3]    # We extract \"d\" from the world \"Friday\". Note this is the fourth element, but in Python we \n",
    "               # count from 0,1,2,..."
   ]
  },
  {
   "cell_type": "code",
   "execution_count": null,
   "id": "09924a19",
   "metadata": {},
   "outputs": [],
   "source": []
  }
 ],
 "metadata": {
  "kernelspec": {
   "display_name": "Python 3 (ipykernel)",
   "language": "python",
   "name": "python3"
  },
  "language_info": {
   "codemirror_mode": {
    "name": "ipython",
    "version": 3
   },
   "file_extension": ".py",
   "mimetype": "text/x-python",
   "name": "python",
   "nbconvert_exporter": "python",
   "pygments_lexer": "ipython3",
   "version": "3.8.5"
  }
 },
 "nbformat": 4,
 "nbformat_minor": 5
}
