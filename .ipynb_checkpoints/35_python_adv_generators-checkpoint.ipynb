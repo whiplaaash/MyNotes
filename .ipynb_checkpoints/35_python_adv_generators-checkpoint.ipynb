{
 "cells": [
  {
   "cell_type": "markdown",
   "id": "ae25f1c7",
   "metadata": {},
   "source": [
    "# Lesson 35: Python Advanced - Generators"
   ]
  },
  {
   "cell_type": "markdown",
   "id": "7ecaae3f",
   "metadata": {},
   "source": [
    "## Generators and yields"
   ]
  },
  {
   "cell_type": "code",
   "execution_count": 1,
   "id": "c40fd375",
   "metadata": {},
   "outputs": [
    {
     "name": "stdout",
     "output_type": "stream",
     "text": [
      "2000-01-01\n",
      "2000-01-02\n",
      "2000-01-03\n"
     ]
    }
   ],
   "source": [
    "# Generators produce visible results when they are asked to do it.\n",
    "\n",
    "# We will create a generator using the following class, where we replace an iterator by generator:\n",
    "\n",
    "import datetime as dt\n",
    "\n",
    "class MillionDays:\n",
    "    \n",
    "    def __init__(self, year, month, day, maxdays):\n",
    "        self.date = dt.date(year, month, day)\n",
    "        self.maxdays = maxdays\n",
    "    \n",
    "    def __next__(self):\n",
    "        if self.maxdays <= 0:\n",
    "            raise StopIteration()\n",
    "        ret = self.date\n",
    "        self.date += dt.timedelta(days = 1)\n",
    "        self.maxdays -= 1\n",
    "        return ret\n",
    "    \n",
    "    def __iter__(self):\n",
    "        return self\n",
    "    \n",
    "md = MillionDays(2000, 1, 1, 3)\n",
    "\n",
    "for d in md:\n",
    "    print(d)"
   ]
  },
  {
   "cell_type": "code",
   "execution_count": 2,
   "id": "67727219",
   "metadata": {},
   "outputs": [
    {
     "name": "stdout",
     "output_type": "stream",
     "text": [
      "2000-01-01\n",
      "2000-01-02\n",
      "2000-01-03\n"
     ]
    }
   ],
   "source": [
    "# Generator is a function:\n",
    "\n",
    "def MillionDays(year, month, day, maxdays):\n",
    "        date = dt.date(year, month, day)\n",
    "        \n",
    "        for i in range(maxdays):\n",
    "            yield(date + dt.timedelta(days = i))\n",
    "            \n",
    "# \"yield\" is used to return the results of the function and to freeze it. \n",
    "# The next results will be generated only when the function will be called again and again.\n",
    "\n",
    "# Calling the function (note that the function is called d times and each case returns the frozen result):\n",
    "\n",
    "for d in MillionDays(2000, 1, 1, 3):\n",
    "    print(d)"
   ]
  },
  {
   "cell_type": "code",
   "execution_count": 3,
   "id": "2750f297",
   "metadata": {},
   "outputs": [
    {
     "name": "stdout",
     "output_type": "stream",
     "text": [
      "22\n",
      "3\n"
     ]
    }
   ],
   "source": [
    "# Another example of a generator with yield:\n",
    "\n",
    "def GetMagicNumbers():\n",
    "    yield(22)\n",
    "    yield(3)\n",
    "    yield(17)\n",
    "    \n",
    "    \n",
    "# To call this function:\n",
    "\n",
    "r = GetMagicNumbers()\n",
    "print(next(r))\n",
    "print(next(r))\n",
    "\n",
    "# If I call the function 4 times, I will get an error StopIteration()\n",
    "\n",
    "# It is probably better to use \"for\" loop:\n",
    "\n",
    "# for m in r:\n",
    "# print(m)\n",
    "\n",
    "# It would return anly those values which are defined in the generator.\n",
    "\n",
    "# Generating values only when they are needed is called Lazy Evaluation.\n",
    "# Main advanted of generators (over for example the class with an iterator) is memory saving.\n"
   ]
  },
  {
   "cell_type": "markdown",
   "id": "6de12fc1",
   "metadata": {},
   "source": [
    "## Example of generator - data stream"
   ]
  },
  {
   "cell_type": "code",
   "execution_count": 4,
   "id": "5d2a766e",
   "metadata": {},
   "outputs": [
    {
     "name": "stdout",
     "output_type": "stream",
     "text": [
      "ACTION: GET STATUS\n",
      "ACTION: GET STATUS \n",
      "ACTION: CALL OPERATOR\n"
     ]
    }
   ],
   "source": [
    "# We have a piece of code, which has to do some actions, and it is written in a separate file\n",
    "\n",
    "file = open(r\"data_file.txt\")\n",
    "\n",
    "data = file.read()\n",
    "\n",
    "file.close()\n",
    "\n",
    "for line in data.splitlines():\n",
    "    if line.startswith(\"ACTION\"):\n",
    "        print(line)\n",
    "\n",
    "# But, if we had big data then printing would overload the system."
   ]
  },
  {
   "cell_type": "code",
   "execution_count": 5,
   "id": "85c0b7ef",
   "metadata": {},
   "outputs": [
    {
     "name": "stdout",
     "output_type": "stream",
     "text": [
      "ACTION: GET STATUS\n",
      "ACTION: GET STATUS \n",
      "ACTION: CALL OPERATOR\n"
     ]
    }
   ],
   "source": [
    "# Let us try it in a different way:\n",
    "\n",
    "file = open(r\"data_file.txt\")\n",
    "\n",
    "for line in file:\n",
    "    if line.startswith(\"ACTION\"):\n",
    "        print(line.replace(\"\\n\",\"\"))\n",
    "        \n",
    "file.close()"
   ]
  },
  {
   "cell_type": "code",
   "execution_count": 6,
   "id": "91ad2d05",
   "metadata": {},
   "outputs": [
    {
     "name": "stdout",
     "output_type": "stream",
     "text": [
      "[('ALARM', ' WAITING FOR JOB'), ('ALARM', ' WAITING FOR JOB'), ('ERROR', ' TIMEOUT'), ('ACTION', ' GET STATUS'), ('ALARM', ' WAITING FOR STATUS'), ('ALARM', ' WAITING FOR STATUS'), ('ERROR', ' TIMEOUT'), ('ACTION', ' GET STATUS '), ('ALARM', ' WAITING FOR STATUS'), ('ALARM', ' WAITING FOR STATUS'), ('ERROR', ' TIMEOUT'), ('ACTION', ' CALL OPERATOR')]\n"
     ]
    }
   ],
   "source": [
    "# Now we want to complicate the example. We want to store the words before and after \":\" separately in \n",
    "# a new veriable so that \"action\" and its description will be stored separately.\n",
    "\n",
    "file = open(r\"data_file.txt\")\n",
    "\n",
    "\n",
    "records = []\n",
    "\n",
    "for line in file:\n",
    "    if \":\" in line:\n",
    "        type, action = line.rstrip(\"\\n\").split(\":\",1)\n",
    "        record = (type, action)\n",
    "        records.append(record)\n",
    "        \n",
    "print(records)\n",
    "        \n",
    "file.close()\n",
    "\n",
    "# But again, in case of big data I will get a list of large memory size."
   ]
  },
  {
   "cell_type": "code",
   "execution_count": 7,
   "id": "b02c1a7a",
   "metadata": {},
   "outputs": [
    {
     "name": "stdout",
     "output_type": "stream",
     "text": [
      "-------- opening file ----------\n",
      "The type of action is ALARM, and the action is  WAITING FOR JOB\n",
      "The type of action is ALARM, and the action is  WAITING FOR JOB\n",
      "The type of action is ERROR, and the action is  TIMEOUT\n",
      "The type of action is ACTION, and the action is  GET STATUS\n",
      "The type of action is ALARM, and the action is  WAITING FOR STATUS\n",
      "The type of action is ALARM, and the action is  WAITING FOR STATUS\n",
      "The type of action is ERROR, and the action is  TIMEOUT\n",
      "The type of action is ACTION, and the action is  GET STATUS \n",
      "The type of action is ALARM, and the action is  WAITING FOR STATUS\n",
      "The type of action is ALARM, and the action is  WAITING FOR STATUS\n",
      "The type of action is ERROR, and the action is  TIMEOUT\n",
      "The type of action is ACTION, and the action is  CALL OPERATOR\n",
      "-------- closing file ----------\n"
     ]
    }
   ],
   "source": [
    "# Let us build a generator:\n",
    "\n",
    "def GetRecords(filePath):\n",
    "    print(\"-------- opening file ----------\")\n",
    "    file = open(filePath)\n",
    "    \n",
    "    for line in file:\n",
    "        if \":\" in line:\n",
    "            type, action = line.rstrip(\"\\n\").split(\":\",1)\n",
    "            record = (type, action)\n",
    "\n",
    "            # Note that now we inactivate the next results, which are btw tuples:\n",
    "\n",
    "            yield(record)\n",
    "    \n",
    "    print(\"-------- closing file ----------\")\n",
    "    file.close()\n",
    "    \n",
    "for record in GetRecords(r\"data_file.txt\"):\n",
    "    print(\"The type of action is {}, and the action is {}\".format(record[0],record[1]))\n",
    "    \n",
    "# Note that now the values of record existed only when the \"for\" loop called them and then they were inactive.\n",
    "    "
   ]
  },
  {
   "cell_type": "markdown",
   "id": "fd34eb71",
   "metadata": {},
   "source": [
    "## Example of generator - grep() function"
   ]
  },
  {
   "cell_type": "code",
   "execution_count": 8,
   "id": "09e199ed",
   "metadata": {},
   "outputs": [
    {
     "name": "stdout",
     "output_type": "stream",
     "text": [
      "32_python_adv_class_extension.ipynb\n",
      "32_python_adv_class_extension.ipynb\n",
      "32_python_adv_class_extension.ipynb\n",
      "32_python_adv_class_extension.ipynb\n",
      "35_python_adv_generators.ipynb\n",
      "35_python_adv_generators.ipynb\n",
      "35_python_adv_generators.ipynb\n",
      "35_python_adv_generators.ipynb\n",
      "35_python_adv_generators.ipynb\n"
     ]
    }
   ],
   "source": [
    "# grep() - looks for a chain of chacracters in system files\n",
    "\n",
    "import os\n",
    "\n",
    "path = r\"/home/alina/Dokumenty/Data-Science-World/my_python\"\n",
    "search_string = \"Ford\"\n",
    "file_extension = \".ipynb\"\n",
    "\n",
    "# To show all directories, and files in a given path I can use:\n",
    "\n",
    "#for dir_name, subdirs, filenames in os.walk(path):\n",
    "#    print(dir_name, subdirs, filenames)\n",
    "\n",
    "# To search for a given word in a given file:\n",
    "\n",
    "for dir_name, subdirs, filenames in os.walk(path):\n",
    "    for filename in filenames:\n",
    "        if filename.endswith(file_extension):\n",
    "            fullFileName = os.path.join(dir_name, filename)\n",
    "            for line in open(fullFileName):\n",
    "                if search_string in line:\n",
    "                    print(filename)\n",
    "                    "
   ]
  },
  {
   "cell_type": "code",
   "execution_count": 9,
   "id": "86bd96a4",
   "metadata": {},
   "outputs": [
    {
     "name": "stdout",
     "output_type": "stream",
     "text": [
      "/home/alina/Dokumenty/Data-Science-World/my_python/32_python_adv_class_extension.ipynb\n",
      "/home/alina/Dokumenty/Data-Science-World/my_python/35_python_adv_generators.ipynb\n"
     ]
    }
   ],
   "source": [
    "# I create a generator which will be searching files of a given extension:\n",
    "\n",
    "def generate_files(base_dir, file_extension):\n",
    "    for dir_name, subdirs, filenames in os.walk(base_dir):\n",
    "        for filename in filenames:\n",
    "            if filename.endswith(file_extension):\n",
    "                fullFileName = os.path.join(dir_name, filename)\n",
    "                \n",
    "                yield fullFileName\n",
    "                \n",
    "\n",
    "# I create the next generator which will be searching a given word in files:\n",
    "\n",
    "def grep_files(search_string, files):\n",
    "    for file in files:\n",
    "        with open(file) as text:\n",
    "            if search_string in text.read():\n",
    "                yield file\n",
    "\n",
    "# Calling first generator:\n",
    "\n",
    "files_generator = generate_files(path, file_extension)\n",
    "\n",
    "# Calling second generator:\n",
    "\n",
    "for file in grep_files(search_string, files_generator):\n",
    "    print(file)\n",
    "    "
   ]
  },
  {
   "cell_type": "markdown",
   "id": "b1d5a4b6",
   "metadata": {},
   "source": [
    "## Itertools - permutations and combinations"
   ]
  },
  {
   "cell_type": "code",
   "execution_count": 10,
   "id": "adf5e3e1",
   "metadata": {},
   "outputs": [
    {
     "name": "stdout",
     "output_type": "stream",
     "text": [
      "('a', 'b', 'c')\n",
      "('a', 'b', 'd')\n",
      "('a', 'c', 'd')\n",
      "('b', 'c', 'd')\n"
     ]
    }
   ],
   "source": [
    "# Generators can be nicely used in combinations and permutations which belong to the package itertools:\n",
    "\n",
    "import itertools as it\n",
    "\n",
    "myList = [\"a\", \"b\", \"c\", \"d\"]\n",
    "\n",
    "for combination in it.combinations(myList, 3):\n",
    "    print(combination)\n",
    "    \n",
    "# For combinations the order of elements is not relevant."
   ]
  },
  {
   "cell_type": "code",
   "execution_count": 11,
   "id": "231f13b7",
   "metadata": {},
   "outputs": [
    {
     "name": "stdout",
     "output_type": "stream",
     "text": [
      "('a', 'b', 'c')\n",
      "('a', 'b', 'd')\n",
      "('a', 'c', 'b')\n",
      "('a', 'c', 'd')\n",
      "('a', 'd', 'b')\n",
      "('a', 'd', 'c')\n",
      "('b', 'a', 'c')\n",
      "('b', 'a', 'd')\n",
      "('b', 'c', 'a')\n",
      "('b', 'c', 'd')\n",
      "('b', 'd', 'a')\n",
      "('b', 'd', 'c')\n",
      "('c', 'a', 'b')\n",
      "('c', 'a', 'd')\n",
      "('c', 'b', 'a')\n",
      "('c', 'b', 'd')\n",
      "('c', 'd', 'a')\n",
      "('c', 'd', 'b')\n",
      "('d', 'a', 'b')\n",
      "('d', 'a', 'c')\n",
      "('d', 'b', 'a')\n",
      "('d', 'b', 'c')\n",
      "('d', 'c', 'a')\n",
      "('d', 'c', 'b')\n"
     ]
    }
   ],
   "source": [
    "# If order is important then I need to do permuatations:\n",
    "\n",
    "for permutation in it.permutations(myList, 3):\n",
    "    print(permutation)"
   ]
  },
  {
   "cell_type": "code",
   "execution_count": 12,
   "id": "ebedf2ce",
   "metadata": {},
   "outputs": [
    {
     "name": "stdout",
     "output_type": "stream",
     "text": [
      "('a', 'a', 'a')\n",
      "('a', 'a', 'b')\n",
      "('a', 'a', 'c')\n",
      "('a', 'a', 'd')\n",
      "('a', 'b', 'b')\n",
      "('a', 'b', 'c')\n",
      "('a', 'b', 'd')\n",
      "('a', 'c', 'c')\n",
      "('a', 'c', 'd')\n",
      "('a', 'd', 'd')\n",
      "('b', 'b', 'b')\n",
      "('b', 'b', 'c')\n",
      "('b', 'b', 'd')\n",
      "('b', 'c', 'c')\n",
      "('b', 'c', 'd')\n",
      "('b', 'd', 'd')\n",
      "('c', 'c', 'c')\n",
      "('c', 'c', 'd')\n",
      "('c', 'd', 'd')\n",
      "('d', 'd', 'd')\n"
     ]
    }
   ],
   "source": [
    "# If I need combinations with repetition:\n",
    "\n",
    "for combination in it.combinations_with_replacement(myList, 3):\n",
    "    print(combination)\n"
   ]
  },
  {
   "cell_type": "code",
   "execution_count": 13,
   "id": "aea31f54",
   "metadata": {},
   "outputs": [
    {
     "name": "stdout",
     "output_type": "stream",
     "text": [
      "(20, 20, 20, 10, 10, 10, 5, 1, 1, 1, 1, 1)\n",
      "(20, 20, 20, 20, 10, 10)\n",
      "(20, 20, 20, 10, 10, 10, 5, 5)\n",
      "(20, 20, 20, 20, 10, 5, 1, 1, 1, 1, 1)\n",
      "(20, 20, 20, 20, 10, 5, 5)\n"
     ]
    }
   ],
   "source": [
    "# Example: I have wallet with money and in how many ways I can pay 100 PLN:\n",
    "\n",
    "myMoney = [20, 20, 20, 20, 10, 10, 10, 5, 5, 1, 1, 1, 1, 1]\n",
    "\n",
    "# I choose an arbitrary number of combinations:\n",
    "\n",
    "results = []\n",
    "\n",
    "for i in range(1, 101):\n",
    "    for combination in it.combinations(myMoney, i):\n",
    "        if sum(combination) == 100:\n",
    "            results.append(combination)\n",
    "            \n",
    "# I convert my list to a set (which has no ordering and results do not repeat)\n",
    "\n",
    "results = set(results)\n",
    "\n",
    "for result in results:\n",
    "    print(result)"
   ]
  },
  {
   "cell_type": "code",
   "execution_count": 14,
   "id": "ab26e2cb",
   "metadata": {},
   "outputs": [
    {
     "data": {
      "text/plain": [
       "[(50, 50),\n",
       " (50, 20, 20, 10),\n",
       " (50, 20, 10, 10, 10),\n",
       " (20, 20, 20, 20, 20),\n",
       " (50, 10, 10, 10, 10, 10),\n",
       " (20, 20, 20, 20, 10, 10),\n",
       " (20, 20, 20, 10, 10, 10, 10),\n",
       " (20, 20, 10, 10, 10, 10, 10, 10),\n",
       " (20, 10, 10, 10, 10, 10, 10, 10, 10),\n",
       " (10, 10, 10, 10, 10, 10, 10, 10, 10, 10)]"
      ]
     },
     "execution_count": 14,
     "metadata": {},
     "output_type": "execute_result"
    }
   ],
   "source": [
    "# How many ways I can get 100 PLN if my money is 50, 20, 10, but I can have many banknotes of each type.\n",
    "\n",
    "myMoney = [50, 20, 10]\n",
    "\n",
    "results =[]\n",
    "\n",
    "for i in range(1, 101):\n",
    "    for combination in it.combinations_with_replacement(myMoney, i):\n",
    "        if sum(combination) == 100:\n",
    "            results.append(combination)\n",
    "            \n",
    "results\n",
    "\n",
    "# Note however that if I add more distinguished values to myList, the process of calculation of all combinations\n",
    "# ce be very long. So for big data it is much more convenient to use generators and choose only those results\n",
    "# which are needed."
   ]
  },
  {
   "cell_type": "markdown",
   "id": "c08940d4",
   "metadata": {},
   "source": [
    "## Itertools - grouping data"
   ]
  },
  {
   "cell_type": "code",
   "execution_count": 15,
   "id": "02945354",
   "metadata": {},
   "outputs": [
    {
     "name": "stdout",
     "output_type": "stream",
     "text": [
      "The key is ACTION and the group is 3\n",
      "The key is ALARM and the group is 6\n",
      "The key is ERROR and the group is 3\n"
     ]
    }
   ],
   "source": [
    "# We wan to group data which are available in the file data_file.txt (it was used before):\n",
    "\n",
    "import itertools as it\n",
    "\n",
    "file_path = r\"data_file.txt\"\n",
    "\n",
    "data = []\n",
    "\n",
    "with open(file_path) as file:\n",
    "    for line in file:\n",
    "        elements = line.rstrip(\"\\n\").split(\":\",1)\n",
    "        d = {\"type\" : elements[0], \"action\" : elements[1]}\n",
    "        data.append(d)\n",
    "        \n",
    "#print(data)\n",
    "\n",
    "# The data must be sorted, otherwise groupby() will not work correctly.\n",
    "\n",
    "data = sorted(data, key = lambda x: x[\"type\"])\n",
    "\n",
    "for key, elements in it.groupby(data, key = lambda x: x[\"type\"]):\n",
    "    print(\"The key is {} and the group is {}\".format(key, len(list(elements))))"
   ]
  },
  {
   "cell_type": "markdown",
   "id": "ddd3f671",
   "metadata": {},
   "source": [
    "## Itertools - overview of functions"
   ]
  },
  {
   "cell_type": "code",
   "execution_count": 16,
   "id": "919b730c",
   "metadata": {},
   "outputs": [
    {
     "name": "stdout",
     "output_type": "stream",
     "text": [
      "1\n",
      "2\n",
      "6\n",
      "24\n",
      "120\n"
     ]
    }
   ],
   "source": [
    "# accumulate()\n",
    "\n",
    "import itertools as it\n",
    "import operator\n",
    "\n",
    "data = [1, 2, 3, 4, 5]\n",
    "\n",
    "# operator.mu - means that the function accumulate returns a value coming from multiplication of all elements\n",
    "# up to \"each\".\n",
    "\n",
    "result = it.accumulate(data, operator.mul)\n",
    "for each in result:\n",
    "    print(each)"
   ]
  },
  {
   "cell_type": "code",
   "execution_count": 17,
   "id": "f8ee48c0",
   "metadata": {},
   "outputs": [
    {
     "name": "stdout",
     "output_type": "stream",
     "text": [
      "1\n",
      "4\n",
      "6\n",
      "6\n",
      "6\n"
     ]
    }
   ],
   "source": [
    "# Here it return max value found up to \"each\":\n",
    "\n",
    "data = [1, 4, 6, 3, 2]\n",
    "\n",
    "result = it.accumulate(data, max)\n",
    "for each in result:\n",
    "    print(each)"
   ]
  },
  {
   "cell_type": "code",
   "execution_count": 18,
   "id": "ffc3d16e",
   "metadata": {},
   "outputs": [
    {
     "name": "stdout",
     "output_type": "stream",
     "text": [
      "10\n",
      "13\n",
      "16\n",
      "19\n",
      "22\n"
     ]
    }
   ],
   "source": [
    "# count(start, step):\n",
    "\n",
    "for i in it.count(10, 3):\n",
    "    print(i)\n",
    "    if i > 20:\n",
    "        break"
   ]
  },
  {
   "cell_type": "code",
   "execution_count": 19,
   "id": "1e9c0c23",
   "metadata": {},
   "outputs": [],
   "source": [
    "# cycle(list):\n",
    "# it goes cyclicly through a list over and over again and never stops\n",
    "\n",
    "#for i in it.cycle(data):\n",
    "#    print(i)"
   ]
  },
  {
   "cell_type": "code",
   "execution_count": 20,
   "id": "fca1e10b",
   "metadata": {},
   "outputs": [
    {
     "name": "stdout",
     "output_type": "stream",
     "text": [
      "red\n",
      "blue\n",
      "black\n",
      "green\n",
      "white\n",
      "yellow\n"
     ]
    }
   ],
   "source": [
    "# chain() - combines two lists:\n",
    "\n",
    "colors_1 = [\"red\", \"blue\", \"black\"]\n",
    "colors_2 = [\"green\", \"white\", \"yellow\"]\n",
    "\n",
    "result = it.chain(colors_1, colors_2)\n",
    "for each in result:\n",
    "    print(each)"
   ]
  },
  {
   "cell_type": "code",
   "execution_count": 21,
   "id": "0eb3281e",
   "metadata": {},
   "outputs": [
    {
     "name": "stdout",
     "output_type": "stream",
     "text": [
      "Toyota\n",
      "Opel\n"
     ]
    }
   ],
   "source": [
    "# compress(data, selectors):\n",
    "\n",
    "cars = [\"Toyota\", \"Ford\", \"Opel\"]\n",
    "selections = [True, False, True]\n",
    "\n",
    "result = it.compress(cars, selections)\n",
    "\n",
    "for each in result:\n",
    "    print(each)"
   ]
  },
  {
   "cell_type": "code",
   "execution_count": 22,
   "id": "df6c0f0e",
   "metadata": {},
   "outputs": [
    {
     "name": "stdout",
     "output_type": "stream",
     "text": [
      "4\n",
      "6\n",
      "8\n",
      "9\n",
      "3\n",
      "5\n"
     ]
    }
   ],
   "source": [
    "# dropwhile(condition, data) - it drops all values up to the condition is satisfied, then it return all values\n",
    "\n",
    "data = [1, 2, 4, 6, 8, 9, 3, 5]\n",
    "\n",
    "result = it.dropwhile(lambda x: x < 4, data)\n",
    "for each in result:\n",
    "    print(each)"
   ]
  },
  {
   "cell_type": "code",
   "execution_count": 23,
   "id": "4f850b4a",
   "metadata": {},
   "outputs": [
    {
     "name": "stdout",
     "output_type": "stream",
     "text": [
      "4\n",
      "6\n",
      "8\n",
      "9\n",
      "5\n"
     ]
    }
   ],
   "source": [
    "# filterfalse() - drops all values that do not satisfy the condition: (compare to dropwhile)\n",
    "\n",
    "result = it.filterfalse(lambda x: x < 4, data)\n",
    "for each in result:\n",
    "    print(each)"
   ]
  },
  {
   "cell_type": "code",
   "execution_count": 24,
   "id": "1991e97d",
   "metadata": {},
   "outputs": [
    {
     "name": "stdout",
     "output_type": "stream",
     "text": [
      "mar\n",
      "apr\n"
     ]
    }
   ],
   "source": [
    "# islice(data, start, stop) - selecting some values from a list by giving their positions in this list:\n",
    "\n",
    "months = [\"jan\", \"feb\", \"mar\", \"apr\", \"may\"]\n",
    "\n",
    "result = it.islice(months, 2, 4)\n",
    "for each in result:\n",
    "    print(each)"
   ]
  },
  {
   "cell_type": "code",
   "execution_count": 25,
   "id": "acbbb0ed",
   "metadata": {},
   "outputs": [
    {
     "name": "stdout",
     "output_type": "stream",
     "text": [
      "('jan', 'mon')\n",
      "('jan', 'tue')\n",
      "('jan', 'wed')\n",
      "('jan', 'thu')\n",
      "('jan', 'fri')\n",
      "('feb', 'mon')\n",
      "('feb', 'tue')\n",
      "('feb', 'wed')\n",
      "('feb', 'thu')\n",
      "('feb', 'fri')\n",
      "('mar', 'mon')\n",
      "('mar', 'tue')\n",
      "('mar', 'wed')\n",
      "('mar', 'thu')\n",
      "('mar', 'fri')\n",
      "('apr', 'mon')\n",
      "('apr', 'tue')\n",
      "('apr', 'wed')\n",
      "('apr', 'thu')\n",
      "('apr', 'fri')\n",
      "('may', 'mon')\n",
      "('may', 'tue')\n",
      "('may', 'wed')\n",
      "('may', 'thu')\n",
      "('may', 'fri')\n"
     ]
    }
   ],
   "source": [
    "# product(data_1, data_2)\n",
    "\n",
    "days = [\"mon\", \"tue\", \"wed\", \"thu\", \"fri\"]\n",
    "\n",
    "result = it.product(months, days)\n",
    "for each in result:\n",
    "    print(each)"
   ]
  },
  {
   "cell_type": "code",
   "execution_count": 26,
   "id": "1d1c6a6f",
   "metadata": {},
   "outputs": [
    {
     "name": "stdout",
     "output_type": "stream",
     "text": [
      "no\n",
      "no\n",
      "no\n",
      "no\n",
      "no\n"
     ]
    }
   ],
   "source": [
    "# repeat(what, times):\n",
    "\n",
    "what = \"no\"\n",
    "\n",
    "result = it.repeat(what, 5)\n",
    "for each in result:\n",
    "    print(each)"
   ]
  },
  {
   "cell_type": "code",
   "execution_count": 27,
   "id": "3e79da5c",
   "metadata": {},
   "outputs": [
    {
     "name": "stdout",
     "output_type": "stream",
     "text": [
      "3\n",
      "7\n",
      "11\n"
     ]
    }
   ],
   "source": [
    "# startmap(function, data):\n",
    "\n",
    "data = [(1, 2), (3, 4), (5, 6)]\n",
    "\n",
    "# it adds up only 2 elements in the tuple in the list (and no more)\n",
    "\n",
    "result = it.starmap(operator.add, data)\n",
    "for each in result:\n",
    "    print(each)"
   ]
  },
  {
   "cell_type": "code",
   "execution_count": 28,
   "id": "8e8dddf9",
   "metadata": {},
   "outputs": [
    {
     "name": "stdout",
     "output_type": "stream",
     "text": [
      "1\n",
      "2\n"
     ]
    }
   ],
   "source": [
    "# takewhile(condition, data) - opposite to dropwhile()\n",
    "\n",
    "data = [1, 2, 4, 6, 8, 9, 3, 5]\n",
    "\n",
    "result = it.takewhile(lambda x: x < 4, data)\n",
    "for each in result:\n",
    "    print(each)"
   ]
  },
  {
   "cell_type": "code",
   "execution_count": 29,
   "id": "314a2004",
   "metadata": {},
   "outputs": [
    {
     "name": "stdout",
     "output_type": "stream",
     "text": [
      "Toyota\n",
      "Ford\n",
      "Opel\n",
      "*********\n",
      "Toyota\n",
      "Ford\n",
      "Opel\n"
     ]
    }
   ],
   "source": [
    "# tee() - to generate a copy of iterator:\n",
    "\n",
    "cars = [\"Toyota\", \"Ford\", \"Opel\"]\n",
    "\n",
    "cars1, cars2 = it.tee(cars, 2)\n",
    "\n",
    "for each in cars1:\n",
    "    print(each)\n",
    "    \n",
    "print(\"*********\")\n",
    "\n",
    "for each in cars2:\n",
    "    print(each)"
   ]
  },
  {
   "cell_type": "code",
   "execution_count": 31,
   "id": "7ab414ce",
   "metadata": {},
   "outputs": [
    {
     "name": "stdout",
     "output_type": "stream",
     "text": [
      "('ala', 'mon')\n",
      "('ola', 'tue')\n",
      "('jola', 'wed')\n",
      "('ula', 'unknown')\n",
      "('viola', 'unknown')\n"
     ]
    }
   ],
   "source": [
    "# zip_longest() - to zip lists that have different lengths\n",
    "\n",
    "list_1 = [\"ala\", \"ola\", \"jola\", \"ula\", \"viola\"]\n",
    "list_2 = [\"mon\", \"tue\", \"wed\"]\n",
    "\n",
    "result = it.zip_longest(list_1, list_2, fillvalue = \"unknown\")\n",
    "\n",
    "for each in result:\n",
    "    print(each)"
   ]
  },
  {
   "cell_type": "code",
   "execution_count": null,
   "id": "3db46be4",
   "metadata": {},
   "outputs": [],
   "source": []
  }
 ],
 "metadata": {
  "kernelspec": {
   "display_name": "Python 3 (ipykernel)",
   "language": "python",
   "name": "python3"
  },
  "language_info": {
   "codemirror_mode": {
    "name": "ipython",
    "version": 3
   },
   "file_extension": ".py",
   "mimetype": "text/x-python",
   "name": "python",
   "nbconvert_exporter": "python",
   "pygments_lexer": "ipython3",
   "version": "3.8.15"
  }
 },
 "nbformat": 4,
 "nbformat_minor": 5
}
