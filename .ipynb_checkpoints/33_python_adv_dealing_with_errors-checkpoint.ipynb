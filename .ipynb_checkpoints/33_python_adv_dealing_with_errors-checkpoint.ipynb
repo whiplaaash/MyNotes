{
 "cells": [
  {
   "cell_type": "markdown",
   "id": "6363f044",
   "metadata": {},
   "source": [
    "# Lesson 33: Python Advanced - Dealing with errors"
   ]
  },
  {
   "cell_type": "markdown",
   "id": "e07e5425",
   "metadata": {},
   "source": [
    "## Intro to errors (try - finally block)"
   ]
  },
  {
   "cell_type": "code",
   "execution_count": 14,
   "id": "9f856a07",
   "metadata": {},
   "outputs": [
    {
     "name": "stdout",
     "output_type": "stream",
     "text": [
      "Enter client's name:INFO\n",
      "The % ratio for INFO is 0.5.\n",
      "The cost for INFO is 3600.0.\n",
      "-=Calculation finished=-\n"
     ]
    }
   ],
   "source": [
    "# We consider an example: there are a few companies donating a project. Keys of the dict are names of the comapnies\n",
    "# values of the dict are the percentage contributions. There is also a total cost of the project:\n",
    "\n",
    "clients = {\"INFO\" : 0.5, \"DATA\" : 0.2, \"SOFT\" : 0.2, \"INTER\" : 0.1, \"OMEGA\" : 0.0}\n",
    "\n",
    "myClient = input(\"Enter client's name:\")\n",
    "totalCost = 7200\n",
    "\n",
    "print(\"The % ratio for {} is {}.\".format(myClient, clients[myClient]))\n",
    "print(\"The cost for {} is {}.\".format(myClient, clients[myClient]*totalCost))\n",
    "print(\"-=Calculation finished=-\")"
   ]
  },
  {
   "cell_type": "code",
   "execution_count": 5,
   "id": "b5166fbe",
   "metadata": {},
   "outputs": [
    {
     "name": "stdout",
     "output_type": "stream",
     "text": [
      "Enter client's name:ads\n",
      "Sorry, we have an error!\n",
      "-=Calculation finished=-\n"
     ]
    }
   ],
   "source": [
    "# Everything works until I insert a name which is not in my dict (I would have an error). \n",
    "# To deal with it we introduce the block: try -- finally instructions (here the full form of the block is shown):\n",
    "\n",
    "clients = {\"INFO\" : 0.5, \"DATA\" : 0.2, \"SOFT\" : 0.2, \"INTER\" : 0.1, \"OMEGA\" : 0.0}\n",
    "\n",
    "myClient = input(\"Enter client's name:\")\n",
    "totalCost = 7200\n",
    "\n",
    "try:\n",
    "    print(\"The % ratio for {} is {}.\".format(myClient, clients[myClient]))\n",
    "except Exception as e:\n",
    "    print(\"Sorry, we have an error!\\nDetails\\n{}\".format(e))\n",
    "else:\n",
    "    print(\"The cost for {} is {}.\".format(myClient, clients[myClient]*totalCost))\n",
    "finally:\n",
    "    print(\"-=Calculation finished=-\")\n",
    "\n",
    "# Note that if \"try\" is ok, then we go to \"else\" and \"finally\". If \"try\" is wrong then the program goes to \"except\"\n",
    "# and returns an error, but \"finally\" is always executed."
   ]
  },
  {
   "cell_type": "markdown",
   "id": "6d78ad73",
   "metadata": {},
   "source": [
    "## Reaction to different types of errors"
   ]
  },
  {
   "cell_type": "code",
   "execution_count": 10,
   "id": "b08af574",
   "metadata": {},
   "outputs": [
    {
     "name": "stdout",
     "output_type": "stream",
     "text": [
      "Enter client's name:INFO\n",
      "Enter new ratio: 0\n",
      "The default % ratio for INFO is 0.5, a new one is 0.0.\n",
      "The cost for INFO is now 0.0.\n",
      "The new ration cannot be 0.\n",
      "Details:\n",
      "float division by zero\n"
     ]
    }
   ],
   "source": [
    "# We modify a bit the old code. Now we have many places in \"try\" where the error can occur.\n",
    "\n",
    "clients = {\"INFO\" : 0.5, \"DATA\" : 0.2, \"SOFT\" : 0.2, \"INTER\" : 0.1, \"OMEGA\" : 0.0}\n",
    "\n",
    "myClient = input(\"Enter client's name:\")\n",
    "totalCost = 7200\n",
    "\n",
    "try:\n",
    "    ratio = float(input(\"Enter new ratio: \"))\n",
    "    print(\"The default % ratio for {} is {}, a new one is {}.\".format(myClient, clients[myClient], ratio))\n",
    "    print(\"The cost for {} is now {}.\".format(myClient, ratio * totalCost))\n",
    "    print(\"The new ration in comparison to old ratio is {}\".format(clients[myClient]/ratio))\n",
    "except KeyError as e:\n",
    "    print(\"Client {} is not on the list {}.\\nDetails:\\n{}\".format(myClient, [c for c in clients.keys()], e))\n",
    "except ValueError as e:\n",
    "    print(\"There is a problem with entered value - it must be a number.\\nDetails:\\n{}\".format(e))\n",
    "except ZeroDivisionError as e:\n",
    "    print(\"The new ratio cannot be 0.\\nDetails:\\n{}\".format(e))\n",
    "except Exception as e:\n",
    "    print(\"Sorry, we have an error!\\nDetails\\n{}\".format(e))"
   ]
  },
  {
   "cell_type": "code",
   "execution_count": 11,
   "id": "01658225",
   "metadata": {},
   "outputs": [
    {
     "name": "stdout",
     "output_type": "stream",
     "text": [
      "Enter client's name:INFO\n",
      "Enter new ratio: 0\n",
      "The default % ratio for INFO is 0.5, a new one is 0.0.\n",
      "The cost for INFO is now 0.0.\n",
      "There is a problem with entered value - it must be a number greater than 0.\n",
      "Details:\n",
      "float division by zero\n"
     ]
    }
   ],
   "source": [
    "# Note that we can combine some instructions for \"except\":\n",
    "\n",
    "clients = {\"INFO\" : 0.5, \"DATA\" : 0.2, \"SOFT\" : 0.2, \"INTER\" : 0.1, \"OMEGA\" : 0.0}\n",
    "\n",
    "myClient = input(\"Enter client's name: \")\n",
    "totalCost = 7200\n",
    "\n",
    "try:\n",
    "    ratio = float(input(\"Enter new ratio: \"))\n",
    "    print(\"The default % ratio for {} is {}, a new one is {}.\".format(myClient, clients[myClient], ratio))\n",
    "    print(\"The cost for {} is now {}.\".format(myClient, ratio * totalCost))\n",
    "    print(\"The new ration in comparison to old ratio is {}\".format(clients[myClient]/ratio))\n",
    "except KeyError as e:\n",
    "    print(\"Client {} is not on the list {}.\\nDetails:\\n{}\".format(myClient, [c for c in clients.keys()], e))\n",
    "except (ValueError, ZeroDivisionError) as e:\n",
    "    print(\"There is a problem with entered value - it must be a number greater than 0.\\nDetails:\\n{}\".format(e))\n",
    "except Exception as e:\n",
    "    print(\"Sorry, we have an error!\\nDetails\\n{}\".format(e))"
   ]
  },
  {
   "cell_type": "code",
   "execution_count": 13,
   "id": "94ed81dd",
   "metadata": {},
   "outputs": [],
   "source": [
    "# Note that the last \"except\" is an extra instruction for error, for situations that we do not expect.\n",
    "# The type of an error can be first checked by, for example:\n",
    "\n",
    "# ratio = 1/0"
   ]
  },
  {
   "cell_type": "markdown",
   "id": "fbb05958",
   "metadata": {},
   "source": [
    "## Handling errors by ourselves, nested errors"
   ]
  },
  {
   "cell_type": "code",
   "execution_count": 19,
   "id": "f16b1106",
   "metadata": {},
   "outputs": [],
   "source": [
    "# Let us consider a situation with error which is not obvious. Normally brutto > netto, but\n",
    "\n",
    "netto = 1230\n",
    "brutto = 10000\n",
    "\n",
    "# We see it cannot be like this, but for Python everything is ok. To report the error, we use \"raise\":\n",
    "\n",
    "raise Exception(\"Netto should be lower or equal than brutto.\")\n"
   ]
  },
  {
   "cell_type": "code",
   "execution_count": 23,
   "id": "17d62716",
   "metadata": {},
   "outputs": [
    {
     "name": "stdout",
     "output_type": "stream",
     "text": [
      "Error processing invoice: Netto should be lower or equal than brutto.\n"
     ]
    }
   ],
   "source": [
    "# Or we can define a function to see how it works.\n",
    "\n",
    "def ProcessInvoice(netto, brutto):\n",
    "    if netto >= brutto:\n",
    "        raise Exception(\"Netto should be lower or equal than brutto.\")\n",
    "    else:\n",
    "        print(\"Processing invoice: netto = {}, brutto = {}.\".format(netto, brutto))\n",
    "        \n",
    "\n",
    "netto = 1230\n",
    "brutto = 1000\n",
    "\n",
    "try:\n",
    "    ProcessInvoice(netto, brutto)\n",
    "except Exception as e:\n",
    "    print(\"Error processing invoice: {}\".format(e))"
   ]
  },
  {
   "cell_type": "code",
   "execution_count": 25,
   "id": "9bfa1279",
   "metadata": {},
   "outputs": [
    {
     "name": "stdout",
     "output_type": "stream",
     "text": [
      "The values on the invoice are incorrect: Netto should be lower or equal than brutto.\n"
     ]
    }
   ],
   "source": [
    "# Alternatively, we can write:\n",
    "\n",
    "def ProcessInvoice(netto, brutto):\n",
    "    if netto >= brutto:\n",
    "        raise ValueError(\"Netto should be lower or equal than brutto.\")\n",
    "    else:\n",
    "        print(\"Processing invoice: netto = {}, brutto = {}.\".format(netto, brutto))\n",
    "        \n",
    "\n",
    "netto = 1230\n",
    "brutto = 1000\n",
    "\n",
    "try:\n",
    "    ProcessInvoice(netto, brutto)\n",
    "except ValueError as e:\n",
    "    print(\"The values on the invoice are incorrect: {}\".format(e))\n",
    "except Exception as e:\n",
    "    print(\"Error processing invoice: {}\".format(e))"
   ]
  },
  {
   "cell_type": "code",
   "execution_count": 32,
   "id": "9ada24c3",
   "metadata": {},
   "outputs": [
    {
     "name": "stdout",
     "output_type": "stream",
     "text": [
      "Processing invoice: netto = 1230, brutto = 10000.\n"
     ]
    }
   ],
   "source": [
    "# To clearly communicate that the invoice cannot be processed we can also write:\n",
    "\n",
    "def ProcessInvoice(netto, brutto):\n",
    "    if netto >= brutto:\n",
    "        raise ValueError(\"Netto should be lower or equal than brutto.\")\n",
    "    else:\n",
    "        print(\"Processing invoice: netto = {}, brutto = {}.\".format(netto, brutto))\n",
    "        \n",
    "def EndOfMonth():      \n",
    "    netto = 1230\n",
    "    brutto = 10000\n",
    "\n",
    "    try:\n",
    "        ProcessInvoice(netto, brutto)\n",
    "    except ValueError as e:\n",
    "        print(\"The values on the invoice are incorrect: {}\".format(e))\n",
    "        raise ValueError(\"Error when processing invoice.\")\n",
    "    except Exception as e:\n",
    "        print(\"Error processing invoice: {}\".format(e))\n",
    "        raise Exception(\"General error when processing invoice.\")\n",
    "        \n",
    "EndOfMonth()"
   ]
  },
  {
   "cell_type": "markdown",
   "id": "690482c2",
   "metadata": {},
   "source": [
    "## Assert method"
   ]
  },
  {
   "cell_type": "code",
   "execution_count": 37,
   "id": "708e535d",
   "metadata": {},
   "outputs": [],
   "source": [
    "# By using this method ww will be able to catch errors, comment the code and prepare the code to testing.\n",
    "\n",
    "import datetime\n",
    "\n",
    "# Netto must be lower or equal than brutto\n",
    "\n",
    "netto = 100\n",
    "brutto = 120\n",
    "\n",
    "assert netto <= brutto, \"Netto cannot be greater than brutto.\"\n",
    "# If the condition is satisfied then \"assert\" will not do anything. If the condition is not satisfied the program\n",
    "# will stop working.\n",
    "\n",
    "# OderDate must be before DeliveryDate\n",
    "\n",
    "OrderDate = datetime.date(2022,11,13)\n",
    "DeliveryDate = datetime.date(2022,12,10)\n",
    "\n",
    "assert OrderDate <= DeliveryDate, \"DeliveryDate must be later than OrderDate.\"\n",
    "\n",
    "# Note that assert works quickly, with smaller number of code lines and works similarly to try-except. \n",
    "# It allows for simple and clear docummentation.\n",
    "\n",
    "# BUT, in some conditions \"assert\" does not have to be executed, in particular, when we want our program to work\n",
    "# in an optimized way (by setting in terminal SET PYTHONOPTIMIZE=TRUE). \n",
    "# Then, \"assert\" commands can be just ignored."
   ]
  },
  {
   "cell_type": "markdown",
   "id": "947e410d",
   "metadata": {},
   "source": [
    "## Defining our own exceptions/ customizing exceptions"
   ]
  },
  {
   "cell_type": "code",
   "execution_count": 41,
   "id": "fa98d6f9",
   "metadata": {},
   "outputs": [
    {
     "name": "stdout",
     "output_type": "stream",
     "text": [
      "Application error: File format is incorrect, area Financial data\n",
      "Application error: File format is incorrect, area Personal data\n"
     ]
    }
   ],
   "source": [
    "# I am creating my own class of exceptions in the company BIT to distinguish them from typical Python exceptions:\n",
    "\n",
    "class BITException(Exception):\n",
    "    \n",
    "    def __init__(self, text, area):\n",
    "        super().__init__(text)\n",
    "        self.area = area\n",
    "        \n",
    "    def __str__(self):\n",
    "        return \"{}, area {}\".format(super().__str__(), self.area)\n",
    "\n",
    "try:\n",
    "    # do something...\n",
    "    raise BITException(\"File format is incorrect\", \"Financial data\")\n",
    "except BITException as e:\n",
    "    print(\"Application error: {}\".format(e))\n",
    "    \n",
    "try:\n",
    "    # do something...\n",
    "    raise BITException(\"File format is incorrect\", \"Personal data\")\n",
    "except BITException as e:\n",
    "    print(\"Application error: {}\".format(e))"
   ]
  },
  {
   "cell_type": "code",
   "execution_count": null,
   "id": "8268b828",
   "metadata": {},
   "outputs": [],
   "source": [
    "# To distinguish types of exceptions I can define 2 other classes which inherit from the mother class \n",
    "# BITException:\n",
    "\n",
    "class BITException(Exception):\n",
    "    \n",
    "    def __init__(self, text, area):\n",
    "        super().__init__(text)\n",
    "        self.area = area\n",
    "        \n",
    "    def __str__(self):\n",
    "        return \"{}, area {}\".format(super().__str__(), self.area)\n",
    "    \n",
    "class BITSecurityException(BITException):\n",
    "    pass\n",
    "\n",
    "class BITDataFormatException(BITException):\n",
    "    pass\n",
    "\n",
    "try:\n",
    "    # do something...\n",
    "    raise BITException(\"File format is incorrect\", \"Financial data\")\n",
    "except BITSecurityException as e:\n",
    "    print(\"Application security error: {}\".format(e))\n",
    "except BITDataFormatException as e:\n",
    "    print(\"Application data malformed error: {}\".format(e))\n",
    "except BITException as e:\n",
    "    print(\"Application error: {}\".format(e))\n",
    "except Exception as e:\n",
    "    print(\"General Python error: {}\".format(e))\n",
    "    \n",
    "# Note that the hierarchy of exceptions is from the very specific ones, via the general ones for my application, \n",
    "# to the general pythonic ones."
   ]
  }
 ],
 "metadata": {
  "kernelspec": {
   "display_name": "Python 3 (ipykernel)",
   "language": "python",
   "name": "python3"
  },
  "language_info": {
   "codemirror_mode": {
    "name": "ipython",
    "version": 3
   },
   "file_extension": ".py",
   "mimetype": "text/x-python",
   "name": "python",
   "nbconvert_exporter": "python",
   "pygments_lexer": "ipython3",
   "version": "3.8.15"
  }
 },
 "nbformat": 4,
 "nbformat_minor": 5
}
