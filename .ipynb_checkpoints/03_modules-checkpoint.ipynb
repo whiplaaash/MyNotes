{
 "cells": [
  {
   "cell_type": "markdown",
   "id": "917b9d79",
   "metadata": {},
   "source": [
    "# Lesson 3: Modules"
   ]
  },
  {
   "cell_type": "markdown",
   "id": "b4ca0b3c",
   "metadata": {},
   "source": [
    "Standard Library - basic library, default, installed together with Python.\n",
    "Module - contains a set of some functions, i.e. the module \"math\" contains a set of mathematical functions. Modules are files with the extension \".py\".\n",
    "Package (library) - is a space of names, which contains many modules and other packages. Packages are directories.\n",
    "\n",
    "Typical packages used for data science analyses:\n",
    "- numpy - to deal with multidimensional arrays, mostly for numbers\n",
    "- pandas - enhances \"numpy\" further, for big data, to manipulate on tables and also descriptive pieces\n",
    "- scipy - a lot of tools for scientific calculations, it combines numpy, pandas and matplotlib\n",
    "- statsmodels - uses other packages to focus on statistical analysis\n",
    "- matplotlib - for plots, 2-dimensional, to visualise data\n",
    "- seaborn - enhances \"matplotlib\", to draw attractive statistical graphics\n",
    "- sklearn - one of the machine learning libraries, widely used; similar to statsmodel but more advanced"
   ]
  },
  {
   "cell_type": "markdown",
   "id": "5138b339",
   "metadata": {},
   "source": [
    "## Importing modules"
   ]
  },
  {
   "cell_type": "code",
   "execution_count": 14,
   "id": "13123b36",
   "metadata": {
    "scrolled": true
   },
   "outputs": [
    {
     "data": {
      "text/plain": [
       "1.4142135623730951"
      ]
     },
     "execution_count": 14,
     "metadata": {},
     "output_type": "execute_result"
    }
   ],
   "source": [
    "# Importing modules\n",
    "\n",
    "import math                     # One way\n",
    "math.sqrt(2)\n",
    "\n",
    "from math import sqrt           # Another way\n",
    "sqrt(2)\n",
    "\n",
    "from math import sqrt as s      # Yet another way (for experts), renaming the function of the module.\n",
    "s(2)\n",
    "\n",
    "import math as m                # Yet another way, renaming the module. Not recommended\n",
    "m.sqrt(5)\n",
    "\n",
    "from math import *              # Yet another way, importing everything from the module. Not recommended \n",
    "sqrt(2)                         # by experts.\n",
    "\n",
    "# help(math)                    # Displays all functions and how to use them.\n",
    "# help(math.sqrt)               # Displays a specific function.\n"
   ]
  },
  {
   "cell_type": "markdown",
   "id": "eab9adeb",
   "metadata": {},
   "source": [
    "## Importing packages"
   ]
  },
  {
   "cell_type": "code",
   "execution_count": null,
   "id": "daa62d05",
   "metadata": {},
   "outputs": [],
   "source": [
    "# Importing packages\n",
    "\n",
    "import numpy as np\n",
    "\n",
    "# Checking if a package is installed:\n",
    "# In terminal type: \"conda list\"\n",
    "\n",
    "# To install a package type in the terminal: conda install \"name_of_the_package\""
   ]
  }
 ],
 "metadata": {
  "kernelspec": {
   "display_name": "Python 3 (ipykernel)",
   "language": "python",
   "name": "python3"
  },
  "language_info": {
   "codemirror_mode": {
    "name": "ipython",
    "version": 3
   },
   "file_extension": ".py",
   "mimetype": "text/x-python",
   "name": "python",
   "nbconvert_exporter": "python",
   "pygments_lexer": "ipython3",
   "version": "3.8.5"
  }
 },
 "nbformat": 4,
 "nbformat_minor": 5
}
