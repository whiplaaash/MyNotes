{
 "cells": [
  {
   "cell_type": "markdown",
   "id": "5a88f82a",
   "metadata": {},
   "source": [
    "# Lesson 39: Machine Learning - TensorFlow - Linear Regression - Simple Example"
   ]
  },
  {
   "cell_type": "markdown",
   "id": "e4f55c56",
   "metadata": {},
   "source": [
    "## Import libraries"
   ]
  },
  {
   "cell_type": "code",
   "execution_count": 1,
   "id": "9a5746e2",
   "metadata": {},
   "outputs": [
    {
     "name": "stderr",
     "output_type": "stream",
     "text": [
      "2023-03-20 23:40:58.870220: I tensorflow/core/platform/cpu_feature_guard.cc:193] This TensorFlow binary is optimized with oneAPI Deep Neural Network Library (oneDNN) to use the following CPU instructions in performance-critical operations:  AVX2 FMA\n",
      "To enable them in other operations, rebuild TensorFlow with the appropriate compiler flags.\n",
      "2023-03-20 23:40:59.340595: W tensorflow/compiler/xla/stream_executor/platform/default/dso_loader.cc:64] Could not load dynamic library 'libcudart.so.11.0'; dlerror: libcudart.so.11.0: cannot open shared object file: No such file or directory\n",
      "2023-03-20 23:40:59.340627: I tensorflow/compiler/xla/stream_executor/cuda/cudart_stub.cc:29] Ignore above cudart dlerror if you do not have a GPU set up on your machine.\n",
      "2023-03-20 23:41:00.458530: W tensorflow/compiler/xla/stream_executor/platform/default/dso_loader.cc:64] Could not load dynamic library 'libnvinfer.so.7'; dlerror: libnvinfer.so.7: cannot open shared object file: No such file or directory\n",
      "2023-03-20 23:41:00.458636: W tensorflow/compiler/xla/stream_executor/platform/default/dso_loader.cc:64] Could not load dynamic library 'libnvinfer_plugin.so.7'; dlerror: libnvinfer_plugin.so.7: cannot open shared object file: No such file or directory\n",
      "2023-03-20 23:41:00.458644: W tensorflow/compiler/tf2tensorrt/utils/py_utils.cc:38] TF-TRT Warning: Cannot dlopen some TensorRT libraries. If you would like to use Nvidia GPU with TensorRT, please make sure the missing libraries mentioned above are installed properly.\n"
     ]
    }
   ],
   "source": [
    "import numpy as np\n",
    "import matplotlib.pyplot as plt\n",
    "import tensorflow as tf"
   ]
  },
  {
   "cell_type": "markdown",
   "id": "2db5ac33",
   "metadata": {},
   "source": [
    "## Generate random input data to train on and targets"
   ]
  },
  {
   "cell_type": "code",
   "execution_count": 2,
   "id": "394269cc",
   "metadata": {},
   "outputs": [
    {
     "name": "stdout",
     "output_type": "stream",
     "text": [
      "(2000, 2)\n",
      "(2000, 1)\n"
     ]
    }
   ],
   "source": [
    "observations = 2000\n",
    "\n",
    "# Inputs:\n",
    "\n",
    "xs = np.random.uniform(low = -10, high = 10, size = (observations, 1))\n",
    "zs = np.random.uniform(low = -10, high = 10, size = (observations, 1))\n",
    "\n",
    "generated_inputs = np.column_stack((xs, zs))\n",
    "\n",
    "print(generated_inputs.shape)\n",
    "\n",
    "\n",
    "# Targets:\n",
    "\n",
    "noise = np.random.uniform(-1, 1, (observations, 1))\n",
    "\n",
    "generated_targets = 2*xs - 3*zs + 5 + noise\n",
    "\n",
    "print(generated_targets.shape)\n",
    "\n",
    "# TensorFlow likes working on data stored in \".npz\" files, so we save our arrays of inputs and targets \n",
    "# in such a file:\n",
    "\n",
    "np.savez(\"TF_intro\", inputs = generated_inputs, targets = generated_targets)"
   ]
  },
  {
   "cell_type": "markdown",
   "id": "0ec5086e",
   "metadata": {},
   "source": [
    "## Building the model via TensorFlow"
   ]
  },
  {
   "cell_type": "code",
   "execution_count": 3,
   "id": "9f41f3e8",
   "metadata": {},
   "outputs": [
    {
     "name": "stderr",
     "output_type": "stream",
     "text": [
      "2023-03-20 23:41:01.513722: W tensorflow/compiler/xla/stream_executor/platform/default/dso_loader.cc:64] Could not load dynamic library 'libcuda.so.1'; dlerror: libcuda.so.1: cannot open shared object file: No such file or directory\n",
      "2023-03-20 23:41:01.514148: W tensorflow/compiler/xla/stream_executor/cuda/cuda_driver.cc:265] failed call to cuInit: UNKNOWN ERROR (303)\n",
      "2023-03-20 23:41:01.514177: I tensorflow/compiler/xla/stream_executor/cuda/cuda_diagnostics.cc:156] kernel driver does not appear to be running on this host (alina-XPS): /proc/driver/nvidia/version does not exist\n",
      "2023-03-20 23:41:01.515052: I tensorflow/core/platform/cpu_feature_guard.cc:193] This TensorFlow binary is optimized with oneAPI Deep Neural Network Library (oneDNN) to use the following CPU instructions in performance-critical operations:  AVX2 FMA\n",
      "To enable them in other operations, rebuild TensorFlow with the appropriate compiler flags.\n"
     ]
    }
   ],
   "source": [
    "# We load the saved data:\n",
    "\n",
    "training_data = np.load(\"TF_intro.npz\")\n",
    "\n",
    "# Defining the size of data:\n",
    "\n",
    "inputs_size = 2\n",
    "outputs_size = 1\n",
    "\n",
    "# \"keras\" is the package on which TF2 is built. \"Sequential\" is a method which works on layers. \n",
    "# In this simple example we have one layer: Layer = linear combination + output.\n",
    "\n",
    "model = tf.keras.Sequential([\n",
    "    tf.keras.layers.Dense(outputs_size,\n",
    "                         kernel_initializer = tf.random_uniform_initializer(minval = -0.1, maxval = 0.1),\n",
    "                         bias_initializer = tf.random_uniform_initializer(minval = -0.1, maxval = 0.1))\n",
    "])\n",
    "\n",
    "# Dense() method is precisely the multiplication of two arrays and adding a bias.\n",
    "# Dense() is equivalent to \"np.dot(weights, inputs) + biases\"\n",
    "\n",
    "# To make the model more precise we can set initializers forweights and biases in the Dense() function."
   ]
  },
  {
   "cell_type": "markdown",
   "id": "a42b97a3",
   "metadata": {},
   "source": [
    "## Configuring the model for training (loss function + optimization)"
   ]
  },
  {
   "cell_type": "code",
   "execution_count": 4,
   "id": "5f6a38ea",
   "metadata": {},
   "outputs": [],
   "source": [
    "# It needs \"model.compile(optimizer, loss)\"\n",
    "\n",
    "# model.compile(optimizer = \"sgd\", loss = \"mean_squared_error\")\n",
    "\n",
    "# SGD - Stochastic Gradient Descent\n",
    "\n",
    "# To improve precision we can vary on optimizers (now we know one: learning_rate), so we define:\n",
    "\n",
    "custom_optimizer = tf.keras.optimizers.SGD(learning_rate = 0.022)\n",
    "\n",
    "model.compile(optimizer = custom_optimizer, loss = \"mean_squared_error\")\n",
    "\n",
    "# \"loss\" can be also optimized but it is harder and left for future"
   ]
  },
  {
   "cell_type": "markdown",
   "id": "6506d5e3",
   "metadata": {},
   "source": [
    "## Indicating to the model which data to fit and setting the number of iteration"
   ]
  },
  {
   "cell_type": "code",
   "execution_count": 5,
   "id": "02d74702",
   "metadata": {},
   "outputs": [
    {
     "name": "stdout",
     "output_type": "stream",
     "text": [
      "Epoch 1/200\n",
      "63/63 - 1s - loss: 17.3234 - 701ms/epoch - 11ms/step\n",
      "Epoch 2/200\n",
      "63/63 - 0s - loss: 0.3989 - 158ms/epoch - 3ms/step\n",
      "Epoch 3/200\n",
      "63/63 - 0s - loss: 0.3987 - 172ms/epoch - 3ms/step\n",
      "Epoch 4/200\n",
      "63/63 - 0s - loss: 0.3923 - 149ms/epoch - 2ms/step\n",
      "Epoch 5/200\n",
      "63/63 - 0s - loss: 0.3665 - 134ms/epoch - 2ms/step\n",
      "Epoch 6/200\n",
      "63/63 - 0s - loss: 0.3759 - 87ms/epoch - 1ms/step\n",
      "Epoch 7/200\n",
      "63/63 - 0s - loss: 0.3897 - 90ms/epoch - 1ms/step\n",
      "Epoch 8/200\n",
      "63/63 - 0s - loss: 0.3977 - 88ms/epoch - 1ms/step\n",
      "Epoch 9/200\n",
      "63/63 - 0s - loss: 0.3900 - 76ms/epoch - 1ms/step\n",
      "Epoch 10/200\n",
      "63/63 - 0s - loss: 0.4294 - 88ms/epoch - 1ms/step\n",
      "Epoch 11/200\n",
      "63/63 - 0s - loss: 0.4147 - 75ms/epoch - 1ms/step\n",
      "Epoch 12/200\n",
      "63/63 - 0s - loss: 0.3950 - 74ms/epoch - 1ms/step\n",
      "Epoch 13/200\n",
      "63/63 - 0s - loss: 0.3729 - 87ms/epoch - 1ms/step\n",
      "Epoch 14/200\n",
      "63/63 - 0s - loss: 0.3906 - 88ms/epoch - 1ms/step\n",
      "Epoch 15/200\n",
      "63/63 - 0s - loss: 0.3878 - 77ms/epoch - 1ms/step\n",
      "Epoch 16/200\n",
      "63/63 - 0s - loss: 0.3894 - 72ms/epoch - 1ms/step\n",
      "Epoch 17/200\n",
      "63/63 - 0s - loss: 0.3846 - 89ms/epoch - 1ms/step\n",
      "Epoch 18/200\n",
      "63/63 - 0s - loss: 0.4112 - 86ms/epoch - 1ms/step\n",
      "Epoch 19/200\n",
      "63/63 - 0s - loss: 0.3604 - 86ms/epoch - 1ms/step\n",
      "Epoch 20/200\n",
      "63/63 - 0s - loss: 0.4414 - 88ms/epoch - 1ms/step\n",
      "Epoch 21/200\n",
      "63/63 - 0s - loss: 0.4230 - 71ms/epoch - 1ms/step\n",
      "Epoch 22/200\n",
      "63/63 - 0s - loss: 0.4077 - 73ms/epoch - 1ms/step\n",
      "Epoch 23/200\n",
      "63/63 - 0s - loss: 0.4063 - 88ms/epoch - 1ms/step\n",
      "Epoch 24/200\n",
      "63/63 - 0s - loss: 0.4188 - 76ms/epoch - 1ms/step\n",
      "Epoch 25/200\n",
      "63/63 - 0s - loss: 0.3706 - 104ms/epoch - 2ms/step\n",
      "Epoch 26/200\n",
      "63/63 - 0s - loss: 0.4032 - 89ms/epoch - 1ms/step\n",
      "Epoch 27/200\n",
      "63/63 - 0s - loss: 0.3923 - 108ms/epoch - 2ms/step\n",
      "Epoch 28/200\n",
      "63/63 - 0s - loss: 0.3885 - 106ms/epoch - 2ms/step\n",
      "Epoch 29/200\n",
      "63/63 - 0s - loss: 0.4010 - 105ms/epoch - 2ms/step\n",
      "Epoch 30/200\n",
      "63/63 - 0s - loss: 0.4065 - 115ms/epoch - 2ms/step\n",
      "Epoch 31/200\n",
      "63/63 - 0s - loss: 0.3815 - 104ms/epoch - 2ms/step\n",
      "Epoch 32/200\n",
      "63/63 - 0s - loss: 0.3866 - 114ms/epoch - 2ms/step\n",
      "Epoch 33/200\n",
      "63/63 - 0s - loss: 0.3976 - 101ms/epoch - 2ms/step\n",
      "Epoch 34/200\n",
      "63/63 - 0s - loss: 0.3905 - 91ms/epoch - 1ms/step\n",
      "Epoch 35/200\n",
      "63/63 - 0s - loss: 0.3709 - 112ms/epoch - 2ms/step\n",
      "Epoch 36/200\n",
      "63/63 - 0s - loss: 0.4298 - 107ms/epoch - 2ms/step\n",
      "Epoch 37/200\n",
      "63/63 - 0s - loss: 0.3966 - 115ms/epoch - 2ms/step\n",
      "Epoch 38/200\n",
      "63/63 - 0s - loss: 0.3835 - 99ms/epoch - 2ms/step\n",
      "Epoch 39/200\n",
      "63/63 - 0s - loss: 0.3748 - 96ms/epoch - 2ms/step\n",
      "Epoch 40/200\n",
      "63/63 - 0s - loss: 0.3794 - 103ms/epoch - 2ms/step\n",
      "Epoch 41/200\n",
      "63/63 - 0s - loss: 0.4239 - 103ms/epoch - 2ms/step\n",
      "Epoch 42/200\n",
      "63/63 - 0s - loss: 0.4007 - 114ms/epoch - 2ms/step\n",
      "Epoch 43/200\n",
      "63/63 - 0s - loss: 0.3930 - 107ms/epoch - 2ms/step\n",
      "Epoch 44/200\n",
      "63/63 - 0s - loss: 0.3739 - 113ms/epoch - 2ms/step\n",
      "Epoch 45/200\n",
      "63/63 - 0s - loss: 0.4303 - 103ms/epoch - 2ms/step\n",
      "Epoch 46/200\n",
      "63/63 - 0s - loss: 0.3876 - 106ms/epoch - 2ms/step\n",
      "Epoch 47/200\n",
      "63/63 - 0s - loss: 0.3907 - 117ms/epoch - 2ms/step\n",
      "Epoch 48/200\n",
      "63/63 - 0s - loss: 0.3964 - 102ms/epoch - 2ms/step\n",
      "Epoch 49/200\n",
      "63/63 - 0s - loss: 0.3890 - 88ms/epoch - 1ms/step\n",
      "Epoch 50/200\n",
      "63/63 - 0s - loss: 0.3792 - 71ms/epoch - 1ms/step\n",
      "Epoch 51/200\n",
      "63/63 - 0s - loss: 0.4055 - 91ms/epoch - 1ms/step\n",
      "Epoch 52/200\n",
      "63/63 - 0s - loss: 0.3636 - 73ms/epoch - 1ms/step\n",
      "Epoch 53/200\n",
      "63/63 - 0s - loss: 0.3732 - 73ms/epoch - 1ms/step\n",
      "Epoch 54/200\n",
      "63/63 - 0s - loss: 0.3844 - 89ms/epoch - 1ms/step\n",
      "Epoch 55/200\n",
      "63/63 - 0s - loss: 0.3906 - 70ms/epoch - 1ms/step\n",
      "Epoch 56/200\n",
      "63/63 - 0s - loss: 0.3738 - 67ms/epoch - 1ms/step\n",
      "Epoch 57/200\n",
      "63/63 - 0s - loss: 0.3681 - 68ms/epoch - 1ms/step\n",
      "Epoch 58/200\n",
      "63/63 - 0s - loss: 0.3915 - 83ms/epoch - 1ms/step\n",
      "Epoch 59/200\n",
      "63/63 - 0s - loss: 0.3828 - 81ms/epoch - 1ms/step\n",
      "Epoch 60/200\n",
      "63/63 - 0s - loss: 0.3968 - 82ms/epoch - 1ms/step\n",
      "Epoch 61/200\n",
      "63/63 - 0s - loss: 0.3987 - 82ms/epoch - 1ms/step\n",
      "Epoch 62/200\n",
      "63/63 - 0s - loss: 0.4220 - 82ms/epoch - 1ms/step\n",
      "Epoch 63/200\n",
      "63/63 - 0s - loss: 0.3936 - 79ms/epoch - 1ms/step\n",
      "Epoch 64/200\n",
      "63/63 - 0s - loss: 0.3757 - 83ms/epoch - 1ms/step\n",
      "Epoch 65/200\n",
      "63/63 - 0s - loss: 0.3739 - 71ms/epoch - 1ms/step\n",
      "Epoch 66/200\n",
      "63/63 - 0s - loss: 0.3789 - 80ms/epoch - 1ms/step\n",
      "Epoch 67/200\n",
      "63/63 - 0s - loss: 0.4106 - 70ms/epoch - 1ms/step\n",
      "Epoch 68/200\n",
      "63/63 - 0s - loss: 0.3733 - 79ms/epoch - 1ms/step\n",
      "Epoch 69/200\n",
      "63/63 - 0s - loss: 0.3874 - 77ms/epoch - 1ms/step\n",
      "Epoch 70/200\n",
      "63/63 - 0s - loss: 0.4013 - 86ms/epoch - 1ms/step\n",
      "Epoch 71/200\n",
      "63/63 - 0s - loss: 0.3748 - 107ms/epoch - 2ms/step\n",
      "Epoch 72/200\n",
      "63/63 - 0s - loss: 0.3649 - 82ms/epoch - 1ms/step\n",
      "Epoch 73/200\n",
      "63/63 - 0s - loss: 0.3700 - 81ms/epoch - 1ms/step\n",
      "Epoch 74/200\n",
      "63/63 - 0s - loss: 0.3661 - 69ms/epoch - 1ms/step\n",
      "Epoch 75/200\n",
      "63/63 - 0s - loss: 0.4266 - 81ms/epoch - 1ms/step\n",
      "Epoch 76/200\n",
      "63/63 - 0s - loss: 0.3845 - 69ms/epoch - 1ms/step\n",
      "Epoch 77/200\n",
      "63/63 - 0s - loss: 0.3720 - 83ms/epoch - 1ms/step\n",
      "Epoch 78/200\n",
      "63/63 - 0s - loss: 0.4161 - 77ms/epoch - 1ms/step\n",
      "Epoch 79/200\n",
      "63/63 - 0s - loss: 0.3669 - 78ms/epoch - 1ms/step\n",
      "Epoch 80/200\n",
      "63/63 - 0s - loss: 0.3661 - 80ms/epoch - 1ms/step\n",
      "Epoch 81/200\n",
      "63/63 - 0s - loss: 0.3717 - 74ms/epoch - 1ms/step\n",
      "Epoch 82/200\n",
      "63/63 - 0s - loss: 0.4158 - 80ms/epoch - 1ms/step\n",
      "Epoch 83/200\n",
      "63/63 - 0s - loss: 0.3669 - 80ms/epoch - 1ms/step\n",
      "Epoch 84/200\n",
      "63/63 - 0s - loss: 0.3691 - 83ms/epoch - 1ms/step\n",
      "Epoch 85/200\n",
      "63/63 - 0s - loss: 0.4149 - 81ms/epoch - 1ms/step\n",
      "Epoch 86/200\n",
      "63/63 - 0s - loss: 0.3764 - 77ms/epoch - 1ms/step\n",
      "Epoch 87/200\n",
      "63/63 - 0s - loss: 0.3801 - 80ms/epoch - 1ms/step\n",
      "Epoch 88/200\n",
      "63/63 - 0s - loss: 0.3862 - 69ms/epoch - 1ms/step\n",
      "Epoch 89/200\n",
      "63/63 - 0s - loss: 0.3863 - 80ms/epoch - 1ms/step\n",
      "Epoch 90/200\n",
      "63/63 - 0s - loss: 0.3959 - 86ms/epoch - 1ms/step\n",
      "Epoch 91/200\n",
      "63/63 - 0s - loss: 0.3925 - 80ms/epoch - 1ms/step\n",
      "Epoch 92/200\n",
      "63/63 - 0s - loss: 0.3836 - 80ms/epoch - 1ms/step\n",
      "Epoch 93/200\n",
      "63/63 - 0s - loss: 0.3999 - 69ms/epoch - 1ms/step\n",
      "Epoch 94/200\n",
      "63/63 - 0s - loss: 0.3871 - 80ms/epoch - 1ms/step\n",
      "Epoch 95/200\n",
      "63/63 - 0s - loss: 0.3764 - 66ms/epoch - 1ms/step\n",
      "Epoch 96/200\n",
      "63/63 - 0s - loss: 0.3810 - 80ms/epoch - 1ms/step\n",
      "Epoch 97/200\n",
      "63/63 - 0s - loss: 0.3930 - 79ms/epoch - 1ms/step\n",
      "Epoch 98/200\n",
      "63/63 - 0s - loss: 0.3877 - 65ms/epoch - 1ms/step\n",
      "Epoch 99/200\n",
      "63/63 - 0s - loss: 0.3744 - 78ms/epoch - 1ms/step\n",
      "Epoch 100/200\n",
      "63/63 - 0s - loss: 0.4114 - 75ms/epoch - 1ms/step\n",
      "Epoch 101/200\n",
      "63/63 - 0s - loss: 0.3934 - 80ms/epoch - 1ms/step\n",
      "Epoch 102/200\n",
      "63/63 - 0s - loss: 0.4131 - 91ms/epoch - 1ms/step\n",
      "Epoch 103/200\n",
      "63/63 - 0s - loss: 0.3972 - 78ms/epoch - 1ms/step\n",
      "Epoch 104/200\n",
      "63/63 - 0s - loss: 0.3655 - 79ms/epoch - 1ms/step\n",
      "Epoch 105/200\n",
      "63/63 - 0s - loss: 0.3836 - 80ms/epoch - 1ms/step\n",
      "Epoch 106/200\n",
      "63/63 - 0s - loss: 0.3866 - 79ms/epoch - 1ms/step\n",
      "Epoch 107/200\n",
      "63/63 - 0s - loss: 0.4133 - 83ms/epoch - 1ms/step\n",
      "Epoch 108/200\n",
      "63/63 - 0s - loss: 0.3583 - 78ms/epoch - 1ms/step\n",
      "Epoch 109/200\n",
      "63/63 - 0s - loss: 0.3848 - 66ms/epoch - 1ms/step\n",
      "Epoch 110/200\n",
      "63/63 - 0s - loss: 0.3660 - 75ms/epoch - 1ms/step\n",
      "Epoch 111/200\n",
      "63/63 - 0s - loss: 0.3689 - 75ms/epoch - 1ms/step\n",
      "Epoch 112/200\n",
      "63/63 - 0s - loss: 0.3931 - 69ms/epoch - 1ms/step\n",
      "Epoch 113/200\n",
      "63/63 - 0s - loss: 0.4072 - 81ms/epoch - 1ms/step\n",
      "Epoch 114/200\n",
      "63/63 - 0s - loss: 0.3859 - 73ms/epoch - 1ms/step\n",
      "Epoch 115/200\n",
      "63/63 - 0s - loss: 0.3704 - 79ms/epoch - 1ms/step\n",
      "Epoch 116/200\n",
      "63/63 - 0s - loss: 0.3826 - 68ms/epoch - 1ms/step\n",
      "Epoch 117/200\n",
      "63/63 - 0s - loss: 0.3693 - 80ms/epoch - 1ms/step\n",
      "Epoch 118/200\n",
      "63/63 - 0s - loss: 0.3763 - 79ms/epoch - 1ms/step\n",
      "Epoch 119/200\n",
      "63/63 - 0s - loss: 0.4006 - 73ms/epoch - 1ms/step\n",
      "Epoch 120/200\n",
      "63/63 - 0s - loss: 0.3813 - 68ms/epoch - 1ms/step\n",
      "Epoch 121/200\n",
      "63/63 - 0s - loss: 0.3826 - 82ms/epoch - 1ms/step\n",
      "Epoch 122/200\n",
      "63/63 - 0s - loss: 0.3746 - 82ms/epoch - 1ms/step\n",
      "Epoch 123/200\n",
      "63/63 - 0s - loss: 0.3736 - 83ms/epoch - 1ms/step\n",
      "Epoch 124/200\n",
      "63/63 - 0s - loss: 0.3871 - 79ms/epoch - 1ms/step\n",
      "Epoch 125/200\n",
      "63/63 - 0s - loss: 0.4057 - 78ms/epoch - 1ms/step\n",
      "Epoch 126/200\n",
      "63/63 - 0s - loss: 0.3843 - 120ms/epoch - 2ms/step\n",
      "Epoch 127/200\n",
      "63/63 - 0s - loss: 0.4077 - 119ms/epoch - 2ms/step\n",
      "Epoch 128/200\n",
      "63/63 - 0s - loss: 0.3736 - 165ms/epoch - 3ms/step\n",
      "Epoch 129/200\n",
      "63/63 - 0s - loss: 0.4496 - 164ms/epoch - 3ms/step\n",
      "Epoch 130/200\n"
     ]
    },
    {
     "name": "stdout",
     "output_type": "stream",
     "text": [
      "63/63 - 0s - loss: 0.3775 - 129ms/epoch - 2ms/step\n",
      "Epoch 131/200\n",
      "63/63 - 0s - loss: 0.3949 - 122ms/epoch - 2ms/step\n",
      "Epoch 132/200\n",
      "63/63 - 0s - loss: 0.3912 - 142ms/epoch - 2ms/step\n",
      "Epoch 133/200\n",
      "63/63 - 0s - loss: 0.3567 - 120ms/epoch - 2ms/step\n",
      "Epoch 134/200\n",
      "63/63 - 0s - loss: 0.4119 - 113ms/epoch - 2ms/step\n",
      "Epoch 135/200\n",
      "63/63 - 0s - loss: 0.3776 - 116ms/epoch - 2ms/step\n",
      "Epoch 136/200\n",
      "63/63 - 0s - loss: 0.4093 - 76ms/epoch - 1ms/step\n",
      "Epoch 137/200\n",
      "63/63 - 0s - loss: 0.4123 - 76ms/epoch - 1ms/step\n",
      "Epoch 138/200\n",
      "63/63 - 0s - loss: 0.3683 - 65ms/epoch - 1ms/step\n",
      "Epoch 139/200\n",
      "63/63 - 0s - loss: 0.4043 - 74ms/epoch - 1ms/step\n",
      "Epoch 140/200\n",
      "63/63 - 0s - loss: 0.3814 - 66ms/epoch - 1ms/step\n",
      "Epoch 141/200\n",
      "63/63 - 0s - loss: 0.3717 - 76ms/epoch - 1ms/step\n",
      "Epoch 142/200\n",
      "63/63 - 0s - loss: 0.3870 - 76ms/epoch - 1ms/step\n",
      "Epoch 143/200\n",
      "63/63 - 0s - loss: 0.4202 - 75ms/epoch - 1ms/step\n",
      "Epoch 144/200\n",
      "63/63 - 0s - loss: 0.3813 - 66ms/epoch - 1ms/step\n",
      "Epoch 145/200\n",
      "63/63 - 0s - loss: 0.3915 - 76ms/epoch - 1ms/step\n",
      "Epoch 146/200\n",
      "63/63 - 0s - loss: 0.4023 - 66ms/epoch - 1ms/step\n",
      "Epoch 147/200\n",
      "63/63 - 0s - loss: 0.3947 - 68ms/epoch - 1ms/step\n",
      "Epoch 148/200\n",
      "63/63 - 0s - loss: 0.4003 - 77ms/epoch - 1ms/step\n",
      "Epoch 149/200\n",
      "63/63 - 0s - loss: 0.3946 - 76ms/epoch - 1ms/step\n",
      "Epoch 150/200\n",
      "63/63 - 0s - loss: 0.4005 - 66ms/epoch - 1ms/step\n",
      "Epoch 151/200\n",
      "63/63 - 0s - loss: 0.3664 - 75ms/epoch - 1ms/step\n",
      "Epoch 152/200\n",
      "63/63 - 0s - loss: 0.4049 - 67ms/epoch - 1ms/step\n",
      "Epoch 153/200\n",
      "63/63 - 0s - loss: 0.4000 - 74ms/epoch - 1ms/step\n",
      "Epoch 154/200\n",
      "63/63 - 0s - loss: 0.3887 - 73ms/epoch - 1ms/step\n",
      "Epoch 155/200\n",
      "63/63 - 0s - loss: 0.3906 - 81ms/epoch - 1ms/step\n",
      "Epoch 156/200\n",
      "63/63 - 0s - loss: 0.3893 - 78ms/epoch - 1ms/step\n",
      "Epoch 157/200\n",
      "63/63 - 0s - loss: 0.3839 - 83ms/epoch - 1ms/step\n",
      "Epoch 158/200\n",
      "63/63 - 0s - loss: 0.3866 - 73ms/epoch - 1ms/step\n",
      "Epoch 159/200\n",
      "63/63 - 0s - loss: 0.3839 - 73ms/epoch - 1ms/step\n",
      "Epoch 160/200\n",
      "63/63 - 0s - loss: 0.3894 - 85ms/epoch - 1ms/step\n",
      "Epoch 161/200\n",
      "63/63 - 0s - loss: 0.4162 - 75ms/epoch - 1ms/step\n",
      "Epoch 162/200\n",
      "63/63 - 0s - loss: 0.3657 - 81ms/epoch - 1ms/step\n",
      "Epoch 163/200\n",
      "63/63 - 0s - loss: 0.3629 - 69ms/epoch - 1ms/step\n",
      "Epoch 164/200\n",
      "63/63 - 0s - loss: 0.3945 - 75ms/epoch - 1ms/step\n",
      "Epoch 165/200\n",
      "63/63 - 0s - loss: 0.3793 - 75ms/epoch - 1ms/step\n",
      "Epoch 166/200\n",
      "63/63 - 0s - loss: 0.4242 - 77ms/epoch - 1ms/step\n",
      "Epoch 167/200\n",
      "63/63 - 0s - loss: 0.4052 - 69ms/epoch - 1ms/step\n",
      "Epoch 168/200\n",
      "63/63 - 0s - loss: 0.3973 - 77ms/epoch - 1ms/step\n",
      "Epoch 169/200\n",
      "63/63 - 0s - loss: 0.3707 - 77ms/epoch - 1ms/step\n",
      "Epoch 170/200\n",
      "63/63 - 0s - loss: 0.3698 - 74ms/epoch - 1ms/step\n",
      "Epoch 171/200\n",
      "63/63 - 0s - loss: 0.3601 - 77ms/epoch - 1ms/step\n",
      "Epoch 172/200\n",
      "63/63 - 0s - loss: 0.3924 - 70ms/epoch - 1ms/step\n",
      "Epoch 173/200\n",
      "63/63 - 0s - loss: 0.3729 - 78ms/epoch - 1ms/step\n",
      "Epoch 174/200\n",
      "63/63 - 0s - loss: 0.3930 - 74ms/epoch - 1ms/step\n",
      "Epoch 175/200\n",
      "63/63 - 0s - loss: 0.4263 - 77ms/epoch - 1ms/step\n",
      "Epoch 176/200\n",
      "63/63 - 0s - loss: 0.3946 - 74ms/epoch - 1ms/step\n",
      "Epoch 177/200\n",
      "63/63 - 0s - loss: 0.3907 - 84ms/epoch - 1ms/step\n",
      "Epoch 178/200\n",
      "63/63 - 0s - loss: 0.3836 - 73ms/epoch - 1ms/step\n",
      "Epoch 179/200\n",
      "63/63 - 0s - loss: 0.3891 - 74ms/epoch - 1ms/step\n",
      "Epoch 180/200\n",
      "63/63 - 0s - loss: 0.3791 - 101ms/epoch - 2ms/step\n",
      "Epoch 181/200\n",
      "63/63 - 0s - loss: 0.3912 - 74ms/epoch - 1ms/step\n",
      "Epoch 182/200\n",
      "63/63 - 0s - loss: 0.3677 - 70ms/epoch - 1ms/step\n",
      "Epoch 183/200\n",
      "63/63 - 0s - loss: 0.3948 - 69ms/epoch - 1ms/step\n",
      "Epoch 184/200\n",
      "63/63 - 0s - loss: 0.3710 - 75ms/epoch - 1ms/step\n",
      "Epoch 185/200\n",
      "63/63 - 0s - loss: 0.3820 - 70ms/epoch - 1ms/step\n",
      "Epoch 186/200\n",
      "63/63 - 0s - loss: 0.4037 - 70ms/epoch - 1ms/step\n",
      "Epoch 187/200\n",
      "63/63 - 0s - loss: 0.4082 - 71ms/epoch - 1ms/step\n",
      "Epoch 188/200\n",
      "63/63 - 0s - loss: 0.3792 - 79ms/epoch - 1ms/step\n",
      "Epoch 189/200\n",
      "63/63 - 0s - loss: 0.3753 - 79ms/epoch - 1ms/step\n",
      "Epoch 190/200\n",
      "63/63 - 0s - loss: 0.4051 - 70ms/epoch - 1ms/step\n",
      "Epoch 191/200\n",
      "63/63 - 0s - loss: 0.3866 - 84ms/epoch - 1ms/step\n",
      "Epoch 192/200\n",
      "63/63 - 0s - loss: 0.3748 - 75ms/epoch - 1ms/step\n",
      "Epoch 193/200\n",
      "63/63 - 0s - loss: 0.3698 - 75ms/epoch - 1ms/step\n",
      "Epoch 194/200\n",
      "63/63 - 0s - loss: 0.3668 - 75ms/epoch - 1ms/step\n",
      "Epoch 195/200\n",
      "63/63 - 0s - loss: 0.3950 - 73ms/epoch - 1ms/step\n",
      "Epoch 196/200\n",
      "63/63 - 0s - loss: 0.3789 - 79ms/epoch - 1ms/step\n",
      "Epoch 197/200\n",
      "63/63 - 0s - loss: 0.4377 - 75ms/epoch - 1ms/step\n",
      "Epoch 198/200\n",
      "63/63 - 0s - loss: 0.4077 - 72ms/epoch - 1ms/step\n",
      "Epoch 199/200\n",
      "63/63 - 0s - loss: 0.4068 - 73ms/epoch - 1ms/step\n",
      "Epoch 200/200\n",
      "63/63 - 0s - loss: 0.4285 - 119ms/epoch - 2ms/step\n"
     ]
    },
    {
     "data": {
      "text/plain": [
       "<keras.callbacks.History at 0x7fe8a95ab0a0>"
      ]
     },
     "execution_count": 5,
     "metadata": {},
     "output_type": "execute_result"
    }
   ],
   "source": [
    "model.fit(training_data[\"inputs\"], training_data[\"targets\"], epochs = 200, verbose = 2)\n",
    "\n",
    "# epoch - the iteration over one dataset\n",
    "# verbose = 0 means the model is silent; verbose = 1 shows the info how model performs\n"
   ]
  },
  {
   "cell_type": "markdown",
   "id": "a82647e7",
   "metadata": {},
   "source": [
    "## Extract the weights and biases"
   ]
  },
  {
   "cell_type": "code",
   "execution_count": 6,
   "id": "6d7b2b3b",
   "metadata": {},
   "outputs": [
    {
     "data": {
      "text/plain": [
       "[array([[ 1.9707854],\n",
       "        [-3.019476 ]], dtype=float32),\n",
       " array([5.008861], dtype=float32)]"
      ]
     },
     "execution_count": 6,
     "metadata": {},
     "output_type": "execute_result"
    }
   ],
   "source": [
    "model.layers[0].get_weights()"
   ]
  },
  {
   "cell_type": "code",
   "execution_count": 7,
   "id": "bfa257c3",
   "metadata": {},
   "outputs": [
    {
     "data": {
      "text/plain": [
       "array([[ 1.9707854],\n",
       "       [-3.019476 ]], dtype=float32)"
      ]
     },
     "execution_count": 7,
     "metadata": {},
     "output_type": "execute_result"
    }
   ],
   "source": [
    "weights = model.layers[0].get_weights()[0]\n",
    "weights"
   ]
  },
  {
   "cell_type": "code",
   "execution_count": 8,
   "id": "9e4ca90b",
   "metadata": {},
   "outputs": [
    {
     "data": {
      "text/plain": [
       "array([5.008861], dtype=float32)"
      ]
     },
     "execution_count": 8,
     "metadata": {},
     "output_type": "execute_result"
    }
   ],
   "source": [
    "bias = model.layers[0].get_weights()[1]\n",
    "bias"
   ]
  },
  {
   "cell_type": "markdown",
   "id": "fbf42265",
   "metadata": {},
   "source": [
    "## Extract the outputs"
   ]
  },
  {
   "cell_type": "code",
   "execution_count": 9,
   "id": "e53cb5f2",
   "metadata": {},
   "outputs": [],
   "source": [
    "out = model.predict_on_batch(training_data[\"inputs\"]).round(1)"
   ]
  },
  {
   "cell_type": "code",
   "execution_count": 10,
   "id": "96b1184e",
   "metadata": {},
   "outputs": [],
   "source": [
    "tar = training_data[\"targets\"].round(1)"
   ]
  },
  {
   "cell_type": "markdown",
   "id": "f79d7884",
   "metadata": {},
   "source": [
    "## Plotting data to compare outputs and targets"
   ]
  },
  {
   "cell_type": "code",
   "execution_count": 11,
   "id": "f59041d3",
   "metadata": {},
   "outputs": [
    {
     "data": {
      "image/png": "[encoded data removed]",
      "text/plain": [
       "<Figure size 640x480 with 1 Axes>"
      ]
     },
     "metadata": {},
     "output_type": "display_data"
    }
   ],
   "source": [
    "plt.plot(np.squeeze(out), np.squeeze(tar))\n",
    "plt.xlabel(\"outputs\")\n",
    "plt.ylabel(\"targets\")\n",
    "plt.show()"
   ]
  },
  {
   "cell_type": "code",
   "execution_count": null,
   "id": "3e76931f",
   "metadata": {},
   "outputs": [],
   "source": []
  }
 ],
 "metadata": {
  "kernelspec": {
   "display_name": "Python 3 (ipykernel)",
   "language": "python",
   "name": "python3"
  },
  "language_info": {
   "codemirror_mode": {
    "name": "ipython",
    "version": 3
   },
   "file_extension": ".py",
   "mimetype": "text/x-python",
   "name": "python",
   "nbconvert_exporter": "python",
   "pygments_lexer": "ipython3",
   "version": "3.10.9"
  }
 },
 "nbformat": 4,
 "nbformat_minor": 5
}
