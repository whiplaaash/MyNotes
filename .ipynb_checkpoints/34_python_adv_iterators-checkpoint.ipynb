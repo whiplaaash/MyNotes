{
 "cells": [
  {
   "cell_type": "markdown",
   "id": "60f6224e",
   "metadata": {},
   "source": [
    "# Lesson 34: Python Advanced - Iterators"
   ]
  },
  {
   "cell_type": "markdown",
   "id": "19dd6dfe",
   "metadata": {},
   "source": [
    "## Iterators and iterable types - introduction"
   ]
  },
  {
   "cell_type": "code",
   "execution_count": 1,
   "id": "0d1ee21c",
   "metadata": {},
   "outputs": [
    {
     "name": "stdout",
     "output_type": "stream",
     "text": [
      "Execution started at: 2023-02-01 12:01:47.915821\n",
      "Size of dates is 2115944\n",
      "Execution stopped at: 2023-02-01 12:01:48.179676\n",
      "Total time: 0:00:00.263855\n"
     ]
    }
   ],
   "source": [
    "# Here we will see how the \"for\" loop works using dates:\n",
    "\n",
    "import datetime as dt\n",
    "import sys\n",
    "\n",
    "start = dt.datetime.now()\n",
    "print(\"Execution started at: {}\".format(start))\n",
    "\n",
    "dates = [dt.date(2000,1,1) + dt.timedelta(days = i) for i in range(250000)]\n",
    "print(\"Size of dates is {}\".format(sys.getsizeof(dates)))\n",
    "\n",
    "for d in dates:\n",
    "    pass\n",
    "\n",
    "stop = dt.datetime.now()\n",
    "\n",
    "print(\"Execution stopped at: {}\".format(stop))\n",
    "print(\"Total time: {}\".format(stop - start))"
   ]
  },
  {
   "cell_type": "code",
   "execution_count": 2,
   "id": "199e5cfe",
   "metadata": {},
   "outputs": [
    {
     "name": "stdout",
     "output_type": "stream",
     "text": [
      "Execution started at: 2023-02-01 12:01:48.197432\n",
      "Size of dates is 48\n",
      "Execution stopped at: 2023-02-01 12:01:48.422249\n",
      "Total time: 0:00:00.224817\n"
     ]
    }
   ],
   "source": [
    "# Now we will try to make this process faster and smaller in size:\n",
    "\n",
    "import datetime as dt\n",
    "import sys\n",
    "\n",
    "start = dt.datetime.now()\n",
    "print(\"Execution started at: {}\".format(start))\n",
    "\n",
    "# We will create the class to produce a list of maxdays:\n",
    "\n",
    "class MillionDays:\n",
    "    \n",
    "    def __init__(self, year, month, day, maxdays):\n",
    "        self.date = dt.date(year, month, day)\n",
    "        self.maxdays = maxdays\n",
    "        \n",
    "    def __next__(self):\n",
    "        ret = self.date\n",
    "        self.date += dt.timedelta(days = 1)\n",
    "        return ret\n",
    "\n",
    "# Here I use the class to create a starting date:\n",
    "md = MillionDays(2000, 1, 1, 250000)\n",
    "\n",
    "# I check if the class with method next() works:\n",
    "# print(next(md))\n",
    "# print(next(md))\n",
    "# print(next(md))\n",
    "\n",
    "# Because the method next() works I can make a loop to call it 250000:\n",
    "\n",
    "for i in range(250000):\n",
    "    next(md)\n",
    "    \n",
    "print(\"Size of dates is {}\".format(sys.getsizeof(md)))\n",
    "\n",
    "stop = dt.datetime.now()\n",
    "\n",
    "print(\"Execution stopped at: {}\".format(stop))\n",
    "print(\"Total time: {}\".format(stop - start))\n",
    "\n",
    "# Note that now, with class, the loop process is a bit fatser and it takes much less memory than in a standard way."
   ]
  },
  {
   "cell_type": "code",
   "execution_count": 3,
   "id": "c1283e3f",
   "metadata": {},
   "outputs": [
    {
     "name": "stdout",
     "output_type": "stream",
     "text": [
      "Execution started at: 2023-02-01 12:01:48.435068\n",
      "Size of dates is 48\n"
     ]
    }
   ],
   "source": [
    "# I can do the same thing by extending the class and making a shorted version of \"for\" loop:\n",
    "\n",
    "import datetime as dt\n",
    "import sys\n",
    "\n",
    "start = dt.datetime.now()\n",
    "print(\"Execution started at: {}\".format(start))\n",
    "\n",
    "class MillionDays:\n",
    "    \n",
    "    def __init__(self, year, month, day, maxdays):\n",
    "        self.date = dt.date(year, month, day)\n",
    "        self.maxdays = maxdays\n",
    "        \n",
    "    # I have to modify this function to introduce when the __next__() should stop working:\n",
    "    # The class is iterable if it poses __next__ method.\n",
    "    \n",
    "    def __next__(self):\n",
    "        if self.maxdays <= 0:\n",
    "            raise StopIteration()\n",
    "        ret = self.date\n",
    "        self.date += dt.timedelta(days = 1)\n",
    "        self.maxdays -= 1\n",
    "        return ret\n",
    "    \n",
    "    # The class is an iterator if it has __iter__ method.\n",
    "    \n",
    "    def __iter__(self):\n",
    "        return self\n",
    "    \n",
    "md = MillionDays(2000, 1, 1, 250000)\n",
    "print(\"Size of dates is {}\".format(sys.getsizeof(md)))\n",
    "\n",
    "# Sometimes, if an object is not iterable, I can add the function iter() to this object:\n",
    "# for i in iter(md):\n",
    "#     pass\n",
    "\n",
    "# But in such a case, there would be an OverFlowError, because maxdays are not imposed anywhere.\n",
    "\n",
    "# Because iter() does not work so simply, we decided to extend the class so that iter() is there and maxdays\n",
    "# are imposed in the __next__ method.\n",
    "# Now the loop works:\n",
    "\n",
    "for i in md:\n",
    "    pass\n"
   ]
  },
  {
   "cell_type": "markdown",
   "id": "09cf87e0",
   "metadata": {},
   "source": [
    "## __getitem__ method"
   ]
  },
  {
   "cell_type": "code",
   "execution_count": 8,
   "id": "641d68bf",
   "metadata": {},
   "outputs": [
    {
     "name": "stdout",
     "output_type": "stream",
     "text": [
      "2000-01-01 2000-01-02 2000-01-04 2000-01-11\n",
      "2000-01-01 2000-01-02 2000-01-03\n",
      "2000-01-01\n",
      "2000-01-02\n",
      "2000-01-03\n",
      "2000-01-04\n",
      "2000-01-05\n",
      "2000-01-06\n",
      "2000-01-07\n",
      "2000-01-08\n",
      "2000-01-09\n",
      "2000-01-10\n",
      "2000-01-11\n",
      "2000-01-12\n",
      "2000-01-13\n",
      "2000-01-14\n",
      "2000-01-15\n",
      "2000-01-16\n",
      "2000-01-17\n",
      "2000-01-18\n",
      "2000-01-19\n",
      "2000-01-20\n",
      "2000-01-21\n",
      "2000-01-22\n",
      "2000-01-23\n",
      "2000-01-24\n",
      "2000-01-25\n",
      "2000-01-26\n"
     ]
    }
   ],
   "source": [
    "# It appears that to make the class iterable we do not have to define the method next() in the class.\n",
    "# Instead we can use __getitem__ method:\n",
    "\n",
    "class MillionDays:\n",
    "    \n",
    "    def __init__(self, year, month, day, maxdays):\n",
    "        self.date = dt.date(year, month, day)\n",
    "        self.maxdays = maxdays\n",
    "        \n",
    "    # We define the method __getitem__. It is used to generate an arbitrary day in my calendar by properly setting\n",
    "    # the \"item\"\n",
    "    \n",
    "    def __getitem__(self, item):\n",
    "        if item <= self.maxdays:\n",
    "            return self.date + dt.timedelta(days = item)\n",
    "        else:\n",
    "            raise StopIteration()\n",
    "            \n",
    "md = MillionDays(2000, 1, 1, 25)\n",
    "\n",
    "# To show the consequtive days, we use:\n",
    "\n",
    "print(md[0], md[1], md[3], md[10])\n",
    "\n",
    "# Now we check if the next() function works:\n",
    "# print(next(md), next(md), next(md))\n",
    "# But because we do not have __next__ defined so the class is not an iterator now and we get an error.\n",
    "\n",
    "# BUT, we can create in this case an artificial iterator, because we see that the class has all properties\n",
    "# of being iterable (note that iter() is different from __iter__ as it is outside of the class)\n",
    "\n",
    "it = iter(md)\n",
    "\n",
    "# And now we can call the next() function:\n",
    "\n",
    "print(next(it), next(it), next(it))\n",
    "\n",
    "# Now the \"for\" loop also works, (but note to change the maxdays, otherwise it will take to long too generate all\n",
    "# values):\n",
    "\n",
    "for d in md:\n",
    "    print(d)\n",
    "        "
   ]
  },
  {
   "cell_type": "markdown",
   "id": "cfe5624f",
   "metadata": {},
   "source": [
    "## Iterators for system's types"
   ]
  },
  {
   "cell_type": "code",
   "execution_count": 11,
   "id": "c24e6cdb",
   "metadata": {},
   "outputs": [
    {
     "name": "stdout",
     "output_type": "stream",
     "text": [
      "2\n",
      "4\n",
      "6\n",
      "8\n",
      "2\n"
     ]
    }
   ],
   "source": [
    "# A tuple is iterable but it is not an iterator:\n",
    "\n",
    "aTuple = (2, 4, 6, 8)\n",
    "\n",
    "for x in aTuple:\n",
    "    print(x)\n",
    "\n",
    "# This gives an error:\n",
    "# print(next(aTuple))\n",
    "\n",
    "# So we define an iterator:\n",
    "\n",
    "it = iter(aTuple)\n",
    "print(next(it))"
   ]
  },
  {
   "cell_type": "code",
   "execution_count": 16,
   "id": "d04a36c1",
   "metadata": {},
   "outputs": [
    {
     "name": "stdout",
     "output_type": "stream",
     "text": [
      "1\n",
      "3\n",
      "5\n",
      "7\n",
      "9\n",
      "1\n"
     ]
    }
   ],
   "source": [
    "# A list is iterable, and it is not an iterator:\n",
    "\n",
    "aList = [1, 3, 5, 7, 9]\n",
    "\n",
    "for x in aList:\n",
    "    print(x)\n",
    "    \n",
    "# This does not work:\n",
    "# print(next(aList))\n",
    "\n",
    "it = iter(aList)\n",
    "print(next(it))\n"
   ]
  },
  {
   "cell_type": "code",
   "execution_count": 17,
   "id": "c6cdf363",
   "metadata": {},
   "outputs": [],
   "source": [
    "# The same holds for: a set (aSet = {some elements})"
   ]
  },
  {
   "cell_type": "code",
   "execution_count": 19,
   "id": "c4a20270",
   "metadata": {},
   "outputs": [
    {
     "name": "stdout",
     "output_type": "stream",
     "text": [
      "\n",
      "\n",
      "----------------------------------------\n",
      "\n",
      "Function 'ChangeSalary' started at 2023-01-12T01:26:39.996997\n",
      "\n",
      "Following parameters were used:\n",
      "\n",
      "Jonson 2000 True\n",
      "\n",
      "\n",
      "\n",
      "Function returned 2000\n",
      "\n",
      "\n",
      "\n",
      "----------------------------------------\n",
      "\n",
      "Function 'ChangeSalary' started at 2023-01-12T01:26:40.001415\n",
      "\n",
      "Following parameters were used:\n",
      "\n",
      "Jonson 2000\n",
      "\n",
      "is_bonus=True\n",
      "\n",
      "Function returned 2000\n",
      "\n",
      "\n",
      "\n"
     ]
    }
   ],
   "source": [
    "# Now we try an lines of a file:\n",
    "\n",
    "with open(\"function_log.txt\") as file:\n",
    "    for line in file:\n",
    "        print(line)\n",
    "\n",
    "# So the file is iterable."
   ]
  },
  {
   "cell_type": "code",
   "execution_count": 2,
   "id": "ffff4a23",
   "metadata": {},
   "outputs": [
    {
     "name": "stdout",
     "output_type": "stream",
     "text": [
      "\n",
      "\n",
      "----------------------------------------\n",
      "\n",
      "Function 'ChangeSalary' started at 2023-01-12T01:26:39.996997\n",
      "\n",
      "Following parameters were used:\n",
      "\n",
      "Jonson 2000 True\n",
      "\n",
      "\n",
      "\n",
      "Function returned 2000\n",
      "\n",
      "\n",
      "\n",
      "----------------------------------------\n",
      "\n",
      "Function 'ChangeSalary' started at 2023-01-12T01:26:40.001415\n",
      "\n",
      "Following parameters were used:\n",
      "\n",
      "Jonson 2000\n",
      "\n",
      "is_bonus=True\n",
      "\n",
      "Function returned 2000\n",
      "\n",
      "\n",
      "\n"
     ]
    }
   ],
   "source": [
    "# Now we do a similar thing but with while loop:\n",
    "\n",
    "with open(\"function_log.txt\") as file:\n",
    "    while True:\n",
    "        try:\n",
    "            print(next(file))\n",
    "        except StopIteration:\n",
    "            break\n",
    "            \n",
    "# We had to add the try-except command to stop the loop after getting the last line of the file.\n",
    "\n",
    "# So the object \"file\" is iterable and it has its own iterator."
   ]
  },
  {
   "cell_type": "markdown",
   "id": "087430e5",
   "metadata": {},
   "source": [
    "## A class with external iterator"
   ]
  },
  {
   "cell_type": "code",
   "execution_count": 13,
   "id": "e6211543",
   "metadata": {},
   "outputs": [
    {
     "name": "stdout",
     "output_type": "stream",
     "text": [
      "2000-01-01\n",
      "2000-01-02\n",
      "2000-01-03\n"
     ]
    }
   ],
   "source": [
    "# Before we saw that the class with iterator has __next__ and __iter__ methods. \n",
    "# Now we will see how to build an iterator from a different class:\n",
    "\n",
    "import datetime as dt\n",
    "\n",
    "# We define a class\n",
    "class MillionDaysIterator:\n",
    "    \n",
    "    def __init__(self, date, maxdays):\n",
    "        self.date = date\n",
    "        self.maxdays = maxdays\n",
    "    \n",
    "    def __next__(self):\n",
    "        if self.maxdays <= 0:\n",
    "            raise StopIteration()\n",
    "        ret = self.date\n",
    "        self.date += dt.timedelta(days = 1)\n",
    "        self.maxdays -= 1\n",
    "        return ret\n",
    "    \n",
    "    \n",
    "# My old class does not have noe the __next__ method, but it calls the class with iterator:\n",
    "\n",
    "class MillionDays:\n",
    "    \n",
    "    def __init__(self, year, month, day, maxdays):\n",
    "        self.date = dt.date(year, month, day)\n",
    "        self.maxdays = maxdays\n",
    "        self.iterator = MillionDaysIterator(self.date, self.maxdays)\n",
    "\n",
    "    # Here I return not the class itself, but the iterator:\n",
    "    def __iter__(self):\n",
    "        return self.iterator\n",
    "    \n",
    "# Note that now, my first class is an iterator and the second class is iterable. To iterate over the second\n",
    "# class, I used the iterator of the first class.\n",
    "    \n",
    "md = MillionDays(2000, 1, 1, 3)\n",
    "\n",
    "# To use next, I make the instance \"md\" of the second class an iterator by using the function iter().\n",
    "\n",
    "it = iter(md)\n",
    "print(next(it))\n",
    "\n",
    "for d in md:\n",
    "    print(d)"
   ]
  },
  {
   "cell_type": "code",
   "execution_count": null,
   "id": "4803f669",
   "metadata": {},
   "outputs": [],
   "source": []
  }
 ],
 "metadata": {
  "kernelspec": {
   "display_name": "Python 3 (ipykernel)",
   "language": "python",
   "name": "python3"
  },
  "language_info": {
   "codemirror_mode": {
    "name": "ipython",
    "version": 3
   },
   "file_extension": ".py",
   "mimetype": "text/x-python",
   "name": "python",
   "nbconvert_exporter": "python",
   "pygments_lexer": "ipython3",
   "version": "3.9.13"
  }
 },
 "nbformat": 4,
 "nbformat_minor": 5
}
