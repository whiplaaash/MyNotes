{
 "cells": [
  {
   "cell_type": "markdown",
   "id": "3e0b6c28",
   "metadata": {},
   "source": [
    "# Lesson 29: Python Advanced: Functions"
   ]
  },
  {
   "cell_type": "code",
   "execution_count": 1,
   "id": "c91d7ea2",
   "metadata": {},
   "outputs": [],
   "source": [
    "import numpy as np"
   ]
  },
  {
   "cell_type": "markdown",
   "id": "23d5aa5c",
   "metadata": {},
   "source": [
    "## Functions and default values of their arguments"
   ]
  },
  {
   "cell_type": "code",
   "execution_count": 2,
   "id": "176b56db",
   "metadata": {},
   "outputs": [],
   "source": [
    "# First I define a function:\n",
    "\n",
    "def BuyMe(prefix, what):\n",
    "    print(prefix, what)"
   ]
  },
  {
   "cell_type": "code",
   "execution_count": 3,
   "id": "4cf5b4df",
   "metadata": {},
   "outputs": [
    {
     "name": "stdout",
     "output_type": "stream",
     "text": [
      "Please buy me a new car\n"
     ]
    }
   ],
   "source": [
    "BuyMe(\"Please buy me\", \"a new car\")"
   ]
  },
  {
   "cell_type": "code",
   "execution_count": 4,
   "id": "466f771f",
   "metadata": {},
   "outputs": [
    {
     "name": "stdout",
     "output_type": "stream",
     "text": [
      "Please buy me a new car\n"
     ]
    }
   ],
   "source": [
    "# If I give arguments by their names I do not have to remember their order inside the function:\n",
    "\n",
    "BuyMe(what = \"a new car\", prefix = \"Please buy me\")"
   ]
  },
  {
   "cell_type": "code",
   "execution_count": 5,
   "id": "5c2ba315",
   "metadata": {},
   "outputs": [
    {
     "name": "stdout",
     "output_type": "stream",
     "text": [
      "Please something nice\n"
     ]
    }
   ],
   "source": [
    "# I can also determine the second argument and then:\n",
    "\n",
    "def SellMe(prefix, what = \"something nice\"):\n",
    "    print(prefix, what)\n",
    "    \n",
    "SellMe(\"Please\")"
   ]
  },
  {
   "cell_type": "code",
   "execution_count": 7,
   "id": "bbdb8c08",
   "metadata": {},
   "outputs": [
    {
     "name": "stdout",
     "output_type": "stream",
     "text": [
      "Please sell me something sweet\n"
     ]
    }
   ],
   "source": [
    "# BUT, a declared argument shows up if nothing else is given. If I give a new argument, it will have a priority:\n",
    "\n",
    "SellMe(\"Please sell me\", \"something sweet\")"
   ]
  },
  {
   "cell_type": "code",
   "execution_count": 8,
   "id": "18ed13de",
   "metadata": {},
   "outputs": [
    {
     "ename": "SyntaxError",
     "evalue": "non-default argument follows default argument (2844101509.py, line 3)",
     "output_type": "error",
     "traceback": [
      "\u001b[0;36m  Input \u001b[0;32mIn [8]\u001b[0;36m\u001b[0m\n\u001b[0;31m    def SellMeThing(prefix = \"Please\", what):\u001b[0m\n\u001b[0m                    ^\u001b[0m\n\u001b[0;31mSyntaxError\u001b[0m\u001b[0;31m:\u001b[0m non-default argument follows default argument\n"
     ]
    }
   ],
   "source": [
    "# However, if I declare the first argument, the function will not be working:\n",
    "\n",
    "def SellMeThing(prefix = \"Please\", what):\n",
    "    print(prefix, what)\n",
    "    \n",
    "SellMe(what = \"anything\")"
   ]
  },
  {
   "cell_type": "code",
   "execution_count": 9,
   "id": "3c76b46d",
   "metadata": {},
   "outputs": [],
   "source": [
    "# So: the first argument works as a real argument and better not set it as default, \n",
    "# and other consequtive arguments can be set as default."
   ]
  },
  {
   "cell_type": "markdown",
   "id": "40f90d1d",
   "metadata": {},
   "source": [
    "## Special arguments: args, kwargs"
   ]
  },
  {
   "cell_type": "code",
   "execution_count": 13,
   "id": "ba3116e2",
   "metadata": {},
   "outputs": [
    {
     "name": "stdout",
     "output_type": "stream",
     "text": [
      "Please buy me a car\n",
      "('a dog', 'a cat')\n",
      "{'shop': 'market', 'color': 'blue'}\n"
     ]
    }
   ],
   "source": [
    "# If I need to have more than two arguments, and actually I do not know how many I need: \n",
    "# I can add *args (or any word in the form \"*word\") as a parameter, which will return a list,\n",
    "# or I can add **kwargs, which will return a dictionary (then keys are needed):\n",
    "\n",
    "def BuyMe(prefix, what, *args, **kwargs):\n",
    "    print(prefix, what)\n",
    "    print(args)\n",
    "    print(kwargs)\n",
    "    \n",
    "BuyMe(\"Please buy me\", \"a car\", \"a dog\", \"a cat\", shop = \"market\", color = \"blue\")"
   ]
  },
  {
   "cell_type": "code",
   "execution_count": 18,
   "id": "612b49d7",
   "metadata": {},
   "outputs": [
    {
     "name": "stdout",
     "output_type": "stream",
     "text": [
      "Please buy me something to eat\n",
      "('milk', 'butter', 'bread')\n",
      "{'shop': 'lidl', 'street': 'kolorowa', 'city': 'Warsaw'}\n"
     ]
    }
   ],
   "source": [
    "# I can define these special arguments before I call the function:\n",
    "\n",
    "products = [\"milk\", \"butter\", \"bread\"]\n",
    "places = {\"shop\" : \"lidl\", \"street\" : \"kolorowa\", \"city\" : \"Warsaw\"}\n",
    "\n",
    "# when calling the function I should use \"*\" to display things nicely:\n",
    "\n",
    "BuyMe(\"Please buy me\", \"something to eat\", *products, **places)"
   ]
  },
  {
   "cell_type": "markdown",
   "id": "c6420183",
   "metadata": {},
   "source": [
    "## Functions as variables"
   ]
  },
  {
   "cell_type": "code",
   "execution_count": 23,
   "id": "0c66233d",
   "metadata": {},
   "outputs": [
    {
     "name": "stdout",
     "output_type": "stream",
     "text": [
      "Give me a flower\n",
      "<class 'function'>\n",
      "Give me a new car\n"
     ]
    }
   ],
   "source": [
    "def BuyMe(what):\n",
    "    print(\"Give me\", what)\n",
    "    \n",
    "BuyMe(\"a flower\")\n",
    "\n",
    "# Now I can declare something which looks like a variable but because it is ascribed to my function, it is \n",
    "# the function:\n",
    "\n",
    "SellMe = BuyMe\n",
    "\n",
    "print(type(SellMe))\n",
    "\n",
    "SellMe(\"a new car\")\n",
    "\n",
    "# Up to now it looks weird to have 2 the same functions, but it can be useful."
   ]
  },
  {
   "cell_type": "code",
   "execution_count": 25,
   "id": "2108db80",
   "metadata": {},
   "outputs": [
    {
     "name": "stdout",
     "output_type": "stream",
     "text": [
      "starting with pizza\n",
      "going forward with pizza\n",
      "turning left with pizza\n",
      "turning right with pizza\n",
      "stopping with pizza\n"
     ]
    }
   ],
   "source": [
    "# Example: a robot going around the restaurant and serving meals. For this we define functions for him to move:\n",
    "\n",
    "def GoLeft(*args):\n",
    "    print(\"turning left with\", *args)\n",
    "    \n",
    "def GoRight(*args):\n",
    "    print(\"turning right with\", *args)\n",
    "\n",
    "def GoForward(*args):\n",
    "    print(\"going forward with\", *args)\n",
    "    \n",
    "def GoBack(*args):\n",
    "    print(\"going back with\", *args)\n",
    "    \n",
    "def Start(*args):\n",
    "    print(\"starting with\", *args)\n",
    "    \n",
    "def Stop(*args):\n",
    "    print(\"stopping with\", *args)\n",
    "    \n",
    "# Below I declare instructions which use functions as variables:\n",
    "    \n",
    "instructions = [Start, GoForward, GoLeft, GoRight, Stop]\n",
    "\n",
    "dish = \"pizza\"\n",
    "for instr in instructions:\n",
    "    instr(dish)"
   ]
  },
  {
   "cell_type": "markdown",
   "id": "bb8fd5a9",
   "metadata": {},
   "source": [
    "## Functions as arguments"
   ]
  },
  {
   "cell_type": "code",
   "execution_count": 26,
   "id": "44302254",
   "metadata": {},
   "outputs": [
    {
     "name": "stdout",
     "output_type": "stream",
     "text": [
      "Adding milk\n",
      "Adding sugar\n",
      "Adding flour\n",
      "Adding eggs\n",
      "Mixing ingredients\n",
      "Baking cookies\n"
     ]
    }
   ],
   "source": [
    "# Now we are baking:\n",
    "\n",
    "def Bake(what):\n",
    "    print(\"Baking {}\".format(what))\n",
    "    \n",
    "def Add(what):\n",
    "    print(\"Adding {}\".format(what))\n",
    "    \n",
    "def Mix(what):\n",
    "    print(\"Mixing {}\".format(what))\n",
    "    \n",
    "cookBook = [(Add, \"milk\"), (Add, \"sugar\"), (Add, \"flour\"), (Add, \"eggs\"), (Mix, \"ingredients\"), (Bake, \"cookies\")]\n",
    "\n",
    "# And we are ready to bake cookies:\n",
    "\n",
    "for activity, obj in cookBook:\n",
    "    activity(obj)\n",
    "    \n",
    "# Note that here functions work as functions. "
   ]
  },
  {
   "cell_type": "code",
   "execution_count": 28,
   "id": "31734e55",
   "metadata": {},
   "outputs": [
    {
     "name": "stdout",
     "output_type": "stream",
     "text": [
      "------------------------------\n",
      "Baking brownies\n",
      "Adding milk\n",
      "Adding sugar\n",
      "Adding flour\n",
      "Adding eggs\n",
      "Mixing ingredients\n",
      "Baking cookies\n"
     ]
    }
   ],
   "source": [
    "# The same procedure can be done in a different way:\n",
    "# Here my functions work as arguments of another function:\n",
    "\n",
    "print(\"-\"*30)\n",
    "\n",
    "def Cook(activity, obj):\n",
    "    activity(obj)\n",
    "    \n",
    "Cook(Bake, \"brownies\")\n",
    "\n",
    "# and to apply it for a recipe in a cookBook:\n",
    "\n",
    "for activity, obj in cookBook:\n",
    "    Cook(activity, obj)"
   ]
  },
  {
   "cell_type": "markdown",
   "id": "4b322d12",
   "metadata": {},
   "source": [
    "## Function returning a function"
   ]
  },
  {
   "cell_type": "code",
   "execution_count": 32,
   "id": "a8ac5244",
   "metadata": {},
   "outputs": [
    {
     "name": "stdout",
     "output_type": "stream",
     "text": [
      "6\n",
      "-6\n"
     ]
    }
   ],
   "source": [
    "# Let us define a function:\n",
    "\n",
    "def Calculate(kind = \"+\", *args):\n",
    "    result = 0\n",
    "    if kind == \"+\":\n",
    "        for a in args:\n",
    "            result += a\n",
    "    elif kind == \"-\":\n",
    "        for a in args:\n",
    "            result -= a\n",
    "    return result\n",
    "\n",
    "print(Calculate(\"+\", 1,2,3))\n",
    "print(Calculate(\"-\", 1,2,3))"
   ]
  },
  {
   "cell_type": "code",
   "execution_count": 65,
   "id": "785638d5",
   "metadata": {},
   "outputs": [
    {
     "name": "stdout",
     "output_type": "stream",
     "text": [
      "5\n",
      "-4\n"
     ]
    }
   ],
   "source": [
    "# But now, we want to create a function which will be adding or substracting numbers:\n",
    "\n",
    "# Note that this function has to be dynamic and thus we will use exec() for the internal function f:\n",
    "\n",
    "def CreateFunction(kind = \"+\"):\n",
    "    source = '''\n",
    "def f(*args):\n",
    "    result = 0\n",
    "    for a in args:\n",
    "        result {}= a\n",
    "    return result\n",
    "'''.format(kind)\n",
    "    exec(source, globals())\n",
    "    \n",
    "    return f\n",
    "\n",
    "# Above I had to define environement \"globals()\" to return the function f. Otherwise, the program works\n",
    "# on the copy of environement and does not return anything.\n",
    "\n",
    "# calling internal functions depending on a sign:\n",
    "\n",
    "f_add = CreateFunction(\"+\")\n",
    "print(f_add(1,1,3))\n",
    "f_subs = CreateFunction(\"-\")\n",
    "print(f_subs(2,2))"
   ]
  },
  {
   "cell_type": "code",
   "execution_count": null,
   "id": "8205cb91",
   "metadata": {},
   "outputs": [],
   "source": []
  }
 ],
 "metadata": {
  "kernelspec": {
   "display_name": "Python 3 (ipykernel)",
   "language": "python",
   "name": "python3"
  },
  "language_info": {
   "codemirror_mode": {
    "name": "ipython",
    "version": 3
   },
   "file_extension": ".py",
   "mimetype": "text/x-python",
   "name": "python",
   "nbconvert_exporter": "python",
   "pygments_lexer": "ipython3",
   "version": "3.9.13"
  }
 },
 "nbformat": 4,
 "nbformat_minor": 5
}
