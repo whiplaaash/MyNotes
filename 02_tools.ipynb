{
 "cells": [
  {
   "cell_type": "markdown",
   "id": "65582cd1",
   "metadata": {},
   "source": [
    "# Lesson 2: Tools needed to perform various actions on the variables"
   ]
  },
  {
   "cell_type": "markdown",
   "id": "09cbcdc0",
   "metadata": {},
   "source": [
    "# Functions"
   ]
  },
  {
   "cell_type": "markdown",
   "id": "88eea394",
   "metadata": {},
   "source": [
    "### Defining a function"
   ]
  },
  {
   "cell_type": "code",
   "execution_count": 29,
   "id": "bc79d54b",
   "metadata": {},
   "outputs": [
    {
     "name": "stdout",
     "output_type": "stream",
     "text": [
      "This is the result of multiplication of two numbers\n",
      "Is it easy?\n"
     ]
    },
    {
     "data": {
      "text/plain": [
       "10"
      ]
     },
     "execution_count": 29,
     "metadata": {},
     "output_type": "execute_result"
    }
   ],
   "source": [
    "def five(x):\n",
    "    y = x + 5\n",
    "    return y     # This is how we define a function. Note \":\" is obligatory. After it we have \n",
    "                 # to use indentation, but in Python3 it is done automatically. Everything that is written \n",
    "                 # after the indentation will belong to the definition of the function.\n",
    "\n",
    "five(9)          # To execute the function we start a new line without any indentation.\n",
    "\n",
    "def simple():\n",
    "    print(\"This is function without any argument\")    # An expamle of a function. If the function does not use\n",
    "                                                      # any argument, we use print() to return the outcome.\n",
    "        \n",
    "def two_arguments(v,w):        # This is the function with two arguments. Note to name your function readably.\n",
    "    g = v * w                  \n",
    "    print(\"This is the result of multiplication of two numbers\")\n",
    "    print(\"Is it easy?\")\n",
    "    return g                   # If my function includes both print() and return, it indeed will give back \n",
    "                               # the statements of all prints and the result of return. \n",
    "                               # If I include return twice or more, then my function will react only \n",
    "                               # to the first command, and ignore the others.\n",
    "            \n",
    "def hours(b): \n",
    "    return five(b) + 4         # This is a function used within another function.\n",
    "\n",
    "\n",
    "hours(2)\n",
    "\n",
    "two_arguments(2,5)    # Note how the input is generated. Weird!\n",
    "\n"
   ]
  },
  {
   "cell_type": "markdown",
   "id": "814c33c1",
   "metadata": {},
   "source": [
    "### Built-in functions"
   ]
  },
  {
   "cell_type": "code",
   "execution_count": 49,
   "id": "0585fb4c",
   "metadata": {},
   "outputs": [
    {
     "data": {
      "text/plain": [
       "4"
      ]
     },
     "execution_count": 49,
     "metadata": {},
     "output_type": "execute_result"
    }
   ],
   "source": [
    "# Some examples of built-in functions: type(), print(), int(),.. Some other examples are:\n",
    "\n",
    "max(1,4,7)    # This returns a maximal value.\n",
    "min(1,4,7)    # This returns a minimal value.\n",
    "abs(-3)       # This returns an absolute value.\n",
    "\n",
    "x = [2,3]     # Assigning a list of numbers to x.\n",
    "sum(x)        # This sump up numbers in a list.\n",
    "\n",
    "v = 5.32\n",
    "t = 1\n",
    "round(v,t)    # This rounds the float number v to t digits after the decimal point.\n",
    "\n",
    "a = 2\n",
    "b = 3\n",
    "pow(a,b)      # This returns the power b of the base a.\n",
    "\n",
    "len(x)\n",
    "len(\"Word\")   # This returns the number of elements of a given list or a string."
   ]
  },
  {
   "cell_type": "markdown",
   "id": "788229bf",
   "metadata": {},
   "source": [
    "## Conditions"
   ]
  },
  {
   "cell_type": "code",
   "execution_count": 3,
   "id": "da157544",
   "metadata": {},
   "outputs": [
    {
     "name": "stdout",
     "output_type": "stream",
     "text": [
      "Hooray!\n"
     ]
    }
   ],
   "source": [
    "if 5 == 15/3:\n",
    "    print(\"Hooray!\")     # Afetr \"if\" we insert the condition, which is checked, then we need \":\". \n",
    "                         # Then the indentation is obligatory. Fianlly we say what the program should do\n",
    "                         # if the condition is satisfied. "
   ]
  },
  {
   "cell_type": "code",
   "execution_count": 5,
   "id": "4b947571",
   "metadata": {},
   "outputs": [
    {
     "name": "stdout",
     "output_type": "stream",
     "text": [
      "Ble!\n"
     ]
    }
   ],
   "source": [
    "x = 0\n",
    "\n",
    "if x > 0:\n",
    "    print(\"Yupi!\")\n",
    "else:\n",
    "    print(\"Ble!\")        # Here we add the block \"else\" to indicate what the program should do if the condition is \n",
    "                         # in the first block is not satisfied."
   ]
  },
  {
   "cell_type": "code",
   "execution_count": 10,
   "id": "662dd2ab",
   "metadata": {},
   "outputs": [
    {
     "name": "stdout",
     "output_type": "stream",
     "text": [
      "The number must be zero\n"
     ]
    }
   ],
   "source": [
    "y = 0\n",
    "\n",
    "if y > 0:\n",
    "    print(\"The number is positive\")\n",
    "elif y < 0:\n",
    "    print(\"The number is negative\")\n",
    "else:\n",
    "    print(\"The number must be zero\")   # We add \"elif\" block if we have more than two conditions to check.\n",
    "                                       # Many \"elif\" blocks can be added and they will be checked from\n",
    "                                       # the top to the bottom until one of these conditions is satisfied."
   ]
  },
  {
   "cell_type": "markdown",
   "id": "c064e8a8",
   "metadata": {},
   "source": [
    "## Combining functions and conditions"
   ]
  },
  {
   "cell_type": "code",
   "execution_count": 27,
   "id": "ddd09132",
   "metadata": {},
   "outputs": [
    {
     "data": {
      "text/plain": [
       "200"
      ]
     },
     "execution_count": 27,
     "metadata": {},
     "output_type": "execute_result"
    }
   ],
   "source": [
    "def saved_money(m):\n",
    "    if m >= 100:\n",
    "        m = m + 10\n",
    "        return m\n",
    "    else: \n",
    "        return \"Save more money!\"     # This is a function that uses a condition.\n",
    "    \n",
    "saved_money(190)"
   ]
  },
  {
   "cell_type": "markdown",
   "id": "8f640090",
   "metadata": {},
   "source": [
    "## Sequences"
   ]
  },
  {
   "cell_type": "markdown",
   "id": "36439b10",
   "metadata": {},
   "source": [
    "### Lists"
   ]
  },
  {
   "cell_type": "code",
   "execution_count": 7,
   "id": "54113a47",
   "metadata": {},
   "outputs": [
    {
     "name": "stdout",
     "output_type": "stream",
     "text": [
      "Peter\n",
      "The first element in the list is Ala.\n"
     ]
    },
    {
     "data": {
      "text/plain": [
       "['Rick', 'Peter', 'Matt', 'Maria', 'John', 'Cate', 'Ala']"
      ]
     },
     "execution_count": 7,
     "metadata": {},
     "output_type": "execute_result"
    }
   ],
   "source": [
    "# Lists\n",
    "\n",
    "Participants = [\"Ala\", \"Peter\", \"Gregory\", \"Leila\"]  # Defining a list of strings. [] - are used for the list.\n",
    "Participants                                       # Calling the list on.\n",
    "\n",
    "Participants[2]                                    # Extracting the third element of the list.\n",
    "print(Participants[1])                             # Extracting the second element of the list without \"\".\n",
    "Participants[-1]                                   # Extracting the first element from the end (the last one).\n",
    "Participants[-2]                                   # Extracting the second element from the end.\n",
    "Participants[3] = \"Maria\"                          # Replacing the fourth element by \"Maria\".\n",
    "\n",
    "del Participants[2]                                # Removing the third element from the list.\n",
    "Participants\n",
    "\n",
    "\n",
    "\n",
    "\n",
    "# A method in Python is of the form: .method()\n",
    "# Participants.method() - is callinig the method on the object Participants. It works similarly to a function.\n",
    "\n",
    "Participants.append(\"Cate\")                        # This method adds one more name to the list.\n",
    "Participants.extend([\"John\"])                      # .extend() - works similarly to .append(), but needs [].\n",
    "Participants.extend([\"Rick\",\"Matt\"])               # Adding more than one elements.\n",
    "\n",
    "print(\"The first element in the list is \" + Participants[0] + \".\")  # The elements of the list are strings.\n",
    "\n",
    "Participants.sort()                    # This methods sorts elements of a list in alphabetical order \n",
    "                                       # (or ascending order in case of numbers).\n",
    "Participants.sort(reverse = True)      # This sorts elements in reverse order.\n",
    "\n",
    "Participants\n",
    "\n",
    "Numbers = [1,7,5,3,9]\n",
    "\n",
    "Numbers.sort()\n",
    "\n",
    "\n",
    "\n",
    "\n",
    "\n",
    "# Slicing the data in a list\n",
    "\n",
    "Participants[1:3]                       # Extracting elements from 1 to 2 (we count from from 0).\n",
    "Participants[:3]                        # Extracting all elements from the beginning of the list to 2 \n",
    "                                        # (this is 3 elements).\n",
    "Participants[4:]                        # Extracting all elements starting from the fourth to the end.\n",
    "Participants[-3:]                       # Alternative to extract last three elements.\n",
    "\n",
    "\n",
    "\n",
    "\n",
    "# Getting index\n",
    "\n",
    "Participants.index(\"Rick\")              # Obtaining the index of element assigned to Rick.\n",
    "\n",
    "\n",
    "\n",
    "\n",
    "# Creating nested lists\n",
    "\n",
    "Newcomers = [\"Emma\", \"Ralphf\"]\n",
    "\n",
    "New_list = [Participants, Newcomers]  # A list containing two lists inside was created. It is nestled list.\n",
    "\n",
    "New_list\n",
    "\n",
    "Numbers\n",
    "Participants\n"
   ]
  },
  {
   "cell_type": "markdown",
   "id": "56297c31",
   "metadata": {},
   "source": [
    "### Tuples"
   ]
  },
  {
   "cell_type": "code",
   "execution_count": 109,
   "id": "9f7e3d8b",
   "metadata": {},
   "outputs": [
    {
     "name": "stdout",
     "output_type": "stream",
     "text": [
      "17\n",
      "50\n",
      "This is area and perimeter of the square:\n"
     ]
    },
    {
     "data": {
      "text/plain": [
       "(9, 12)"
      ]
     },
     "execution_count": 109,
     "metadata": {},
     "output_type": "execute_result"
    }
   ],
   "source": [
    "# Tuples - similar to lists, but cannot be modified (no adding or removing elements, etc.)\n",
    "\n",
    "Some_numbers = (30, 43, 56)     # Assigning a tuple to Some_numbers. Note we use parentheses.\n",
    "Some_numbers[1]                 # Getting 1st element from the tuple (as in case of lists).\n",
    "\n",
    "y = 3, 5, 2                     # This piece of a code will also be packed as a tuple when called on.\n",
    "y\n",
    "\n",
    "a, b, c = 5, 6, 7               # This is called tuple assignement.\n",
    "b\n",
    "\n",
    "List_of_tuples = [Some_numbers,y]       # Packing tuples within a list. So this is a list of tuples.\n",
    "List_of_tuples\n",
    "\n",
    "(age, weight) = \"17,50\".split(\",\")      # This is how we can assign elements of a tuple to values. We have to\n",
    "                                        # use .split() method to indicate that coma separates the values.\n",
    "print(age)\n",
    "print(weight)\n",
    "\n",
    "# Tuples as a result of a function\n",
    "\n",
    "def info_on_square(x):\n",
    "    A = x ** 2\n",
    "    P = 4 * x\n",
    "    print(\"This is an area and a perimeter of the square:\")\n",
    "    return A, P\n",
    "\n",
    "info_on_square(3)"
   ]
  },
  {
   "cell_type": "markdown",
   "id": "507b441a",
   "metadata": {},
   "source": [
    "### Dictionaries"
   ]
  },
  {
   "cell_type": "code",
   "execution_count": 119,
   "id": "29fc86c3",
   "metadata": {},
   "outputs": [
    {
     "name": "stdout",
     "output_type": "stream",
     "text": [
      "Tom\n"
     ]
    },
    {
     "data": {
      "text/plain": [
       "{'Head': 'Tom', 'Worker_1': 'Bob', 'Worker_2': 'Dan'}"
      ]
     },
     "execution_count": 119,
     "metadata": {},
     "output_type": "execute_result"
    }
   ],
   "source": [
    "# Dictionaries \n",
    "\n",
    "dict = {\"k1\": \"cat\", \"k2\": \"fish\"}  # Assigning a dictionary to dict. Note we use {}. Note that each value \n",
    "                                  # is assigned to a key.\n",
    "dict\n",
    "\n",
    "dict[\"k1\"]                        # Each value can be accessed by its key.\n",
    "dict[\"k3\"] = \"parrot\"             # Adding a new element to a dictionary.\n",
    "dict[\"k3\"] = \"dog\"                # Changing the value af a given element.\n",
    "\n",
    "workers = {\"dep_1\": \"Ala\", \"dep_2\": [\"Tom\", \"George\", \"Luiza\"]} # In this dictionary, one element is a list.\n",
    "\n",
    "team = {}                         # Another way of definig a dictionary.\n",
    "team[\"Head\"] = \"Tom\"\n",
    "team[\"Worker_1\"] = \"Bob\"\n",
    "team[\"Worker_2\"] = \"Dan\"  \n",
    "\n",
    "print(team.get(\"Head\"))           # We can access a given value of an element by using the method .get().\n",
    "\n",
    "dict\n",
    "\n",
    "workers[\"dep_2\"]\n",
    "\n",
    "team"
   ]
  },
  {
   "cell_type": "markdown",
   "id": "9f0ecab7",
   "metadata": {},
   "source": [
    "## Iterations"
   ]
  },
  {
   "cell_type": "code",
   "execution_count": 8,
   "id": "da10f7a8",
   "metadata": {},
   "outputs": [
    {
     "name": "stdout",
     "output_type": "stream",
     "text": [
      "0 2 4 6 8 10 12 14 16 18 20 0 2 4 6 8 10 12 14 16 18 20 0 1 4 9 16 25 36 49 64 81 0 Odd number 2 Odd number 4 Odd number 6 Odd number 8 Odd number 0 1 2 8\n",
      "38\n",
      "59\n"
     ]
    }
   ],
   "source": [
    "even = [0,2,4,6,8,10,12,14,16,18,20]\n",
    "\n",
    "# \"for\" loop\n",
    "\n",
    "for n in even:\n",
    "    print(n, end = \" \")         # This is a loop that prints all elements from the list one by one. To present \n",
    "                                # these elements in a row, and not in a column, comma and a space must be added\n",
    "                                # after each iteration.\n",
    "            \n",
    "\n",
    "# \"while\" loop\n",
    "\n",
    "x = 0\n",
    "\n",
    "while x <= 20:                 # This is \"while\" loop. Remember to define an upper limit so that this loops \n",
    "    print(x, end = \" \")        # ends there\n",
    "    x += 2                     # After printing the first value, we increase it by 2 using incrementation.\n",
    "    \n",
    "    \n",
    "# Using the function range()\n",
    "# The function has the following application:\n",
    "# range(start, stop, step) \n",
    "# - where \"stop\" is obligatory and \"start\" and \"step\" can be ignored (they are then 0 and 1 by default)\n",
    "\n",
    "range(10)                # In this case the outcome is: range(0,10), values are not displayed\n",
    "list(range(10))          # The function list() allows us to present the values in a list.\n",
    "list(range(0,21,2))\n",
    "\n",
    "# Combining loop and range() - examples\n",
    "\n",
    "for n in range(10):\n",
    "    print(n ** 2, end = \" \")\n",
    "    \n",
    "    \n",
    "for n in range(10):\n",
    "    if n % 2 == 0:\n",
    "        print(n, end = \" \")\n",
    "    else:\n",
    "        print(\"Odd number\", end = \" \")\n",
    "        \n",
    "t = [0,1,2]\n",
    "for item in range(len(t)):\n",
    "    print(t[item], end = \" \") \n",
    "    \n",
    "def count(numbers):\n",
    "    total = 0\n",
    "    for x in numbers:\n",
    "        if x < 20:\n",
    "            total += 1\n",
    "    return total\n",
    "\n",
    "p = [1,2,3,40,60]\n",
    "count(p)\n",
    "\n",
    "prices = {\n",
    "    \"chicken\": 4,\n",
    "    \"pork\": 10,\n",
    "    \"potatos\": 7\n",
    "}\n",
    "\n",
    "quantity = {\n",
    "    \"chicken\": 2,\n",
    "    \"pork\": 3,\n",
    "    \"potatos\": 3\n",
    "}\n",
    "\n",
    "money_spent = 0\n",
    "\n",
    "for i in prices:\n",
    "    money_spent = money_spent + prices[i]*quantity[i] \n",
    "    print(money_spent)\n"
   ]
  },
  {
   "cell_type": "code",
   "execution_count": null,
   "id": "2e3ff784",
   "metadata": {},
   "outputs": [],
   "source": []
  }
 ],
 "metadata": {
  "kernelspec": {
   "display_name": "Python 3 (ipykernel)",
   "language": "python",
   "name": "python3"
  },
  "language_info": {
   "codemirror_mode": {
    "name": "ipython",
    "version": 3
   },
   "file_extension": ".py",
   "mimetype": "text/x-python",
   "name": "python",
   "nbconvert_exporter": "python",
   "pygments_lexer": "ipython3",
   "version": "3.8.15"
  }
 },
 "nbformat": 4,
 "nbformat_minor": 5
}
