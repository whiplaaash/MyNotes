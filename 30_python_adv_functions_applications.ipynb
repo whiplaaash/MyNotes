{
 "cells": [
  {
   "cell_type": "markdown",
   "id": "620df5e0",
   "metadata": {},
   "source": [
    "# Lesson 30: Python Advanced - Some applications of functions"
   ]
  },
  {
   "cell_type": "code",
   "execution_count": null,
   "id": "e9ebbc0f",
   "metadata": {
    "pycharm": {
     "is_executing": true
    }
   },
   "outputs": [],
   "source": [
    "import numpy as np"
   ]
  },
  {
   "cell_type": "code",
   "execution_count": null,
   "id": "8be82dae",
   "metadata": {
    "pycharm": {
     "is_executing": true
    }
   },
   "outputs": [],
   "source": [
    "## Wrapper for functions and decorating functions"
   ]
  },
  {
   "cell_type": "code",
   "execution_count": 2,
   "id": "299c19c7",
   "metadata": {},
   "outputs": [
    {
     "name": "stdout",
     "output_type": "stream",
     "text": [
      "Changing salary for Jonson to 2000 as bonus=True\n",
      "2000\n"
     ]
    }
   ],
   "source": [
    "# Wrapper is a function which tracks if other functions in the program were performed.\n",
    "# This is needed in order to make a proof that planned actions were already done.\n",
    "\n",
    "# Let us first declare a simple functions that increases a salary of an employee:\n",
    "\n",
    "def ChangeSalary(emp_name, new_salary, is_bonus = False):\n",
    "    print(\"Changing salary for {} to {} as bonus={}\".format(emp_name,new_salary,is_bonus))\n",
    "    return new_salary\n",
    "\n",
    "print(ChangeSalary(\"Jonson\", 2000, True))"
   ]
  },
  {
   "cell_type": "code",
   "execution_count": 4,
   "id": "ca89106d",
   "metadata": {},
   "outputs": [
    {
     "name": "stdout",
     "output_type": "stream",
     "text": [
      "----------\n",
      "Changing salary for Jonson to 2000 as bonus=True\n",
      "++++++++++\n",
      "2000\n"
     ]
    }
   ],
   "source": [
    "# Now we create a wrapper:\n",
    "\n",
    "def CreateFunctionWithWrapper(func):\n",
    "    def func_with_wrapper(*args, **kwargs):\n",
    "        print(\"-\"*10)\n",
    "        result = func(*args, **kwargs)\n",
    "        print(\"+\"*10)\n",
    "        return result \n",
    "    return func_with_wrapper\n",
    "\n",
    "ChangeSalaryWithLog = CreateFunctionWithWrapper(ChangeSalary)\n",
    "\n",
    "print(ChangeSalaryWithLog(\"Jonson\", 2000, True))\n",
    "# The fact that wrapper acts is shown by \"-\" and \"+\""
   ]
  },
  {
   "cell_type": "code",
   "execution_count": 12,
   "id": "a7718917",
   "metadata": {},
   "outputs": [
    {
     "name": "stdout",
     "output_type": "stream",
     "text": [
      "Function 'ChangeSalary' started at 2023-01-11T23:56:46.123206\n",
      "Following parameters were used:\n",
      "('Jonson', 2000) {'is_bonus': True}\n",
      "Changing salary for Jonson to 2000 as bonus=True\n",
      "Function returned 2000\n",
      "2000\n"
     ]
    }
   ],
   "source": [
    "# But let us define the wrapper in more advanced way so that to show time and use some specific tools for funcs:\n",
    "\n",
    "import datetime\n",
    "\n",
    "import functools\n",
    "\n",
    "# First I create the wrapper:\n",
    "\n",
    "def CreateFunctionWithWrapper(func):\n",
    "    def func_with_wrapper(*args, **kwargs):\n",
    "        print(\"Function {!r} started at {}\".format(func.__name__, datetime.datetime.now().isoformat()))\n",
    "        print(\"Following parameters were used:\")\n",
    "        print(args, kwargs)\n",
    "        result = func(*args, **kwargs)\n",
    "        print(\"Function returned {}\".format(result))\n",
    "        return result \n",
    "    return func_with_wrapper\n",
    "\n",
    "# Next using \"@\" from \"functools\" I decorate my newly defined function by the function with wrapper.\n",
    "# In this way, whenever I call \"ChangeSalary\", it will be performed with wrraper:\n",
    "\n",
    "@CreateFunctionWithWrapper\n",
    "def ChangeSalary(emp_name, new_salary, is_bonus = False):\n",
    "    print(\"Changing salary for {} to {} as bonus={}\".format(emp_name,new_salary,is_bonus))\n",
    "    return new_salary\n",
    "\n",
    "print(ChangeSalary(\"Jonson\", 2000, is_bonus = True))"
   ]
  },
  {
   "cell_type": "markdown",
   "id": "f1662ffc",
   "metadata": {},
   "source": [
    "## Wrapper with a parameter"
   ]
  },
  {
   "cell_type": "code",
   "execution_count": 28,
   "id": "5682623e",
   "metadata": {},
   "outputs": [
    {
     "name": "stdout",
     "output_type": "stream",
     "text": [
      "Changing salary for Jonson to 2000 as bonus=True\n",
      "2000\n",
      "Changing salary for Jonson to 2000 as bonus=True\n",
      "2000\n"
     ]
    }
   ],
   "source": [
    "# We will use the previously created function with a wrapper, but now we want that to write the info from \n",
    "# the wrapper to an extra file:\n",
    "\n",
    "import datetime\n",
    "\n",
    "import functools\n",
    "\n",
    "logFilePath = \"function_log.txt\"\n",
    "\n",
    "def CreateFunctionWithWrapper(func):\n",
    "    def func_with_wrapper(*args, **kwargs):\n",
    "        file = open(logFilePath,\"a\")\n",
    "        file.write(\"-\"*40 + \"\\n\")\n",
    "        file.write(\"Function {!r} started at {}\\n\".format(func.__name__, datetime.datetime.now().isoformat()))\n",
    "        file.write(\"Following parameters were used:\\n\")\n",
    "        file.write(\" \".join('{}'.format(x) for x in args))\n",
    "        file.write(\"\\n\")\n",
    "        file.write(\" \".join('{}={}'.format(v,w) for (v,w) in kwargs.items()))\n",
    "        file.write(\"\\n\")\n",
    "        result = func(*args, **kwargs)\n",
    "        file.write(\"Function returned {}\\n\\n\".format(result))\n",
    "        file.close()\n",
    "        return result \n",
    "    return func_with_wrapper\n",
    "\n",
    "@CreateFunctionWithWrapper\n",
    "def ChangeSalary(emp_name, new_salary, is_bonus = False):\n",
    "    print(\"Changing salary for {} to {} as bonus={}\".format(emp_name,new_salary,is_bonus))\n",
    "    return new_salary\n",
    "\n",
    "\n",
    "print(ChangeSalary(\"Jonson\", 2000, True))\n",
    "print(ChangeSalary(\"Jonson\", 2000, is_bonus = True))"
   ]
  },
  {
   "cell_type": "code",
   "execution_count": 27,
   "id": "65630ef0",
   "metadata": {},
   "outputs": [
    {
     "name": "stdout",
     "output_type": "stream",
     "text": [
      "Changing salary for Jonson to 2000 as bonus=True\n",
      "2000\n",
      "Changing salary for Jonson to 2000 as bonus=True\n",
      "2000\n",
      "Changing position for Jonson to teacher\n",
      "teacher\n",
      "Changing position for Lena to student\n",
      "student\n"
     ]
    }
   ],
   "source": [
    "# Next we want to have a program (function) which will be writing results to different files:\n",
    "\n",
    "\n",
    "import datetime\n",
    "\n",
    "import functools\n",
    "\n",
    "\n",
    "def CreateFunctionWithWrapper_LogToFile(logFilePath):\n",
    "    def CreateFunctionWithWrapper(func):\n",
    "        def func_with_wrapper(*args, **kwargs):\n",
    "            file = open(logFilePath,\"a\")\n",
    "            file.write(\"-\"*20 + \"\\n\")\n",
    "            file.write(\"Function {!r} started at {}\\n\".format(func.__name__, datetime.datetime.now().isoformat()))\n",
    "            file.write(\"Following parameters were used:\\n\")\n",
    "            file.write(\" \".join('{}'.format(x) for x in args))\n",
    "            file.write(\"\\n\")\n",
    "            file.write(\" \".join('{}={}'.format(v,w) for (v,w) in kwargs.items()))\n",
    "            file.write(\"\\n\")\n",
    "            result = func(*args, **kwargs)\n",
    "            file.write(\"Function returned {}\\n\\n\".format(result))\n",
    "            file.close()\n",
    "            return result \n",
    "        return func_with_wrapper\n",
    "    return CreateFunctionWithWrapper\n",
    "\n",
    "@CreateFunctionWithWrapper_LogToFile(\"change_salary_log.txt\")\n",
    "def ChangeSalary(emp_name, new_salary, is_bonus = False):\n",
    "    print(\"Changing salary for {} to {} as bonus={}\".format(emp_name,new_salary,is_bonus))\n",
    "    return new_salary\n",
    "\n",
    "@CreateFunctionWithWrapper_LogToFile(\"change_position_log.txt\")\n",
    "def ChangePosition(emp_name, new_position):\n",
    "    print(\"Changing position for {} to {}\".format(emp_name,new_position))\n",
    "    return new_position\n",
    "\n",
    "print(ChangeSalary(\"Jonson\", 2000, True))\n",
    "print(ChangeSalary(\"Jonson\", 2000, is_bonus = True))\n",
    "print(ChangePosition(\"Jonson\", \"teacher\"))\n",
    "print(ChangePosition(\"Lena\", \"student\"))"
   ]
  },
  {
   "cell_type": "markdown",
   "id": "b098f0fe",
   "metadata": {},
   "source": [
    "## Sending e-mails from Python"
   ]
  },
  {
   "cell_type": "code",
   "execution_count": 44,
   "id": "f9bb2c08",
   "metadata": {},
   "outputs": [],
   "source": [
    "# Here a general script to send an email from gmail account is shown. \n",
    "# It is correct but it does not send emails, because Google made it impossible to send emails using \n",
    "# less secure apps.\n",
    "\n",
    "import smtplib, ssl"
   ]
  },
  {
   "cell_type": "code",
   "execution_count": 45,
   "id": "36d3c4b9",
   "metadata": {},
   "outputs": [
    {
     "name": "stdout",
     "output_type": "stream",
     "text": [
      "Enter password:\n",
      "error sending email\n"
     ]
    }
   ],
   "source": [
    "mailFrom = \"Your automation system\"\n",
    "mailTo = \"alina.czajka.fiz@gmail.com, alcza7@wp.pl\"\n",
    "mailSubject = \"Process finished successfully!\"\n",
    "\n",
    "mailBody = \"\"\" Hello!\n",
    "\n",
    "How are you?\n",
    "\"\"\"\n",
    "\n",
    "# The function that will be used to send email uses only To, From and Body, it does not use Subject.\n",
    "# So I define a new variable, which will specify all details of the e-mail:\n",
    "\n",
    "message = ''' \n",
    "From: {}\n",
    "Subject: {}\n",
    "\n",
    "{}\n",
    "'''.format(mailFrom, mailSubject, mailBody)\n",
    "\n",
    "user = \"alina.czajka.fiz@gmail.com\"\n",
    "password = input(\"Enter password:\")\n",
    "\n",
    "try:\n",
    "    server = smtplib.SMTP_SSL(\"smtp.gmail.com\", 465)\n",
    "    server.ehlo()\n",
    "    server.login(user, password)\n",
    "    server.sendmail(user, mailTo, message)\n",
    "    server.close()\n",
    "    print(\"mail sent\")\n",
    "except:\n",
    "    print(\"error sending email\")"
   ]
  },
  {
   "cell_type": "code",
   "execution_count": 47,
   "id": "2088424a",
   "metadata": {},
   "outputs": [
    {
     "name": "stdout",
     "output_type": "stream",
     "text": [
      "Enter your password:j\n",
      "error sending email\n"
     ]
    }
   ],
   "source": [
    "mailFrom = \"Your automation system\"\n",
    "mailTo = \"alcza7@wp.pl\"\n",
    "mailSubject = \"Process finished successfully!\"\n",
    "\n",
    "mailBody = \"\"\" Hello!\n",
    "\n",
    "How are you?\n",
    "\"\"\"\n",
    "\n",
    "# The function that will be used to send email uses only To, From and Body, it does not use Subject.\n",
    "# So I define a new variable, which will specify all details of the e-mail:\n",
    "\n",
    "message = ''' \n",
    "From: {}\n",
    "Subject: {}\n",
    "\n",
    "{}\n",
    "'''.format(mailFrom, mailSubject, mailBody)\n",
    "\n",
    "user = \"alcza7@wp.pl\"\n",
    "password = input(\"Enter your password:\")\n",
    "\n",
    "try:\n",
    "    server = smtplib.SMTP_SSL(\"smtp.wp.pl\",465)\n",
    "    server.ehlo()\n",
    "    server.login(user, password)\n",
    "    server.sendmail(user, mailTo, message)\n",
    "    server.close()\n",
    "    print(\"mail sent\")\n",
    "except:\n",
    "    print(\"error sending email\")"
   ]
  },
  {
   "cell_type": "markdown",
   "id": "a0962710",
   "metadata": {},
   "source": [
    "## Partial function"
   ]
  },
  {
   "cell_type": "code",
   "execution_count": 53,
   "id": "61a8a465",
   "metadata": {},
   "outputs": [
    {
     "name": "stdout",
     "output_type": "stream",
     "text": [
      "Enter your password:kkk\n",
      "error sending email\n"
     ]
    },
    {
     "data": {
      "text/plain": [
       "False"
      ]
     },
     "execution_count": 53,
     "metadata": {},
     "output_type": "execute_result"
    }
   ],
   "source": [
    "# To show how this function works we will use the code for sending email procedure, although this code does\n",
    "# not send emails properly. But partial function can have more general application.\n",
    "\n",
    "# We will define a function which will be sending emails:\n",
    "\n",
    "import smtplib \n",
    "import functools\n",
    "\n",
    "def SendInfoEmail(user, password, mailFrom, mailTo, mailSubject, mailBody):\n",
    "\n",
    "    message = ''' \n",
    "From: {}\n",
    "Subject: {}\n",
    "\n",
    "{}\n",
    "'''.format(mailFrom, mailSubject, mailBody)\n",
    "\n",
    "    try:\n",
    "        server = smtplib.SMTP_SSL(\"smtp.wp.pl\",465)\n",
    "        server.ehlo()\n",
    "        server.login(user, password)\n",
    "        server.sendmail(user, mailTo, message)\n",
    "        server.close()\n",
    "        print(\"mail sent\")\n",
    "        return True\n",
    "    except:\n",
    "        print(\"error sending email\")\n",
    "        return False\n",
    "    \n",
    "mailFrom = \"Your automation system\"\n",
    "mailTo = \"alcza7@wp.pl\"\n",
    "mailSubject = \"Process finished successfully!\"\n",
    "\n",
    "mailBody = \"\"\" Hello!\n",
    "\n",
    "How are you?\n",
    "\"\"\"\n",
    "    \n",
    "user = \"alcza7@wp.pl\"\n",
    "password = input(\"Enter your password:\")\n",
    "\n",
    "# Using the module functools I can now define partial function, whose main task is to diminish the number\n",
    "# of parameters which are used in the function sending emails:\n",
    "\n",
    "SendInfoEmailFromWp = functools.partial(SendInfoEmail, user, password, mailSubject = \"Something\")\n",
    "\n",
    "# Calling this function (when mailSubject is in the partial I need to call the arguments by their names):\n",
    "\n",
    "SendInfoEmailFromWp(mailFrom = mailFrom, mailTo = mailTo, mailBody = mailBody)\n",
    "\n",
    "#SendInfoEmailFromWp(mailFrom, mailTo, mailSubject, mailBody)\n",
    "\n",
    "\n",
    "# See that user and password are already inside the partial function and they do not have to be given.\n"
   ]
  },
  {
   "cell_type": "markdown",
   "id": "48db3eeb",
   "metadata": {},
   "source": [
    "## Optimisation of function/code via cache"
   ]
  },
  {
   "cell_type": "code",
   "execution_count": 59,
   "id": "40ea6c40",
   "metadata": {},
   "outputs": [
    {
     "name": "stdout",
     "output_type": "stream",
     "text": [
      "1! = 1\n",
      "2! = 2\n",
      "3! = 6\n",
      "4! = 24\n",
      "5! = 120\n",
      "6! = 720\n",
      "7! = 5040\n",
      "8! = 40320\n",
      "9! = 362880\n",
      "10! = 3628800\n",
      "Duration of the proces: 5.514013051986694\n"
     ]
    }
   ],
   "source": [
    "# Cash - stores results of previously performed functions in memory.\n",
    "\n",
    "# Let us define a function:\n",
    "\n",
    "import time\n",
    "\n",
    "# The function sleep() taken from the module \"time\" makes the calculation delayed and in the end \n",
    "# the proces lasts longer.\n",
    "\n",
    "def Factorial(n):\n",
    "    time.sleep(0.1)\n",
    "    if n == 1:\n",
    "        return 1\n",
    "    else:\n",
    "        return n * Factorial(n-1)\n",
    "    \n",
    "# Checking the function:\n",
    "# (We also want to measure how long the process has taken)\n",
    "\n",
    "start = time.time()\n",
    "for i in range(1,11):\n",
    "    print(\"{}! = {}\".format(i, Factorial(i)))\n",
    "stop = time.time()\n",
    "\n",
    "print(\"Duration of the proces:\", stop - start)\n",
    "\n",
    "# But note that in this case to calculate, for example, 5! I need 4!, so for any next step all previous\n",
    "# steps have to be done again."
   ]
  },
  {
   "cell_type": "code",
   "execution_count": 63,
   "id": "c26f6d22",
   "metadata": {},
   "outputs": [
    {
     "name": "stdout",
     "output_type": "stream",
     "text": [
      "1! = 1\n",
      "2! = 2\n",
      "3! = 6\n",
      "4! = 24\n",
      "5! = 120\n",
      "6! = 720\n",
      "7! = 5040\n",
      "8! = 40320\n",
      "9! = 362880\n",
      "10! = 3628800\n",
      "Duration of the proces: 1.0040717124938965\n",
      "CacheInfo(hits=9, misses=10, maxsize=128, currsize=10)\n"
     ]
    },
    {
     "data": {
      "text/plain": [
       "'\\nstart = time.time()\\nfor i in range(1,11):\\n    print(\"{}! = {}\".format(i, Factorial(i)))\\nstop = time.time()\\n\\nprint(\"Duration of the proces:\", stop - start)\\n'"
      ]
     },
     "execution_count": 63,
     "metadata": {},
     "output_type": "execute_result"
    }
   ],
   "source": [
    "# We will try to use cache to not repeat steps which were done before.\n",
    "\n",
    "import time\n",
    "import functools\n",
    "\n",
    "\n",
    "# Because the function below is not efficient enough, I will denote it by decoration:\n",
    "\n",
    "@functools.lru_cache()\n",
    "def Factorial(n):\n",
    "    time.sleep(0.1)\n",
    "    if n == 1:\n",
    "        return 1\n",
    "    else:\n",
    "        return n * Factorial(n-1)\n",
    "\n",
    "start = time.time()\n",
    "for i in range(1,11):\n",
    "    print(\"{}! = {}\".format(i, Factorial(i)))\n",
    "stop = time.time()\n",
    "\n",
    "print(\"Duration of the proces:\", stop - start)\n",
    "\n",
    "# Look that the decoration made the process much faster!! (Because each previous step was taken from memory\n",
    "# and not calculated again)\n",
    "\n",
    "# If the loop is defined and executed again, it is even faster, because all results are now in memory.\n",
    "\n",
    "# To see details of using memory we can use:\n",
    "\n",
    "print(Factorial.cache_info())\n",
    "\n",
    "# Then we have access to: a number of results kept in memory, maximal size of memory, how many times\n",
    "# we had to look to memory without findind a needed value, and how many times we were successfull.\n",
    "\n",
    "# The trick with cache is very useful for deterministic functions (whose results are always the same).\n",
    "\n",
    "'''\n",
    "start = time.time()\n",
    "for i in range(1,11):\n",
    "    print(\"{}! = {}\".format(i, Factorial(i)))\n",
    "stop = time.time()\n",
    "\n",
    "print(\"Duration of the proces:\", stop - start)\n",
    "'''"
   ]
  },
  {
   "cell_type": "code",
   "execution_count": 65,
   "id": "51562c25",
   "metadata": {},
   "outputs": [
    {
     "name": "stdout",
     "output_type": "stream",
     "text": [
      " 0  0, time = 0.00\n",
      " 1  1, time = 0.00\n",
      " 2  1, time = 0.00\n",
      " 3  2, time = 0.00\n",
      " 4  3, time = 0.00\n",
      " 5  5, time = 0.00\n",
      " 6  8, time = 0.00\n",
      " 7  13, time = 0.00\n",
      " 8  21, time = 0.00\n",
      " 9  34, time = 0.00\n",
      "10  55, time = 0.00\n",
      "11  89, time = 0.00\n",
      "12  144, time = 0.00\n",
      "13  233, time = 0.00\n",
      "14  377, time = 0.00\n",
      "15  610, time = 0.00\n",
      "16  987, time = 0.00\n",
      "17  1597, time = 0.00\n",
      "18  2584, time = 0.00\n",
      "19  4181, time = 0.00\n",
      "20  6765, time = 0.00\n",
      "21  10946, time = 0.00\n",
      "22  17711, time = 0.00\n",
      "23  28657, time = 0.00\n",
      "24  46368, time = 0.00\n",
      "25  75025, time = 0.00\n",
      "26  121393, time = 0.00\n",
      "27  196418, time = 0.00\n",
      "28  317811, time = 0.00\n",
      "29  514229, time = 0.00\n",
      "30  832040, time = 0.00\n",
      "31  1346269, time = 0.00\n",
      "32  2178309, time = 0.00\n",
      "33  3524578, time = 0.00\n",
      "CacheInfo(hits=64, misses=34, maxsize=100, currsize=34)\n"
     ]
    }
   ],
   "source": [
    "# Example: Fibonacci series:\n",
    "\n",
    "import time\n",
    "import functools\n",
    " \n",
    "@functools.lru_cache(maxsize=100)\n",
    "def fib(n):\n",
    "    \n",
    "    if n < 2:\n",
    "        result = n\n",
    "    else:\n",
    "        result = fib(n-1) + fib(n-2)\n",
    "        \n",
    "    return result\n",
    " \n",
    "start = time.time()\n",
    " \n",
    "for i in range(34):\n",
    "    result = fib(i)\n",
    "    stop = time.time()\n",
    "    print('{0:2d}  {1}, time = {2:3.2f}'.format(i, result, stop - start))\n",
    "    \n",
    "print(fib.cache_info())\n",
    " \n"
   ]
  },
  {
   "cell_type": "markdown",
   "id": "9fcc58ef",
   "metadata": {},
   "source": [
    "## Lambda expressions"
   ]
  },
  {
   "cell_type": "code",
   "execution_count": 68,
   "id": "bceaf666",
   "metadata": {},
   "outputs": [
    {
     "name": "stdout",
     "output_type": "stream",
     "text": [
      "20\n",
      "10\n"
     ]
    }
   ],
   "source": [
    "# It allows to write a function in a simplified way. But the limitation is that the function should be also \n",
    "# simple: it can take many arguments, but the body of it has to be one-line (or simple) expression.\n",
    "\n",
    "def double(x):\n",
    "    return 2 * x\n",
    "\n",
    "\n",
    "# Checking:\n",
    "\n",
    "x = 10\n",
    "x = double(x)\n",
    "print(x)\n",
    "\n",
    "# This quite a long piece of code can be rewritten in a short way:\n",
    "\n",
    "x = 5\n",
    "f = lambda x: 2 * x\n",
    "print(f(x))\n",
    "\n",
    "# Note that here the function does not have any name: it is not defined by \"def\"."
   ]
  },
  {
   "cell_type": "code",
   "execution_count": 70,
   "id": "e53e29b0",
   "metadata": {},
   "outputs": [
    {
     "name": "stdout",
     "output_type": "stream",
     "text": [
      "216\n",
      "9\n"
     ]
    }
   ],
   "source": [
    "# Another example:\n",
    "\n",
    "def power(x,y):\n",
    "    return x ** y\n",
    "\n",
    "x = 6\n",
    "y = 3\n",
    "print(power(x,y))\n",
    "\n",
    "x = 3\n",
    "y = 2\n",
    "f = lambda x,y: x ** y\n",
    "print(f(x,y))"
   ]
  },
  {
   "cell_type": "code",
   "execution_count": 76,
   "id": "ee05c0e9",
   "metadata": {},
   "outputs": [
    {
     "name": "stdout",
     "output_type": "stream",
     "text": [
      "True\n",
      "[1, 3, 13, 17]\n"
     ]
    }
   ],
   "source": [
    "# More complicated example:\n",
    "\n",
    "list_numbers = [1,2,3,4,6,8,13,17,22]\n",
    "\n",
    "# We define a function which returns odd numbers:\n",
    "\n",
    "def is_odd(x):\n",
    "    return x % 2 != 0\n",
    "\n",
    "print(is_odd(7))\n",
    "\n",
    "# We want to filter our list and return odd numbers. We use the function filter(function, iterable):\n",
    "\n",
    "list_filtered = list(filter(is_odd, list_numbers))\n",
    "print(list_filtered)"
   ]
  },
  {
   "cell_type": "code",
   "execution_count": 77,
   "id": "8c334cb5",
   "metadata": {},
   "outputs": [
    {
     "name": "stdout",
     "output_type": "stream",
     "text": [
      "[1, 3, 13, 17]\n"
     ]
    }
   ],
   "source": [
    "# With lambda:\n",
    "\n",
    "list_filtered = list(filter(lambda x: x % 2 != 0, list_numbers))\n",
    "print(list_filtered)"
   ]
  },
  {
   "cell_type": "code",
   "execution_count": 78,
   "id": "86edbeef",
   "metadata": {},
   "outputs": [
    {
     "name": "stdout",
     "output_type": "stream",
     "text": [
      "[1, 3, 13, 17]\n"
     ]
    }
   ],
   "source": [
    "# Lambda is useful because everything can be written in one line:\n",
    "print(list(filter(lambda x: x % 2 != 0, list_numbers)))"
   ]
  },
  {
   "cell_type": "code",
   "execution_count": 80,
   "id": "d079095b",
   "metadata": {},
   "outputs": [
    {
     "name": "stdout",
     "output_type": "stream",
     "text": [
      "10 15\n"
     ]
    }
   ],
   "source": [
    "# Another example: function which returns another function:\n",
    "\n",
    "def generate_multiply_function(n):\n",
    "    return lambda x: n * x\n",
    "\n",
    "mul2 = generate_multiply_function(2)\n",
    "mul3 = generate_multiply_function(3)\n",
    "\n",
    "print(mul2(5), mul3(5))"
   ]
  },
  {
   "cell_type": "code",
   "execution_count": null,
   "id": "c76ca35e",
   "metadata": {},
   "outputs": [],
   "source": [
    "# Another frequently used function which can be combined with lambda, apart from filter(), is map()."
   ]
  }
 ],
 "metadata": {
  "kernelspec": {
   "display_name": "Python 3 (ipykernel)",
   "language": "python",
   "name": "python3"
  },
  "language_info": {
   "codemirror_mode": {
    "name": "ipython",
    "version": 3
   },
   "file_extension": ".py",
   "mimetype": "text/x-python",
   "name": "python",
   "nbconvert_exporter": "python",
   "pygments_lexer": "ipython3",
   "version": "3.8.15"
  }
 },
 "nbformat": 4,
 "nbformat_minor": 5
}
