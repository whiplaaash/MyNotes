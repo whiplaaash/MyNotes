{
 "cells": [
  {
   "cell_type": "markdown",
   "id": "3744e097",
   "metadata": {},
   "source": [
    "# Lesson 31: Python Advanced: Classes"
   ]
  },
  {
   "cell_type": "markdown",
   "id": "baaea83a",
   "metadata": {},
   "source": [
    "## World without classes"
   ]
  },
  {
   "cell_type": "code",
   "execution_count": 1,
   "id": "46e89292",
   "metadata": {},
   "outputs": [
    {
     "name": "stdout",
     "output_type": "stream",
     "text": [
      "False\n"
     ]
    }
   ],
   "source": [
    "# We work in a place with used cars where we have the following info:\n",
    "\n",
    "carBrand = \"Seat\"\n",
    "carModel = \"Ibiza\"\n",
    "carIsAirBagOk = True\n",
    "carIsPaintingOk = True\n",
    "carIsMechanicsOk = True\n",
    "\n",
    "def isCarDamaged(carIsAirBagOk, carIsPaintingOk, carIsMechanicsOk):\n",
    "    return not (carIsAirBagOk and carIsPaintingOk and carIsMechanicsOk)\n",
    "\n",
    "print(isCarDamaged(carIsAirBagOk, carIsPaintingOk, carIsMechanicsOk))"
   ]
  },
  {
   "cell_type": "code",
   "execution_count": 2,
   "id": "c94345c0",
   "metadata": {},
   "outputs": [
    {
     "name": "stdout",
     "output_type": "stream",
     "text": [
      "False\n"
     ]
    }
   ],
   "source": [
    "# Note that to use this function I need many parameters which I need to convey. Second, if I have many\n",
    "# cars, this process needs to be repeated many times.\n",
    "\n",
    "# One way to overcome some of these problems is to keep all info about a car in one variable, which is dict:\n",
    "\n",
    "car_01 = {\"carBrand\" : \"Seat\",\n",
    "\"carModel\" : \"Ibiza\",\n",
    "\"carIsAirBagOk\" : True,\n",
    "\"carIsPaintingOk\" : True,\n",
    "\"carIsMechanicsOk\" : True}\n",
    "\n",
    "car_02 = {\"carBrand\" : \"Opel\",\n",
    "\"carModel\" : \"Corsa\",\n",
    "\"carIsAirBagOk\" : True,\n",
    "\"carIsPaintingOk\" : False,\n",
    "\"carIsMechanicsOk\" : True}\n",
    "\n",
    "def isCarDamaged(carIsAirBagOk, carIsPaintingOk, carIsMechanicsOk):\n",
    "    return not (carIsAirBagOk and carIsPaintingOk and carIsMechanicsOk)\n",
    "\n",
    "# Here I need to call the keys of the dictionary:\n",
    "print(isCarDamaged(car_01[\"carIsAirBagOk\"], car_01[\"carIsPaintingOk\"], car_01[\"carIsMechanicsOk\"]))"
   ]
  },
  {
   "cell_type": "code",
   "execution_count": 3,
   "id": "a69b3e99",
   "metadata": {},
   "outputs": [
    {
     "name": "stdout",
     "output_type": "stream",
     "text": [
      "False\n",
      "True\n"
     ]
    }
   ],
   "source": [
    "# But using a dict can be even simpler:\n",
    "\n",
    "# I can define a function which, as a parameter, takes the dict\n",
    "\n",
    "def isCarDamaged(aCar):\n",
    "    return not (aCar[\"carIsAirBagOk\"] and aCar[\"carIsPaintingOk\"] and aCar[\"carIsMechanicsOk\"])\n",
    "\n",
    "# And using this function is then easy, but I need to call separately foe each car:\n",
    "\n",
    "print(isCarDamaged(car_01))\n",
    "print(isCarDamaged(car_02))"
   ]
  },
  {
   "cell_type": "code",
   "execution_count": 4,
   "id": "919fe713",
   "metadata": {},
   "outputs": [
    {
     "name": "stdout",
     "output_type": "stream",
     "text": [
      "Seat Ibiza damaged = False\n",
      "Opel Corsa damaged = True\n"
     ]
    }
   ],
   "source": [
    "# To print all info at once I can make:\n",
    "\n",
    "cars = [car_01,car_02]\n",
    "\n",
    "for c in cars:\n",
    "    print(\"{} {} damaged = {}\".format(c[\"carBrand\"], c[\"carModel\"], isCarDamaged(c)))\n"
   ]
  },
  {
   "cell_type": "code",
   "execution_count": 5,
   "id": "2472885a",
   "metadata": {},
   "outputs": [],
   "source": [
    "# The code is now quite automatic, but not very convenient. Writing the code in this way is prcedural programming."
   ]
  },
  {
   "cell_type": "markdown",
   "id": "919fb5de",
   "metadata": {},
   "source": [
    "## Classes: atributes of instances"
   ]
  },
  {
   "cell_type": "code",
   "execution_count": 6,
   "id": "a4231c82",
   "metadata": {},
   "outputs": [
    {
     "name": "stdout",
     "output_type": "stream",
     "text": [
      "Seat Ibiza\n"
     ]
    }
   ],
   "source": [
    "# With classes the same code can be written in a more convenient way. This will be abstract coding showing the way\n",
    "# how to get info abot some things (like cars). It is object oriented programming (OOP). \n",
    "# A specific realization of a class is an instance (for example a details of a given car will be given \n",
    "# as an instance of the class).\n",
    "\n",
    "# Features described by a class are atributes (or properties).\n",
    "# Functions described by a class are methods of the class.\n",
    "\n",
    "# Here we rewrite the case of cars as a class:\n",
    "\n",
    "class Car:\n",
    "    \n",
    "    # Atributes of the instance are defined as follows, by using \"__init__\", and then by conveying which properties\n",
    "    # it should describe. Note that \"self\" also has to be there, as it directs to the initiated object.\n",
    "    # \"__init__\" is a constructor of the class and it to initialize instances of the class.\n",
    "    \n",
    "    # The instance will be initialized by the following function:\n",
    "    \n",
    "    def __init__(self, brand, model, isAirBagOk, isPaintingOk, isMechanicsOk):\n",
    "        \n",
    "        # Now we ascribe properties of the instance to ganeral varibles, which will be given in a specific case:\n",
    "        \n",
    "        self.brand = brand\n",
    "        self.model = model\n",
    "        self.isAirBagOk = isAirBagOk\n",
    "        self.isPaintingOk = isPaintingOk\n",
    "        self.isMechanicsOk = isMechanicsOk\n",
    "        \n",
    "# Defining instances of this class:\n",
    "\n",
    "car_01 = Car(\"Seat\", \"Ibiza\", True, True, True)\n",
    "car_02 = Car(\"Opel\", \"Corsa\", True, False, True)\n",
    "\n",
    "# To call these properties:\n",
    "\n",
    "print(car_01.brand, car_01.model)"
   ]
  },
  {
   "cell_type": "markdown",
   "id": "f22b46fb",
   "metadata": {},
   "source": [
    "## Classes: methods of instances"
   ]
  },
  {
   "cell_type": "code",
   "execution_count": 7,
   "id": "af722c83",
   "metadata": {},
   "outputs": [
    {
     "name": "stdout",
     "output_type": "stream",
     "text": [
      "Seat Ibiza False\n",
      "Opel Corsa True\n",
      "------------------------------\n",
      "SEAT IBIZA\n",
      "Air Bag   -   ok  -  True\n",
      "Painting  -   ok  -  True\n",
      "Mechanics -   ok  -  True\n",
      "------------------------------\n",
      "------------------------------\n",
      "OPEL CORSA\n",
      "Air Bag   -   ok  -  True\n",
      "Painting  -   ok  -  False\n",
      "Mechanics -   ok  -  True\n",
      "------------------------------\n"
     ]
    }
   ],
   "source": [
    "# We will modify the example above and define the method of our instance - the functiun which checks\n",
    "# if the car is damaged, and also the function to get info about the car:\n",
    "\n",
    "class Car:\n",
    "    \n",
    "    def __init__(self, brand, model, isAirBagOk, isPaintingOk, isMechanicsOk):\n",
    "        \n",
    "        self.brand = brand\n",
    "        self.model = model\n",
    "        self.isAirBagOk = isAirBagOk\n",
    "        self.isPaintingOk = isPaintingOk\n",
    "        self.isMechanicsOk = isMechanicsOk\n",
    "        \n",
    "    # Here we define the methods (note that it uses self again):\n",
    "        \n",
    "    def IsDamaged(self):\n",
    "        return not (self.isAirBagOk and self.isPaintingOk and self.isMechanicsOk)\n",
    "    \n",
    "    def GetInfo(self):\n",
    "        print(\"-\"*30)\n",
    "        print(\"{} {}\".format(self.brand, self.model).upper())\n",
    "        print(\"Air Bag   -   ok  -  {}\".format(self.isAirBagOk))\n",
    "        print(\"Painting  -   ok  -  {}\".format(self.isPaintingOk))\n",
    "        print(\"Mechanics -   ok  -  {}\".format(self.isMechanicsOk))\n",
    "        print(\"-\"*30)\n",
    "\n",
    "\n",
    "car_01 = Car(\"Seat\", \"Ibiza\", True, True, True)\n",
    "car_02 = Car(\"Opel\", \"Corsa\", True, False, True)\n",
    "\n",
    "# To call these properties:\n",
    "\n",
    "print(car_01.brand, car_01.model, car_01.IsDamaged())\n",
    "print(car_02.brand, car_02.model, car_02.IsDamaged())\n",
    "\n",
    "car_01.GetInfo()\n",
    "car_02.GetInfo()\n"
   ]
  },
  {
   "cell_type": "markdown",
   "id": "f2a570bb",
   "metadata": {},
   "source": [
    "## Class and instance: differences"
   ]
  },
  {
   "cell_type": "code",
   "execution_count": 8,
   "id": "e2daf9c3",
   "metadata": {},
   "outputs": [
    {
     "name": "stdout",
     "output_type": "stream",
     "text": [
      "Id of the cass is: 94294681677408\n",
      "Id of the instances are: 139723675585120 139723675585216\n"
     ]
    }
   ],
   "source": [
    "# We will be using the example defined above. \n",
    "\n",
    "# We can further proceed with the class and the instances:\n",
    "\n",
    "print(\"Id of the cass is:\", id(Car))\n",
    "print(\"Id of the instances are:\", id(car_01), id(car_02))\n",
    "\n",
    "# It shows that each object is different, and that the class is some real object."
   ]
  },
  {
   "cell_type": "code",
   "execution_count": 9,
   "id": "14668d46",
   "metadata": {},
   "outputs": [
    {
     "name": "stdout",
     "output_type": "stream",
     "text": [
      "Check if object belongs to class: True\n",
      "Check if object belongs to class using type: True\n",
      "Check if object belongs to class using __class__: <class '__main__.Car'>\n"
     ]
    }
   ],
   "source": [
    "print(\"Check if object belongs to class:\", isinstance(car_01, Car))\n",
    "\n",
    "# The same can be done by using type():\n",
    "\n",
    "print(\"Check if object belongs to class using type:\", type(car_01) is Car)\n",
    "\n",
    "# Or:\n",
    "\n",
    "print(\"Check if object belongs to class using __class__:\", car_01.__class__)"
   ]
  },
  {
   "cell_type": "code",
   "execution_count": 10,
   "id": "14e29b30",
   "metadata": {},
   "outputs": [
    {
     "name": "stdout",
     "output_type": "stream",
     "text": [
      "List of the instance attributes with values: {'brand': 'Seat', 'model': 'Ibiza', 'isAirBagOk': True, 'isPaintingOk': True, 'isMechanicsOk': True}\n"
     ]
    }
   ],
   "source": [
    "# Next we can see the list of attributes:\n",
    "\n",
    "print(\"List of the instance attributes with values:\", vars(car_01))"
   ]
  },
  {
   "cell_type": "code",
   "execution_count": 11,
   "id": "e756a846",
   "metadata": {},
   "outputs": [
    {
     "name": "stdout",
     "output_type": "stream",
     "text": [
      "List of the class attributes with values: {'__module__': '__main__', '__init__': <function Car.__init__ at 0x7f13f414b040>, 'IsDamaged': <function Car.IsDamaged at 0x7f13f414b1f0>, 'GetInfo': <function Car.GetInfo at 0x7f13f414b280>, '__dict__': <attribute '__dict__' of 'Car' objects>, '__weakref__': <attribute '__weakref__' of 'Car' objects>, '__doc__': None}\n"
     ]
    }
   ],
   "source": [
    "# Using the same expression for the class:\n",
    "\n",
    "print(\"List of the class attributes with values:\", vars(Car))"
   ]
  },
  {
   "cell_type": "code",
   "execution_count": 12,
   "id": "2e94b11a",
   "metadata": {},
   "outputs": [
    {
     "name": "stdout",
     "output_type": "stream",
     "text": [
      "class level variables before creating instances: 0 []\n",
      "class level variables after creating instances: 2 [<__main__.Car object at 0x7f13f40d21c0>, <__main__.Car object at 0x7f13f40d2280>]\n",
      "List of the class attributes with values: {'__module__': '__main__', 'numberOfCars': 2, 'listOfCars': [<__main__.Car object at 0x7f13f40d21c0>, <__main__.Car object at 0x7f13f40d2280>], '__init__': <function Car.__init__ at 0x7f13f414b670>, 'IsDamaged': <function Car.IsDamaged at 0x7f13f414bb80>, 'GetInfo': <function Car.GetInfo at 0x7f13f414bdc0>, '__dict__': <attribute '__dict__' of 'Car' objects>, '__weakref__': <attribute '__weakref__' of 'Car' objects>, '__doc__': None}\n"
     ]
    }
   ],
   "source": [
    "# To see another use of vars() we can add variables (atributes) to our class, these are atributes of the class:\n",
    "\n",
    "class Car:\n",
    "    \n",
    "    numberOfCars = 0\n",
    "    listOfCars = []\n",
    "    \n",
    "    def __init__(self, brand, model, isAirBagOk, isPaintingOk, isMechanicsOk):\n",
    "        \n",
    "        self.brand = brand\n",
    "        self.model = model\n",
    "        self.isAirBagOk = isAirBagOk\n",
    "        self.isPaintingOk = isPaintingOk\n",
    "        self.isMechanicsOk = isMechanicsOk\n",
    "        Car.numberOfCars += 1\n",
    "        Car.listOfCars.append(self)\n",
    "        \n",
    "    def IsDamaged(self):\n",
    "        return not (self.isAirBagOk and self.isPaintingOk and self.isMechanicsOk)\n",
    "    \n",
    "    def GetInfo(self):\n",
    "        print(\"-\"*30)\n",
    "        print(\"{} {}\".format(self.brand, self.model).upper())\n",
    "        print(\"Air Bag   -   ok  -  {}\".format(self.isAirBagOk))\n",
    "        print(\"Painting  -   ok  -  {}\".format(self.isPaintingOk))\n",
    "        print(\"Mechanics -   ok  -  {}\".format(self.isMechanicsOk))\n",
    "        print(\"-\"*30)\n",
    "\n",
    "print(\"class level variables before creating instances:\", Car.numberOfCars, Car.listOfCars)\n",
    "\n",
    "car_01 = Car(\"Seat\", \"Ibiza\", True, True, True)\n",
    "car_02 = Car(\"Opel\", \"Corsa\", True, False, True)\n",
    "\n",
    "print(\"class level variables after creating instances:\", Car.numberOfCars, Car.listOfCars)\n",
    "\n",
    "print(\"List of the class attributes with values:\", vars(Car))\n",
    "\n",
    "# We see that newly added variables belong to the class."
   ]
  },
  {
   "cell_type": "code",
   "execution_count": 13,
   "id": "71c56d07",
   "metadata": {},
   "outputs": [
    {
     "name": "stdout",
     "output_type": "stream",
     "text": [
      "List of the instance attributes with values: ['GetInfo', 'IsDamaged', '__class__', '__delattr__', '__dict__', '__dir__', '__doc__', '__eq__', '__format__', '__ge__', '__getattribute__', '__gt__', '__hash__', '__init__', '__init_subclass__', '__le__', '__lt__', '__module__', '__ne__', '__new__', '__reduce__', '__reduce_ex__', '__repr__', '__setattr__', '__sizeof__', '__str__', '__subclasshook__', '__weakref__', 'brand', 'isAirBagOk', 'isMechanicsOk', 'isPaintingOk', 'listOfCars', 'model', 'numberOfCars']\n",
      "List of the class attributes with values: ['GetInfo', 'IsDamaged', '__class__', '__delattr__', '__dict__', '__dir__', '__doc__', '__eq__', '__format__', '__ge__', '__getattribute__', '__gt__', '__hash__', '__init__', '__init_subclass__', '__le__', '__lt__', '__module__', '__ne__', '__new__', '__reduce__', '__reduce_ex__', '__repr__', '__setattr__', '__sizeof__', '__str__', '__subclasshook__', '__weakref__', 'listOfCars', 'numberOfCars']\n"
     ]
    }
   ],
   "source": [
    "# There is also another method: dir(), which explores things that are hidden:\n",
    "\n",
    "print(\"List of the instance attributes with values:\", dir(car_01))\n",
    "print(\"List of the class attributes with values:\", dir(Car))"
   ]
  },
  {
   "cell_type": "code",
   "execution_count": 14,
   "id": "fd0a3b43",
   "metadata": {},
   "outputs": [
    {
     "name": "stdout",
     "output_type": "stream",
     "text": [
      "Value taken from instance: 2 \n",
      "Value taken from class: 2\n"
     ]
    }
   ],
   "source": [
    "print(\"Value taken from instance:\", car_01.numberOfCars, \"\\nValue taken from class:\", Car.numberOfCars)"
   ]
  },
  {
   "cell_type": "code",
   "execution_count": 15,
   "id": "65f0219d",
   "metadata": {},
   "outputs": [],
   "source": [
    "# But wee see that although the class code is convenient, it can not be safe enough:\n",
    "# if we change a number of cars by hand in some place it will be conveyed to the corresponding variable,\n",
    "# and therefore this variable will not be trustworthy any longer;\n",
    "# if we remove an item from the list of cars by hand, the iterator will remain unchanged."
   ]
  },
  {
   "cell_type": "markdown",
   "id": "3dfa408a",
   "metadata": {},
   "source": [
    "## Adding and hiding attributes of a class"
   ]
  },
  {
   "cell_type": "code",
   "execution_count": 16,
   "id": "ee2e993f",
   "metadata": {},
   "outputs": [
    {
     "name": "stdout",
     "output_type": "stream",
     "text": [
      "------------------------------\n",
      "OPEL CORSA\n",
      "Air Bag   -   ok  -  True\n",
      "Painting  -   ok  -  False\n",
      "Mechanics -   ok  -  True\n",
      "IS ON SALE:          True\n",
      "------------------------------\n",
      "{'brand': 'Opel', 'model': 'Corsa', 'isAirBagOk': True, 'isPaintingOk': False, 'isMechanicsOk': True, '_Car__isOnSale': True, '__isOnSale': False}\n",
      "{'brand': 'Opel', 'model': 'Corsa', 'isAirBagOk': True, 'isPaintingOk': False, 'isMechanicsOk': True, '_Car__isOnSale': False, '__isOnSale': False, 'YearOfProduction': 2005}\n",
      "{'brand': 'Opel', 'model': 'Corsa', 'isAirBagOk': True, 'isPaintingOk': False, 'isMechanicsOk': True, '_Car__isOnSale': False, '__isOnSale': False}\n"
     ]
    }
   ],
   "source": [
    "# We want some attributes to be in a class but for some reason, they need to be hidden.\n",
    "\n",
    "# We add an attribute \"isOnSale\", but to make hidden outside of the class we must write \"__isOnSale\":\n",
    "# (Note that when I write \"isOnSale\", this atrribute can be arbitrarily changed outside the class. \n",
    "# This makes we cannot trust such a program).\n",
    "\n",
    "class Car:\n",
    "    \n",
    "    numberOfCars = 0\n",
    "    listOfCars = []\n",
    "    \n",
    "    def __init__(self, brand, model, isAirBagOk, isPaintingOk, isMechanicsOk, __isOnSale):\n",
    "        \n",
    "        self.brand = brand\n",
    "        self.model = model\n",
    "        self.isAirBagOk = isAirBagOk\n",
    "        self.isPaintingOk = isPaintingOk\n",
    "        self.isMechanicsOk = isMechanicsOk\n",
    "        self.__isOnSale = __isOnSale\n",
    "        \n",
    "        Car.numberOfCars += 1\n",
    "        Car.listOfCars.append(self)\n",
    "        \n",
    "    def IsDamaged(self):\n",
    "        return not (self.isAirBagOk and self.isPaintingOk and self.isMechanicsOk)\n",
    "    \n",
    "    def GetInfo(self):\n",
    "        print(\"-\"*30)\n",
    "        print(\"{} {}\".format(self.brand, self.model).upper())\n",
    "        print(\"Air Bag   -   ok  -  {}\".format(self.isAirBagOk))\n",
    "        print(\"Painting  -   ok  -  {}\".format(self.isPaintingOk))\n",
    "        print(\"Mechanics -   ok  -  {}\".format(self.isMechanicsOk))\n",
    "        print(\"IS ON SALE:          {}\".format(self.__isOnSale))\n",
    "        print(\"-\"*30)\n",
    "\n",
    "car_01 = Car(\"Seat\", \"Ibiza\", True, True, True, False)\n",
    "car_02 = Car(\"Opel\", \"Corsa\", True, False, True, True)\n",
    "\n",
    "# Now we try to change the attribute:\n",
    "\n",
    "car_02.__isOnSale = False\n",
    "\n",
    "car_02.GetInfo()\n",
    "print(vars(car_02))\n",
    "\n",
    "# We see that our original attribute did not change, but in vars() it is changed! \n",
    "# We also see that an extra item appeared it vars(): _Car__isOsSale, which was not changed. \n",
    "\n",
    "# So let us try to change this argument:\n",
    "# And we can also add and delete a new property:\n",
    "\n",
    "car_02._Car__isOnSale = False\n",
    "car_02.YearOfProduction = 2005\n",
    "print(vars(car_02))\n",
    "\n",
    "# It was changed :( Python gives the possibility to change attributes of a class.\n",
    "\n",
    "del car_02.YearOfProduction\n",
    "print(vars(car_02))"
   ]
  },
  {
   "cell_type": "code",
   "execution_count": 17,
   "id": "e97dbb70",
   "metadata": {},
   "outputs": [
    {
     "name": "stdout",
     "output_type": "stream",
     "text": [
      "{'brand': 'Opel', 'model': 'Corsa', 'isAirBagOk': True, 'isPaintingOk': False, 'isMechanicsOk': True, '_Car__isOnSale': False, '__isOnSale': False, 'Taxi': False}\n",
      "True\n",
      "{'brand': 'Opel', 'model': 'Corsa', 'isAirBagOk': True, 'isPaintingOk': False, 'isMechanicsOk': True, '_Car__isOnSale': False, '__isOnSale': False}\n"
     ]
    }
   ],
   "source": [
    "# Adding a new attribute can be done by:\n",
    "\n",
    "setattr(car_02, \"Taxi\", False)\n",
    "print(vars(car_02))\n",
    "\n",
    "# Checking if the attribute is there:\n",
    "print(hasattr(car_02, \"Taxi\"))\n",
    "\n",
    "# Deleting the attribute:\n",
    "delattr(car_02, \"Taxi\")\n",
    "print(vars(car_02))\n",
    "\n",
    "# Note that adding new attributes and modifying the existing ones is special for Python,\n",
    "# in other languages it is not possible."
   ]
  },
  {
   "cell_type": "code",
   "execution_count": 19,
   "id": "54a78776",
   "metadata": {},
   "outputs": [],
   "source": [
    "# On the other hand, if we can freely modify attributes of the class outside of it, the class is dynamically\n",
    "# changed and it may appear as something good."
   ]
  },
  {
   "cell_type": "markdown",
   "id": "48bbcc3f",
   "metadata": {},
   "source": [
    "## A class and its property()"
   ]
  },
  {
   "cell_type": "code",
   "execution_count": 25,
   "id": "ca6826c9",
   "metadata": {},
   "outputs": [
    {
     "name": "stdout",
     "output_type": "stream",
     "text": [
      "Satus of cars: False True\n",
      "Cannot change the status isOnSale. Sale valid only for Opel\n",
      "Changing status isOnSale to False for Opel\n"
     ]
    }
   ],
   "source": [
    "# Sometimes, having the possibility to change an attribute outside of the class may be weird or dangerous,\n",
    "# but sometimes this option can be useful and highly required. \n",
    "\n",
    "# We will require now that only \"Opel\" brand can be changed as to be or not to be to set on sale:\n",
    "\n",
    "brandOnSale = \"Opel\"\n",
    "\n",
    "class Car:\n",
    "    \n",
    "    numberOfCars = 0\n",
    "    listOfCars = []\n",
    "    \n",
    "    def __init__(self, brand, model, isAirBagOk, isPaintingOk, isMechanicsOk, __isOnSale):\n",
    "        \n",
    "        self.brand = brand\n",
    "        self.model = model\n",
    "        self.isAirBagOk = isAirBagOk\n",
    "        self.isPaintingOk = isPaintingOk\n",
    "        self.isMechanicsOk = isMechanicsOk\n",
    "        self.__isOnSale = __isOnSale\n",
    "        Car.numberOfCars += 1\n",
    "        Car.listOfCars.append(self)\n",
    "        \n",
    "    def IsDamaged(self):\n",
    "        return not (self.isAirBagOk and self.isPaintingOk and self.isMechanicsOk)\n",
    "    \n",
    "    def GetInfo(self):\n",
    "        print(\"-\"*30)\n",
    "        print(\"{} {}\".format(self.brand, self.model).upper())\n",
    "        print(\"Air Bag   -   ok  -  {}\".format(self.isAirBagOk))\n",
    "        print(\"Painting  -   ok  -  {}\".format(self.isPaintingOk))\n",
    "        print(\"Mechanics -   ok  -  {}\".format(self.isMechanicsOk))\n",
    "        print(\"IS ON SALE:          {}\".format(self.__isOnSale))\n",
    "        print(\"-\"*30)\n",
    "        \n",
    "    # We define a function thich can show the car which is on sale:\n",
    "    def GetOnSale(self):\n",
    "        return(self.__isOnSale)\n",
    "    \n",
    "    # We define a function which changes the status of a given brand:\n",
    "    def SetIsOnSale(self, newIsOnSaleStatus):\n",
    "        if self.brand == brandOnSale:\n",
    "            self.__isOnSale = newIsOnSaleStatus\n",
    "            print(\"Changing status isOnSale to {} for {}\".format(newIsOnSaleStatus, self.brand))\n",
    "        else:\n",
    "            print(\"Cannot change the status isOnSale. Sale valid only for {}\".format(brandOnSale) )\n",
    "\n",
    "        \n",
    "        \n",
    "car_01 = Car(\"Seat\", \"Ibiza\", True, True, True, False)\n",
    "car_02 = Car(\"Opel\", \"Corsa\", True, False, True, True)\n",
    "\n",
    "# The status of the attribute \"__isOnSale\"  can be seen or modified by calling newly defined functions:\n",
    "\n",
    "print(\"Satus of cars:\", car_01.GetOnSale(), car_02.GetOnSale())\n",
    "\n",
    "car_01.SetIsOnSale(True)\n",
    "car_02.SetIsOnSale(False)"
   ]
  },
  {
   "cell_type": "code",
   "execution_count": 28,
   "id": "69d9b617",
   "metadata": {},
   "outputs": [
    {
     "name": "stdout",
     "output_type": "stream",
     "text": [
      "Cannot change the status isOnSale. Sale valid only for Opel\n",
      "Changing status isOnSale to False for Opel\n",
      "Status of cars: False False\n"
     ]
    }
   ],
   "source": [
    "# The same can be done using the function property(). Then we will have a simpler code. \n",
    "# property() stores information about both just defined methods:\n",
    "\n",
    "brandOnSale = \"Opel\"\n",
    "\n",
    "class Car:\n",
    "    \n",
    "    numberOfCars = 0\n",
    "    listOfCars = []\n",
    "    \n",
    "    def __init__(self, brand, model, isAirBagOk, isPaintingOk, isMechanicsOk, __isOnSale):\n",
    "        \n",
    "        self.brand = brand\n",
    "        self.model = model\n",
    "        self.isAirBagOk = isAirBagOk\n",
    "        self.isPaintingOk = isPaintingOk\n",
    "        self.isMechanicsOk = isMechanicsOk\n",
    "        self.__isOnSale = __isOnSale\n",
    "        Car.numberOfCars += 1\n",
    "        Car.listOfCars.append(self)\n",
    "        \n",
    "    def IsDamaged(self):\n",
    "        return not (self.isAirBagOk and self.isPaintingOk and self.isMechanicsOk)\n",
    "    \n",
    "    def GetInfo(self):\n",
    "        print(\"-\"*30)\n",
    "        print(\"{} {}\".format(self.brand, self.model).upper())\n",
    "        print(\"Air Bag   -   ok  -  {}\".format(self.isAirBagOk))\n",
    "        print(\"Painting  -   ok  -  {}\".format(self.isPaintingOk))\n",
    "        print(\"Mechanics -   ok  -  {}\".format(self.isMechanicsOk))\n",
    "        print(\"IS ON SALE:          {}\".format(self.__isOnSale))\n",
    "        print(\"-\"*30)\n",
    "        \n",
    "    # I also want to keep the following 2 functions hidden so I add \"__\". Then they will not be easily accessible\n",
    "    # from outside.\n",
    "        \n",
    "    def __GetOnSale(self):\n",
    "        return(self.__isOnSale)\n",
    "    \n",
    "    def __SetIsOnSale(self, newIsOnSaleStatus):\n",
    "        if self.brand == brandOnSale:\n",
    "            self.__isOnSale = newIsOnSaleStatus\n",
    "            print(\"Changing status isOnSale to {} for {}\".format(newIsOnSaleStatus, self.brand))\n",
    "        else:\n",
    "            print(\"Cannot change the status isOnSale. Sale valid only for {}\".format(brandOnSale) )\n",
    "            \n",
    "    # Here I define:\n",
    "    # property(a method which takes in the attribute (getter), \n",
    "    # a method that changes the variable (setter), \n",
    "    # a method which removes the attribute, some comments/text):\n",
    "    \n",
    "    # I basically change the attribute \"isOnSale\" into the property \"IsOnSale\":\n",
    "    \n",
    "    IsOnSale = property(__GetOnSale, __SetIsOnSale, None, \"if set to true, the car is available in sale\")\n",
    "        \n",
    "        \n",
    "car_01 = Car(\"Seat\", \"Ibiza\", True, True, True, False)\n",
    "car_02 = Car(\"Opel\", \"Corsa\", True, False, True, True)\n",
    "\n",
    "car_01.IsOnSale = True\n",
    "car_02.IsOnSale = False\n",
    "\n",
    "print(\"Status of cars:\", car_01.IsOnSale, car_02.IsOnSale)\n",
    "# Note that by using the property() my code is shorter and dynamical.\n"
   ]
  },
  {
   "cell_type": "code",
   "execution_count": 29,
   "id": "34134663",
   "metadata": {},
   "outputs": [],
   "source": [
    "# Note that we have 3 possibilities to change attributes: manually (or directly), by just ascribing \n",
    "# a new value, by calling directly the internal functions getter and setter, or by using the property().\n",
    "\n",
    "# The third method is the best and highly recommended one, because it makes possible to write dynamical code:\n",
    "# if some arguments need to be changed in a whole code, it is enough to use property() with get and set methods \n",
    "# once and everything will be changed. When using property(), you can also define conditions under which \n",
    "# the attributes can be changed. Also, property() makes it possible to keep getter and setter functions\n",
    "# unseen in public API.\n",
    "\n",
    "# Note that it was better to add \"__\" to make  the set and get functions to more difficult to use them \n",
    "# directly and enforce the user to use property() instead."
   ]
  },
  {
   "cell_type": "markdown",
   "id": "41393eff",
   "metadata": {},
   "source": [
    "## Methods of instance, of class and static"
   ]
  },
  {
   "cell_type": "code",
   "execution_count": 35,
   "id": "0a090a42",
   "metadata": {},
   "outputs": [
    {
     "name": "stdout",
     "output_type": "stream",
     "text": [
      "------------------------------\n",
      "RENAULT MEGANE\n",
      "Air Bag   -   ok  -  True\n",
      "Painting  -   ok  -  True\n",
      "Mechanics -   ok  -  False\n",
      "IS ON SALE:          False\n",
      "------------------------------\n",
      "Converting 120 KM to KW: 88.2\n",
      "Converting 90 KW to KM: 122.4\n",
      "<__main__.Car object at 0x7f13f40cc0d0>\n",
      "36.75\n",
      "😀\n"
     ]
    }
   ],
   "source": [
    "# All methods introduced so far to our class were working on the level of an instance. They all contain \"self\".\n",
    "\n",
    "# Here we define a method on the level of the class, which will be creating an object from a line of text provided.\n",
    "\n",
    "brandOnSale = \"Opel\"\n",
    "\n",
    "class Car:\n",
    "    \n",
    "    numberOfCars = 0\n",
    "    listOfCars = []\n",
    "    \n",
    "    def __init__(self, brand, model, isAirBagOk, isPaintingOk, isMechanicsOk, __isOnSale):\n",
    "        \n",
    "        self.brand = brand\n",
    "        self.model = model\n",
    "        self.isAirBagOk = isAirBagOk\n",
    "        self.isPaintingOk = isPaintingOk\n",
    "        self.isMechanicsOk = isMechanicsOk\n",
    "        self.__isOnSale = __isOnSale\n",
    "        Car.numberOfCars += 1\n",
    "        Car.listOfCars.append(self)\n",
    "        \n",
    "    def IsDamaged(self):\n",
    "        return not (self.isAirBagOk and self.isPaintingOk and self.isMechanicsOk)\n",
    "    \n",
    "    def GetInfo(self):\n",
    "        print(\"-\"*30)\n",
    "        print(\"{} {}\".format(self.brand, self.model).upper())\n",
    "        print(\"Air Bag   -   ok  -  {}\".format(self.isAirBagOk))\n",
    "        print(\"Painting  -   ok  -  {}\".format(self.isPaintingOk))\n",
    "        print(\"Mechanics -   ok  -  {}\".format(self.isMechanicsOk))\n",
    "        print(\"IS ON SALE:          {}\".format(self.__isOnSale))\n",
    "        print(\"-\"*30)\n",
    "        \n",
    "    def __GetOnSale(self):\n",
    "        return(self.__isOnSale)\n",
    "    \n",
    "    def __SetIsOnSale(self, newIsOnSaleStatus):\n",
    "        if self.brand == brandOnSale:\n",
    "            self.__isOnSale = newIsOnSaleStatus\n",
    "            print(\"Changing status isOnSale to {} for {}\".format(newIsOnSaleStatus, self.brand))\n",
    "        else:\n",
    "            print(\"Cannot change the status isOnSale. Sale valid only for {}\".format(brandOnSale) )\n",
    "    \n",
    "    IsOnSale = property(__GetOnSale, __SetIsOnSale, None, \"if set to true, the car is available in sale\")\n",
    "    \n",
    "    # The method on the level of class, which creates a new instance from a given data has to \n",
    "    # be defined as follows:\n",
    "    # We must have a decorator and cls. \n",
    "    # The \"*\" indicates that I want to convey values of newly created list to my __init__ function.\n",
    "    \n",
    "    @classmethod\n",
    "    def ReadFromText(cls, aText):\n",
    "        aNewCar = cls(*aText.split(\":\"))\n",
    "        return aNewCar\n",
    "    \n",
    "    # Static method of the class does not have to be related to the class. It is independent of instances also.\n",
    "    # It can be defined as a formality.\n",
    "    # Here the static function converts KM to KW:\n",
    "    \n",
    "    @staticmethod\n",
    "    def Convert_KM_KW(KM):\n",
    "        return KM * 0.735\n",
    "    \n",
    "    @staticmethod\n",
    "    def Convert_KW_KM(KW):\n",
    "        return KW * 1.36\n",
    "        \n",
    "        \n",
    "car_01 = Car(\"Seat\", \"Ibiza\", True, True, True, False)\n",
    "car_02 = Car(\"Opel\", \"Corsa\", True, False, True, True)\n",
    "\n",
    "# The code to exectue and create a new car:\n",
    "\n",
    "lineOfText = \"Renault:Megane:True:True:False:False\"\n",
    "car_03 = Car.ReadFromText(lineOfText)\n",
    "car_03.GetInfo()\n",
    "\n",
    "# The example of using static functions:\n",
    "\n",
    "print(\"Converting 120 KM to KW:\", Car.Convert_KM_KW(120))\n",
    "print(\"Converting 90 KW to KM:\", Car.Convert_KW_KM(90))\n",
    "\n",
    "# Static methods and methods of the class have access to instances:\n",
    "\n",
    "print(car_03.ReadFromText(lineOfText))\n",
    "print(car_03.Convert_KM_KW(50))\n",
    "\n",
    "# But methods of the instances (with self) do not have an access to the class.\n",
    "\n",
    "# READ ABOUT PICKLE AND GLOB MODULES TO INCLUDE READING DATA FROM AND SENDING DATA TO FILES!!!!!!!!!!!!!!!!!!\n",
    "\n",
    "\n",
    "# printing emoji:\n",
    "print(\"\\U0001f600\")\n"
   ]
  },
  {
   "cell_type": "markdown",
   "id": "1f2ef729",
   "metadata": {},
   "source": [
    "## property() using decorators"
   ]
  },
  {
   "cell_type": "code",
   "execution_count": 39,
   "id": "d1ff3bd1",
   "metadata": {},
   "outputs": [],
   "source": [
    "# we will use the above example, but in a simplified version, to show how to use property() with decorators:\n",
    "\n",
    "# The example without decorators:\n",
    "\n",
    "brandOnSale = \"Opel\"\n",
    "\n",
    "class Car:\n",
    "    \n",
    "    def __init__(self, brand, model, isAirBagOk, isPaintingOk, isMechanicsOk, __isOnSale):\n",
    "        \n",
    "        self.brand = brand\n",
    "        self.model = model\n",
    "        self.isAirBagOk = isAirBagOk\n",
    "        self.isPaintingOk = isPaintingOk\n",
    "        self.isMechanicsOk = isMechanicsOk\n",
    "        self.__isOnSale = __isOnSale\n",
    "        \n",
    "    def __GetOnSale(self):\n",
    "        return(self.__isOnSale)\n",
    "    \n",
    "    def __SetIsOnSale(self, newIsOnSaleStatus):\n",
    "        if self.brand == brandOnSale:\n",
    "            self.__isOnSale = newIsOnSaleStatus\n",
    "            print(\"Changing status isOnSale to {} for {}\".format(newIsOnSaleStatus, self.brand))\n",
    "        else:\n",
    "            print(\"Cannot change the status isOnSale. Sale valid only for {}\".format(brandOnSale) )\n",
    "    \n",
    "    IsOnSale = property(__GetOnSale, __SetIsOnSale, None, \"if set to true, the car is available in sale\")\n",
    "        \n",
    "        \n",
    "car_02 = Car(\"Opel\", \"Corsa\", True, False, True, True)"
   ]
  },
  {
   "cell_type": "code",
   "execution_count": 46,
   "id": "8cbcaf7e",
   "metadata": {},
   "outputs": [
    {
     "name": "stdout",
     "output_type": "stream",
     "text": [
      "True\n",
      "Changing status isOnSale to False for Opel\n",
      "False\n",
      "None\n",
      "Brand: Opel, Model: Corsa\n"
     ]
    }
   ],
   "source": [
    "# The same example with decorators:\n",
    "\n",
    "brandOnSale = \"Opel\"\n",
    "\n",
    "class Car:\n",
    "    \n",
    "    def __init__(self, brand, model, isAirBagOk, isPaintingOk, isMechanicsOk, __isOnSale):\n",
    "        \n",
    "        self.brand = brand\n",
    "        self.model = model\n",
    "        self.isAirBagOk = isAirBagOk\n",
    "        self.isPaintingOk = isPaintingOk\n",
    "        self.isMechanicsOk = isMechanicsOk\n",
    "        self.__isOnSale = __isOnSale\n",
    "    \n",
    "    # I have to use the decorator and change the order. Note that now IsOnSale with @property works as getter.\n",
    "    \n",
    "    @property\n",
    "    def IsOnSale(self):\n",
    "        return self.__isOnSale\n",
    "        \n",
    "    # Then I define 2 other functions which appear as arguments of property(). IsOnSale must be now the name\n",
    "    # of both functions: setter and deleter.\n",
    "    \n",
    "    @IsOnSale.setter\n",
    "    def IsOnSale(self, newIsOnSaleStatus):\n",
    "        if self.brand == brandOnSale:\n",
    "            self.__isOnSale = newIsOnSaleStatus\n",
    "            print(\"Changing status isOnSale to {} for {}\".format(newIsOnSaleStatus, self.brand))\n",
    "        else:\n",
    "            print(\"Cannot change the status isOnSale. Sale valid only for {}\".format(brandOnSale) )\n",
    "            \n",
    "    # If I do not define deleter here I could not delete a changed attribute.\n",
    "    \n",
    "    @IsOnSale.deleter\n",
    "    def IsOnSale(self):\n",
    "        self.__isOnSale = None\n",
    "        \n",
    "    # Additionally, I can define various types of property, here showing the text in a nice way:\n",
    "    # Here, setter and deleter are not needed, but if needed they can be added to each function with @property.\n",
    "    @property\n",
    "    def CarTitle(self):\n",
    "        return \"Brand: {}, Model: {}\".format(self.brand, self.model)\n",
    "        \n",
    "        \n",
    "car_02 = Car(\"Opel\", \"Corsa\", True, False, True, True)\n",
    "\n",
    "print(car_02.IsOnSale)\n",
    "\n",
    "car_02.IsOnSale = False\n",
    "print(car_02.IsOnSale)\n",
    "\n",
    "del car_02.IsOnSale\n",
    "print(car_02.IsOnSale)\n",
    "\n",
    "print(car_02.CarTitle)"
   ]
  },
  {
   "cell_type": "markdown",
   "id": "1713e24d",
   "metadata": {},
   "source": [
    "## Dynamical attachment of methods to class or instance"
   ]
  },
  {
   "cell_type": "code",
   "execution_count": 59,
   "id": "203fdbf4",
   "metadata": {},
   "outputs": [
    {
     "name": "stdout",
     "output_type": "stream",
     "text": [
      "Static--------Static--------Static--------Static--------Static--------Static--------Static--------Static--------\n",
      ">>> This is a function ExportToFile - static method\n"
     ]
    }
   ],
   "source": [
    "# We start with the standard example:\n",
    "\n",
    "# And we want to export our data to csv file (we need a function to do this).\n",
    "# Now we define this function as an external function.\n",
    "\n",
    "import csv\n",
    "\n",
    "def ExportToFile_Static(path, header, data):\n",
    "    with open(path, mode = \"w\") as file:\n",
    "        # Here, quoting means the strength of citation: only text values with one comma will be taken in \"\".\n",
    "        writer = csv.writer(file, delimiter = \",\", quotechar = \"*\", quoting = csv.QUOTE_MINIMAL)\n",
    "        writer.writerow(header)\n",
    "        writer.writerow(data)\n",
    "    # To see that the function was indeed called:\n",
    "    print(\">>> This is a function ExportToFile - static method\")\n",
    "\n",
    "brandOnSale = \"Opel\"\n",
    "\n",
    "class Car:\n",
    "    \n",
    "    numberOfCars = 0\n",
    "    listOfCars = []\n",
    "    \n",
    "    def __init__(self, brand, model, isAirBagOk, isPaintingOk, isMechanicsOk, __isOnSale):\n",
    "        \n",
    "        self.brand = brand\n",
    "        self.model = model\n",
    "        self.isAirBagOk = isAirBagOk\n",
    "        self.isPaintingOk = isPaintingOk\n",
    "        self.isMechanicsOk = isMechanicsOk\n",
    "        self.__isOnSale = __isOnSale\n",
    "        Car.numberOfCars += 1\n",
    "        Car.listOfCars.append(self)\n",
    "        \n",
    "    def IsDamaged(self):\n",
    "        return not (self.isAirBagOk and self.isPaintingOk and self.isMechanicsOk)\n",
    "        \n",
    "    def __GetOnSale(self):\n",
    "        return(self.__isOnSale)\n",
    "    \n",
    "    def __SetIsOnSale(self, newIsOnSaleStatus):\n",
    "        if self.brand == brandOnSale:\n",
    "            self.__isOnSale = newIsOnSaleStatus\n",
    "            print(\"Changing status isOnSale to {} for {}\".format(newIsOnSaleStatus, self.brand))\n",
    "        else:\n",
    "            print(\"Cannot change the status isOnSale. Sale valid only for {}\".format(brandOnSale) )\n",
    "    \n",
    "    IsOnSale = property(__GetOnSale, __SetIsOnSale, None, \"if set to true, the car is available in sale\")\n",
    "    \n",
    "        \n",
    "car_01 = Car(\"Seat\", \"Ibiza\", True, True, True, False)\n",
    "car_02 = Car(\"Opel\", \"Corsa\", True, False, True, True)\n",
    "\n",
    "# Calling the external static function:\n",
    "print(\"Static--------\"*8)\n",
    "ExportToFile_Static(\"export_static.csv\", [\"Brand\", \"Model\", \"IsOnSale\"], \n",
    "                    [car_01.brand, car_01.model, car_01.IsOnSale])"
   ]
  },
  {
   "cell_type": "code",
   "execution_count": 60,
   "id": "aae27bb9",
   "metadata": {},
   "outputs": [
    {
     "name": "stdout",
     "output_type": "stream",
     "text": [
      "Static--------Static--------Static--------Static--------Static--------Static--------Static--------Static--------\n",
      ">>> This is a function ExportToFile - static method\n"
     ]
    }
   ],
   "source": [
    "# Now we make this function to be a part of the class:\n",
    "\n",
    "print(\"Static--------\"*8)\n",
    "Car.ExportToFile_Static = ExportToFile_Static\n",
    "Car.ExportToFile_Static(\"export_static.csv\", [\"Brand\", \"Model\", \"IsOnSale\"], \n",
    "                    [car_01.brand, car_01.model, car_01.IsOnSale])\n",
    "\n",
    "# But note that this function is static and making it a part of the class does not chnage too much.\n",
    "\n",
    "# Next we show how to include the class dynamic function and instance dynamic function."
   ]
  },
  {
   "cell_type": "code",
   "execution_count": 61,
   "id": "a12bc2b5",
   "metadata": {},
   "outputs": [
    {
     "name": "stdout",
     "output_type": "stream",
     "text": [
      "Static--------Static--------Static--------Static--------Static--------Static--------Static--------Static--------\n",
      ">>> This is a function ExportToFile - static method\n",
      "Instance--------Instance--------Instance--------Instance--------Instance--------Instance--------Instance--------Instance--------\n",
      ">>> This is a function ExportToFile - instance method\n",
      "Class--------Class--------Class--------Class--------Class--------Class--------Class--------Class--------\n",
      ">>> This is a function ExportToFile - class method\n"
     ]
    }
   ],
   "source": [
    "import csv\n",
    "\n",
    "# A new module is needed for a dynamic instance and class functions:\n",
    "\n",
    "import types\n",
    "\n",
    "# We leave the static function for comparison:\n",
    "\n",
    "def ExportToFile_Static(path, header, data):\n",
    "    with open(path, mode = \"w\") as file:\n",
    "        # Here, quoting means the strength of citation: only text values with one comma will be taken in \"\".\n",
    "        writer = csv.writer(file, delimiter = \",\", quotechar = \"*\", quoting = csv.QUOTE_MINIMAL)\n",
    "        writer.writerow(header)\n",
    "        writer.writerow(data)\n",
    "    # To see that the function was indeed called:\n",
    "    print(\">>> This is a function ExportToFile - static method\")\n",
    "\n",
    "# Here we define the dynamic function which is an instance function:\n",
    "\n",
    "def ExportToFile_Instance(self, path):\n",
    "    with open(path, mode = \"w\") as file:\n",
    "        # Here, quoting means the strength of citation: only text values with one comma will be taken in \"\".\n",
    "        writer = csv.writer(file, delimiter = \",\", quotechar = \"*\", quoting = csv.QUOTE_MINIMAL)\n",
    "        writer.writerow([\"Brand\", \"Model\", \"IsOnSale\"])\n",
    "        writer.writerow([self.brand, self.model, self.IsOnSale])\n",
    "    # To see that the function was indeed called:\n",
    "    print(\">>> This is a function ExportToFile - instance method\")\n",
    "    \n",
    "# Here we define the dynamic function which is a class function:\n",
    "    \n",
    "def ExportToFile_Class(cls, path):\n",
    "    with open(path, mode = \"w\") as file:\n",
    "        # Here, quoting means the strength of citation: only text values with one comma will be taken in \"\".\n",
    "        writer = csv.writer(file, delimiter = \",\", quotechar = \"*\", quoting = csv.QUOTE_MINIMAL)\n",
    "        writer.writerow([\"Brand\", \"Model\", \"IsOnSale\"])\n",
    "        for c in cls.listOfCars:\n",
    "            writer.writerow([c.brand, c.model, c.IsOnSale])\n",
    "    # To see that the function was indeed called:\n",
    "    print(\">>> This is a function ExportToFile - class method\")\n",
    "\n",
    "brandOnSale = \"Opel\"\n",
    "\n",
    "class Car:\n",
    "    \n",
    "    numberOfCars = 0\n",
    "    listOfCars = []\n",
    "    \n",
    "    def __init__(self, brand, model, isAirBagOk, isPaintingOk, isMechanicsOk, __isOnSale):\n",
    "        \n",
    "        self.brand = brand\n",
    "        self.model = model\n",
    "        self.isAirBagOk = isAirBagOk\n",
    "        self.isPaintingOk = isPaintingOk\n",
    "        self.isMechanicsOk = isMechanicsOk\n",
    "        self.__isOnSale = __isOnSale\n",
    "        Car.numberOfCars += 1\n",
    "        Car.listOfCars.append(self)\n",
    "        \n",
    "    def IsDamaged(self):\n",
    "        return not (self.isAirBagOk and self.isPaintingOk and self.isMechanicsOk)\n",
    "        \n",
    "    def __GetOnSale(self):\n",
    "        return(self.__isOnSale)\n",
    "    \n",
    "    def __SetIsOnSale(self, newIsOnSaleStatus):\n",
    "        if self.brand == brandOnSale:\n",
    "            self.__isOnSale = newIsOnSaleStatus\n",
    "            print(\"Changing status isOnSale to {} for {}\".format(newIsOnSaleStatus, self.brand))\n",
    "        else:\n",
    "            print(\"Cannot change the status isOnSale. Sale valid only for {}\".format(brandOnSale) )\n",
    "    \n",
    "    IsOnSale = property(__GetOnSale, __SetIsOnSale, None, \"if set to true, the car is available in sale\")\n",
    "    \n",
    "        \n",
    "car_01 = Car(\"Seat\", \"Ibiza\", True, True, True, False)\n",
    "car_02 = Car(\"Opel\", \"Corsa\", True, False, True, True)\n",
    "\n",
    "print(\"Static--------\"*8)\n",
    "Car.ExportToFile_Static = ExportToFile_Static\n",
    "Car.ExportToFile_Static(\"export_static.csv\", [\"Brand\", \"Model\", \"IsOnSale\"], \n",
    "                    [car_01.brand, car_01.model, car_01.IsOnSale])\n",
    "#print(dir(Car))\n",
    "\n",
    "print(\"Instance--------\"*8)\n",
    "car_01.ExportToFile_Instance = types.MethodType(ExportToFile_Instance, car_01)\n",
    "car_01.ExportToFile_Instance(path = \"export_instance.csv\")\n",
    "#print(dir(car_01))\n",
    "\n",
    "print(\"Class--------\"*8)\n",
    "Car.ExportToFile_Class = types.MethodType(ExportToFile_Class, Car)\n",
    "Car.ExportToFile_Class(path = \"export_class.csv\")\n",
    "#print(dir(Car))\n",
    "\n",
    "# MethodType() is taken from the module types and it recognizes types \"self\" and \"cls\" without requiring them.\n"
   ]
  },
  {
   "cell_type": "code",
   "execution_count": 62,
   "id": "8d15a353",
   "metadata": {},
   "outputs": [
    {
     "name": "stdout",
     "output_type": "stream",
     "text": [
      "------------------------------\n",
      "The object has a method ExportToFile_Static\n",
      "The object has a method ExportToFile_Instance\n",
      "The object has a method ExportToFile_Class\n"
     ]
    }
   ],
   "source": [
    "# To check which methods a given object has, we can use:\n",
    "\n",
    "print(\"-\"*30)\n",
    "\n",
    "if hasattr(car_01, \"ExportToFile_Static\") and callable(car_01.ExportToFile_Static):\n",
    "    print(\"The object has a method ExportToFile_Static\")\n",
    "    \n",
    "if hasattr(car_01, \"ExportToFile_Instance\") and callable(car_01.ExportToFile_Instance):\n",
    "    print(\"The object has a method ExportToFile_Instance\")\n",
    "    \n",
    "if hasattr(car_01, \"ExportToFile_Class\") and callable(car_01.ExportToFile_Class):\n",
    "    print(\"The object has a method ExportToFile_Class\")\n",
    "\n"
   ]
  },
  {
   "cell_type": "code",
   "execution_count": null,
   "id": "50300b58",
   "metadata": {},
   "outputs": [],
   "source": []
  }
 ],
 "metadata": {
  "kernelspec": {
   "display_name": "Python 3 (ipykernel)",
   "language": "python",
   "name": "python3"
  },
  "language_info": {
   "codemirror_mode": {
    "name": "ipython",
    "version": 3
   },
   "file_extension": ".py",
   "mimetype": "text/x-python",
   "name": "python",
   "nbconvert_exporter": "python",
   "pygments_lexer": "ipython3",
   "version": "3.9.13"
  }
 },
 "nbformat": 4,
 "nbformat_minor": 5
}
