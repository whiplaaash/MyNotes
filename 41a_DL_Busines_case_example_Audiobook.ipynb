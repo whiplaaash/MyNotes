{
 "cells": [
  {
   "cell_type": "markdown",
   "id": "32a12470",
   "metadata": {},
   "source": [
    "# Lesson 41a: Deep Learning - Business Case Example - Audiobook"
   ]
  },
  {
   "cell_type": "markdown",
   "id": "2f83942e",
   "metadata": {},
   "source": [
    "## Preprocessing"
   ]
  },
  {
   "cell_type": "markdown",
   "id": "c2314fa7",
   "metadata": {},
   "source": [
    "- Balancing data\n",
    "- Train, validate and test\n",
    "- Save"
   ]
  },
  {
   "cell_type": "markdown",
   "id": "1f8e5b19",
   "metadata": {},
   "source": [
    "### Extract data from csv"
   ]
  },
  {
   "cell_type": "code",
   "execution_count": 8,
   "id": "fc289278",
   "metadata": {},
   "outputs": [],
   "source": [
    "import numpy as np\n",
    "from sklearn import preprocessing"
   ]
  },
  {
   "cell_type": "code",
   "execution_count": 9,
   "id": "16fb6fab",
   "metadata": {},
   "outputs": [],
   "source": [
    "raw_csv_data = np.loadtxt(\"Audiobooks-data.csv\", delimiter = \",\")\n",
    "\n",
    "# We are interested in all rows of data, but we neglect 0th (id) and last (targets) columns.\n",
    "\n",
    "unscaled_inputs_all = raw_csv_data[:,1:-1]\n",
    "targets_all = raw_csv_data[:,-1]"
   ]
  },
  {
   "cell_type": "markdown",
   "id": "6230a7b6",
   "metadata": {},
   "source": [
    "### Balance the dataset"
   ]
  },
  {
   "cell_type": "code",
   "execution_count": 3,
   "id": "20da1072",
   "metadata": {},
   "outputs": [],
   "source": [
    "# In the example, our target classes are: 0 and 1. Balancing data means that we need the same number of inputs for\n",
    "# each class of targets. \n",
    "\n",
    "# We calculate how many \"1\" and \"0\" we have, and remove a surplus of \"0\".\n",
    "\n",
    "num_one_targets = int(np.sum(targets_all))\n",
    "zero_targets_counter = 0\n",
    "indices_to_remove = []\n",
    "\n",
    "for i in range(targets_all.shape[0]):\n",
    "    if targets_all[i] == 0:\n",
    "        zero_targets_counter += 1\n",
    "        if zero_targets_counter > num_one_targets:\n",
    "            indices_to_remove.append(i)\n",
    "\n",
    "\n",
    "unscaled_inputs_equal_priors = np.delete(unscaled_inputs_all, indices_to_remove, axis = 0)\n",
    "targets_equal_priors = np.delete(targets_all, indices_to_remove, axis = 0)"
   ]
  },
  {
   "cell_type": "markdown",
   "id": "356f28db",
   "metadata": {},
   "source": [
    "### Standardize the inputs"
   ]
  },
  {
   "cell_type": "code",
   "execution_count": 4,
   "id": "acb95c1d",
   "metadata": {},
   "outputs": [],
   "source": [
    "# \"preprocessing.scale()\" standarizes all indicated rows and columns (removes a mean and divides by std)\n",
    "# It is very useful for continous variables, and simple cathegorical ones.\n",
    "\n",
    "scaled_inputs = preprocessing.scale(unscaled_inputs_equal_priors)"
   ]
  },
  {
   "cell_type": "markdown",
   "id": "a4791681",
   "metadata": {},
   "source": [
    "### Shuffle the inputs"
   ]
  },
  {
   "cell_type": "code",
   "execution_count": 5,
   "id": "b257d054",
   "metadata": {},
   "outputs": [],
   "source": [
    "# Create a new variable:\n",
    "\n",
    "shuffled_indices = np.arange(scaled_inputs.shape[0])\n",
    "\n",
    "# Shuffle the indices:\n",
    "np.random.shuffle(shuffled_indices)\n",
    "\n",
    "# Create shuffled inputs:\n",
    "shuffled_inputs = scaled_inputs[shuffled_indices]\n",
    "\n",
    "# Create shuffled targets:\n",
    "shuffled_targets = targets_equal_priors[shuffled_indices]\n"
   ]
  },
  {
   "cell_type": "markdown",
   "id": "1b16d1ef",
   "metadata": {},
   "source": [
    "### Splitting into training, validation and test data"
   ]
  },
  {
   "cell_type": "code",
   "execution_count": 6,
   "id": "861ad192",
   "metadata": {},
   "outputs": [
    {
     "name": "stdout",
     "output_type": "stream",
     "text": [
      "1782.0 3579 0.4979044425817267\n",
      "226.0 447 0.5055928411633109\n",
      "229.0 448 0.5111607142857143\n"
     ]
    }
   ],
   "source": [
    "samples_count = shuffled_inputs.shape[0]\n",
    "\n",
    "\n",
    "# We use 80-10-10 split:\n",
    "\n",
    "train_samples_count = int(0.8*samples_count)\n",
    "validation_samples_count = int(0.1*samples_count)\n",
    "test_samples_count = samples_count - train_samples_count - validation_samples_count\n",
    "\n",
    "train_inputs = shuffled_inputs[:train_samples_count]\n",
    "train_targets = shuffled_targets[:train_samples_count]\n",
    "\n",
    "validation_inputs = shuffled_inputs[train_samples_count:train_samples_count + validation_samples_count]\n",
    "validation_targets = shuffled_targets[train_samples_count:train_samples_count + validation_samples_count]\n",
    "\n",
    "test_inputs = shuffled_inputs[train_samples_count + validation_samples_count:]\n",
    "test_targets = shuffled_targets[train_samples_count + validation_samples_count:]\n",
    "\n",
    "# Checking if all groups of data are balanced:\n",
    "\n",
    "print(np.sum(train_targets), train_samples_count, np.sum(train_targets)/train_samples_count)\n",
    "print(np.sum(validation_targets), validation_samples_count, np.sum(validation_targets)/validation_samples_count)\n",
    "print(np.sum(test_targets), test_samples_count, np.sum(test_targets)/test_samples_count)\n",
    "\n",
    "\n"
   ]
  },
  {
   "cell_type": "markdown",
   "id": "5e4ce09f",
   "metadata": {},
   "source": [
    "### Saving data in .npz"
   ]
  },
  {
   "cell_type": "code",
   "execution_count": 7,
   "id": "d6c41cef",
   "metadata": {},
   "outputs": [],
   "source": [
    "np.savez(\"Audiobooks_data_train\", inputs = train_inputs, targets = train_targets)\n",
    "np.savez(\"Audiobooks_data_validation\", inputs = validation_inputs, targets = validation_targets)\n",
    "np.savez(\"Audiobooks_data_test\", inputs = test_inputs, targets = test_targets)"
   ]
  },
  {
   "cell_type": "markdown",
   "id": "38ea9763",
   "metadata": {},
   "source": [
    "### The code for machine learning algorith is written in an extra file!"
   ]
  },
  {
   "cell_type": "code",
   "execution_count": 8,
   "id": "58e88f21",
   "metadata": {},
   "outputs": [],
   "source": [
    "# Go there!"
   ]
  },
  {
   "cell_type": "code",
   "execution_count": null,
   "id": "4f7aa075",
   "metadata": {},
   "outputs": [],
   "source": []
  }
 ],
 "metadata": {
  "kernelspec": {
   "display_name": "Python 3 (ipykernel)",
   "language": "python",
   "name": "python3"
  },
  "language_info": {
   "codemirror_mode": {
    "name": "ipython",
    "version": 3
   },
   "file_extension": ".py",
   "mimetype": "text/x-python",
   "name": "python",
   "nbconvert_exporter": "python",
   "pygments_lexer": "ipython3",
   "version": "3.9.13"
  }
 },
 "nbformat": 4,
 "nbformat_minor": 5
}
