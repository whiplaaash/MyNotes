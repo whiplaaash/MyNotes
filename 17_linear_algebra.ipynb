{
 "cells": [
  {
   "cell_type": "markdown",
   "id": "424627ee",
   "metadata": {},
   "source": [
    "# Lesson 17: Linear Algebra: scalars, vectors, matrices"
   ]
  },
  {
   "cell_type": "markdown",
   "id": "50ab61e6",
   "metadata": {},
   "source": [
    "## Import libraries"
   ]
  },
  {
   "cell_type": "code",
   "execution_count": 1,
   "id": "58ffb2d2",
   "metadata": {},
   "outputs": [],
   "source": [
    "import numpy as np"
   ]
  },
  {
   "cell_type": "markdown",
   "id": "6a21ae59",
   "metadata": {},
   "source": [
    "## Declare variables"
   ]
  },
  {
   "cell_type": "code",
   "execution_count": 2,
   "id": "0cbd3403",
   "metadata": {},
   "outputs": [
    {
     "data": {
      "text/plain": [
       "array([[ 1,  3,  7],\n",
       "       [-2,  7,  4]])"
      ]
     },
     "execution_count": 2,
     "metadata": {},
     "output_type": "execute_result"
    }
   ],
   "source": [
    "s = 5   # Declare a scalar.\n",
    "s\n",
    "\n",
    "v = np.array([2, 3, -5])  # Declare a vector.\n",
    "v\n",
    " \n",
    "m = np.array([[1,3,7], [-2,7,4]])  # Declare a matrix.\n",
    "m"
   ]
  },
  {
   "cell_type": "code",
   "execution_count": 3,
   "id": "236ec1d0",
   "metadata": {},
   "outputs": [
    {
     "data": {
      "text/plain": [
       "(2, 3)"
      ]
     },
     "execution_count": 3,
     "metadata": {},
     "output_type": "execute_result"
    }
   ],
   "source": [
    "# \"shape\" returns the dimension of the object.\n",
    "\n",
    "m.shape"
   ]
  },
  {
   "cell_type": "code",
   "execution_count": 4,
   "id": "b9607bdc",
   "metadata": {},
   "outputs": [
    {
     "data": {
      "text/plain": [
       "(3,)"
      ]
     },
     "execution_count": 4,
     "metadata": {},
     "output_type": "execute_result"
    }
   ],
   "source": [
    "v.shape"
   ]
  },
  {
   "cell_type": "code",
   "execution_count": 5,
   "id": "45bca4ba",
   "metadata": {},
   "outputs": [
    {
     "data": {
      "text/plain": [
       "array([[ 2,  3, -5]])"
      ]
     },
     "execution_count": 5,
     "metadata": {},
     "output_type": "execute_result"
    }
   ],
   "source": [
    "# \"reshape\" can change the row vecor into the column vector (and columns into rows).\n",
    "\n",
    "v.reshape(1,3)"
   ]
  },
  {
   "cell_type": "code",
   "execution_count": 6,
   "id": "2bd2dffe",
   "metadata": {},
   "outputs": [
    {
     "data": {
      "text/plain": [
       "array([ 2,  3, -5])"
      ]
     },
     "execution_count": 6,
     "metadata": {},
     "output_type": "execute_result"
    }
   ],
   "source": [
    "v.reshape(3,1)\n",
    "v"
   ]
  },
  {
   "cell_type": "markdown",
   "id": "1ba7051a",
   "metadata": {},
   "source": [
    "### Create a tensor"
   ]
  },
  {
   "cell_type": "code",
   "execution_count": 7,
   "id": "e3c5e07a",
   "metadata": {},
   "outputs": [
    {
     "data": {
      "text/plain": [
       "array([[[1, 2, 5],\n",
       "        [6, 5, 4]],\n",
       "\n",
       "       [[3, 2, 1],\n",
       "        [9, 8, 7]]])"
      ]
     },
     "execution_count": 7,
     "metadata": {},
     "output_type": "execute_result"
    }
   ],
   "source": [
    "m1 = np.array([[1,2,5], [6,5,4]])\n",
    "m2 = np.array([[3,2,1],[9,8,7]])\n",
    "\n",
    "t = np.array([m1,m2])\n",
    "t"
   ]
  },
  {
   "cell_type": "markdown",
   "id": "19ed988d",
   "metadata": {},
   "source": [
    "### Operations on matrices"
   ]
  },
  {
   "cell_type": "code",
   "execution_count": 19,
   "id": "b327876d",
   "metadata": {},
   "outputs": [
    {
     "data": {
      "text/plain": [
       "23"
      ]
     },
     "execution_count": 19,
     "metadata": {},
     "output_type": "execute_result"
    }
   ],
   "source": [
    "v1 = np.array([2,4,-3])\n",
    "v2 = np.array([5,4,1])\n",
    "\n",
    "result = np.dot(v1,v2)\n",
    "result"
   ]
  },
  {
   "cell_type": "code",
   "execution_count": 20,
   "id": "4909c74c",
   "metadata": {},
   "outputs": [
    {
     "data": {
      "text/plain": [
       "array([[-2,  0,  4],\n",
       "       [-3, -3, -3]])"
      ]
     },
     "execution_count": 20,
     "metadata": {},
     "output_type": "execute_result"
    }
   ],
   "source": [
    "# Subtracting matrices:\n",
    "m1 - m2"
   ]
  },
  {
   "cell_type": "code",
   "execution_count": 21,
   "id": "802e7906",
   "metadata": {},
   "outputs": [
    {
     "data": {
      "text/plain": [
       "array([[2, 3, 6],\n",
       "       [7, 6, 5]])"
      ]
     },
     "execution_count": 21,
     "metadata": {},
     "output_type": "execute_result"
    }
   ],
   "source": [
    "# Note that in programming we can add a scalar to a vector or to a matrix (but we cannot add matrices nor\n",
    "# vectors of different shapes)\n",
    "\n",
    "m1 + 1"
   ]
  },
  {
   "cell_type": "code",
   "execution_count": 22,
   "id": "ebeb6eec",
   "metadata": {},
   "outputs": [],
   "source": [
    "# Transposing of vector and matrices"
   ]
  },
  {
   "cell_type": "code",
   "execution_count": 23,
   "id": "e383ddd5",
   "metadata": {},
   "outputs": [
    {
     "data": {
      "text/plain": [
       "array([[1, 6],\n",
       "       [2, 5],\n",
       "       [5, 4]])"
      ]
     },
     "execution_count": 23,
     "metadata": {},
     "output_type": "execute_result"
    }
   ],
   "source": [
    "m1.T   # Transposing matrices"
   ]
  },
  {
   "cell_type": "code",
   "execution_count": 24,
   "id": "30b11853",
   "metadata": {},
   "outputs": [
    {
     "data": {
      "text/plain": [
       "array([ 2,  3, -5])"
      ]
     },
     "execution_count": 24,
     "metadata": {},
     "output_type": "execute_result"
    }
   ],
   "source": [
    "v.T  # For vectors it does not work."
   ]
  },
  {
   "cell_type": "code",
   "execution_count": 25,
   "id": "e53d50f9",
   "metadata": {},
   "outputs": [
    {
     "data": {
      "text/plain": [
       "array([[ 2],\n",
       "       [ 3],\n",
       "       [-5]])"
      ]
     },
     "execution_count": 25,
     "metadata": {},
     "output_type": "execute_result"
    }
   ],
   "source": [
    "# To transpose vectors we need to first reshape them (redefine their size).\n",
    "v_reshaped = v.reshape(3,1)\n",
    "v_reshaped"
   ]
  },
  {
   "cell_type": "code",
   "execution_count": 26,
   "id": "c274537f",
   "metadata": {},
   "outputs": [
    {
     "data": {
      "text/plain": [
       "array([[ 2,  3, -5]])"
      ]
     },
     "execution_count": 26,
     "metadata": {},
     "output_type": "execute_result"
    }
   ],
   "source": [
    "v_reshaped.T    # Now it works."
   ]
  },
  {
   "cell_type": "markdown",
   "id": "9bb36f0f",
   "metadata": {},
   "source": [
    "### Dot product"
   ]
  },
  {
   "cell_type": "code",
   "execution_count": 27,
   "id": "e7b42758",
   "metadata": {},
   "outputs": [
    {
     "data": {
      "text/plain": [
       "18"
      ]
     },
     "execution_count": 27,
     "metadata": {},
     "output_type": "execute_result"
    }
   ],
   "source": [
    "s1 = 9\n",
    "s2 = 2\n",
    "\n",
    "res1 = np.dot(s1,s2)\n",
    "res1"
   ]
  },
  {
   "cell_type": "code",
   "execution_count": 28,
   "id": "ea16e843",
   "metadata": {},
   "outputs": [
    {
     "data": {
      "text/plain": [
       "23"
      ]
     },
     "execution_count": 28,
     "metadata": {},
     "output_type": "execute_result"
    }
   ],
   "source": [
    "v1 = np.array([2,4,-3])\n",
    "v2 = np.array([5,4,1])\n",
    "\n",
    "res2 = np.dot(v1,v2)\n",
    "res2"
   ]
  },
  {
   "cell_type": "code",
   "execution_count": 30,
   "id": "5fdb56d5",
   "metadata": {},
   "outputs": [
    {
     "data": {
      "text/plain": [
       "array([[16, 11],\n",
       "       [29, 29]])"
      ]
     },
     "execution_count": 30,
     "metadata": {},
     "output_type": "execute_result"
    }
   ],
   "source": [
    "a1 = np.array([[2,1],[3,4]])\n",
    "a2 = np.array([[7,3],[2,5]])\n",
    "\n",
    "res3 = np.dot(a1,a2)\n",
    "res3"
   ]
  },
  {
   "cell_type": "code",
   "execution_count": null,
   "id": "e2549462",
   "metadata": {},
   "outputs": [],
   "source": []
  }
 ],
 "metadata": {
  "kernelspec": {
   "display_name": "Python 3 (ipykernel)",
   "language": "python",
   "name": "python3"
  },
  "language_info": {
   "codemirror_mode": {
    "name": "ipython",
    "version": 3
   },
   "file_extension": ".py",
   "mimetype": "text/x-python",
   "name": "python",
   "nbconvert_exporter": "python",
   "pygments_lexer": "ipython3",
   "version": "3.8.5"
  }
 },
 "nbformat": 4,
 "nbformat_minor": 5
}
