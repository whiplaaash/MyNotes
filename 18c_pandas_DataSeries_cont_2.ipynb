{
 "cells": [
  {
   "cell_type": "markdown",
   "id": "ac827919",
   "metadata": {},
   "source": [
    "# Lesson 18c: Data Series - continuation "
   ]
  },
  {
   "cell_type": "markdown",
   "id": "572c2797",
   "metadata": {},
   "source": [
    "## Import libraries"
   ]
  },
  {
   "cell_type": "code",
   "execution_count": 1,
   "id": "c3efac88",
   "metadata": {},
   "outputs": [],
   "source": [
    "import numpy as np\n",
    "import pandas as pd\n",
    "import matplotlib.pyplot as plt\n",
    "import math as math"
   ]
  },
  {
   "cell_type": "markdown",
   "id": "921bc360",
   "metadata": {},
   "source": [
    "## Load the data"
   ]
  },
  {
   "cell_type": "code",
   "execution_count": 7,
   "id": "86f3a835",
   "metadata": {},
   "outputs": [],
   "source": [
    "pd.read_csv(\"pokemon.csv\")\n",
    "\n",
    "# We use the parameter \"index_col\" to choose which column will be our index \n",
    "# (remember that this column must be also added to our series)\n",
    "\n",
    "ser_1 = pd.read_csv(\"pokemon.csv\", usecols = [\"Attack\", \"#\"], index_col = \"#\").squeeze()"
   ]
  },
  {
   "cell_type": "code",
   "execution_count": 9,
   "id": "25270580",
   "metadata": {},
   "outputs": [
    {
     "data": {
      "text/plain": [
       "#\n",
       "3     82\n",
       "3    100\n",
       "4     52\n",
       "5     64\n",
       "6     84\n",
       "Name: Attack, dtype: int64"
      ]
     },
     "execution_count": 9,
     "metadata": {},
     "output_type": "execute_result"
    }
   ],
   "source": [
    "ser_1[2:7]"
   ]
  },
  {
   "cell_type": "code",
   "execution_count": 12,
   "id": "3f3452b0",
   "metadata": {},
   "outputs": [
    {
     "data": {
      "text/plain": [
       "Name\n",
       "Bulbasaur                 49\n",
       "Ivysaur                   62\n",
       "Venusaur                  82\n",
       "VenusaurMega Venusaur    100\n",
       "Charmander                52\n",
       "Name: Attack, dtype: int64"
      ]
     },
     "execution_count": 12,
     "metadata": {},
     "output_type": "execute_result"
    }
   ],
   "source": [
    "ser_2 = pd.read_csv(\"pokemon.csv\", usecols = [\"Name\", \"Attack\"], index_col = \"Name\").squeeze()\n",
    "ser_2.head()"
   ]
  },
  {
   "cell_type": "code",
   "execution_count": 13,
   "id": "284bb9ba",
   "metadata": {},
   "outputs": [
    {
     "data": {
      "text/plain": [
       "800"
      ]
     },
     "execution_count": 13,
     "metadata": {},
     "output_type": "execute_result"
    }
   ],
   "source": [
    "ser_2.count()"
   ]
  },
  {
   "cell_type": "code",
   "execution_count": 19,
   "id": "2cc1e460",
   "metadata": {},
   "outputs": [
    {
     "data": {
      "text/plain": [
       "100    40\n",
       "65     39\n",
       "50     37\n",
       "80     37\n",
       "85     33\n",
       "       ..\n",
       "46      1\n",
       "190     1\n",
       "106     1\n",
       "132     1\n",
       "33      1\n",
       "Name: Attack, Length: 111, dtype: int64"
      ]
     },
     "execution_count": 19,
     "metadata": {},
     "output_type": "execute_result"
    }
   ],
   "source": [
    "ser_2.value_counts()"
   ]
  },
  {
   "cell_type": "code",
   "execution_count": 16,
   "id": "3c2763da",
   "metadata": {},
   "outputs": [
    {
     "data": {
      "text/plain": [
       "'Chansey'"
      ]
     },
     "execution_count": 16,
     "metadata": {},
     "output_type": "execute_result"
    }
   ],
   "source": [
    "ser_2.idxmin()  # Findig an index for which the value is minimal."
   ]
  },
  {
   "cell_type": "code",
   "execution_count": 21,
   "id": "0a0a3832",
   "metadata": {},
   "outputs": [
    {
     "data": {
      "text/plain": [
       "5"
      ]
     },
     "execution_count": 21,
     "metadata": {},
     "output_type": "execute_result"
    }
   ],
   "source": [
    "ser_2.loc[ser_2.idxmin()]  # Displaying the value for the index found before."
   ]
  },
  {
   "cell_type": "code",
   "execution_count": 20,
   "id": "23b8d7ca",
   "metadata": {},
   "outputs": [
    {
     "data": {
      "text/plain": [
       "'MewtwoMega Mewtwo X'"
      ]
     },
     "execution_count": 20,
     "metadata": {},
     "output_type": "execute_result"
    }
   ],
   "source": [
    "ser_2.idxmax()"
   ]
  },
  {
   "cell_type": "code",
   "execution_count": 22,
   "id": "34400459",
   "metadata": {},
   "outputs": [
    {
     "data": {
      "text/plain": [
       "190"
      ]
     },
     "execution_count": 22,
     "metadata": {},
     "output_type": "execute_result"
    }
   ],
   "source": [
    "ser_2.loc[ser_2.idxmax()]"
   ]
  },
  {
   "cell_type": "code",
   "execution_count": 23,
   "id": "d3a143c5",
   "metadata": {},
   "outputs": [
    {
     "data": {
      "text/plain": [
       "79.00125"
      ]
     },
     "execution_count": 23,
     "metadata": {},
     "output_type": "execute_result"
    }
   ],
   "source": [
    "ser_2.mean()"
   ]
  },
  {
   "cell_type": "code",
   "execution_count": 25,
   "id": "0a45b4e8",
   "metadata": {},
   "outputs": [
    {
     "data": {
      "text/plain": [
       "75.0"
      ]
     },
     "execution_count": 25,
     "metadata": {},
     "output_type": "execute_result"
    }
   ],
   "source": [
    "ser_2.median()"
   ]
  },
  {
   "cell_type": "code",
   "execution_count": 26,
   "id": "e13873c1",
   "metadata": {},
   "outputs": [
    {
     "data": {
      "text/plain": [
       "32.45736586949843"
      ]
     },
     "execution_count": 26,
     "metadata": {},
     "output_type": "execute_result"
    }
   ],
   "source": [
    "ser_2.std()"
   ]
  },
  {
   "cell_type": "markdown",
   "id": "2f8a4cc8",
   "metadata": {},
   "source": [
    "## Data modification"
   ]
  },
  {
   "cell_type": "code",
   "execution_count": 27,
   "id": "cdffa4b3",
   "metadata": {},
   "outputs": [
    {
     "data": {
      "text/plain": [
       "Name\n",
       "Bulbasaur                 49\n",
       "Ivysaur                   62\n",
       "Venusaur                  82\n",
       "VenusaurMega Venusaur    100\n",
       "Charmander                52\n",
       "Name: Attack, dtype: int64"
      ]
     },
     "execution_count": 27,
     "metadata": {},
     "output_type": "execute_result"
    }
   ],
   "source": [
    "ser_2.head()"
   ]
  },
  {
   "cell_type": "code",
   "execution_count": 29,
   "id": "0cbc4faa",
   "metadata": {},
   "outputs": [
    {
     "data": {
      "text/plain": [
       "Name\n",
       "Bulbasaur                 4900\n",
       "Ivysaur                   6200\n",
       "Venusaur                  8200\n",
       "VenusaurMega Venusaur    10000\n",
       "Charmander                5200\n",
       "                         ...  \n",
       "Diancie                  10000\n",
       "DiancieMega Diancie      16000\n",
       "HoopaHoopa Confined      11000\n",
       "HoopaHoopa Unbound       16000\n",
       "Volcanion                11000\n",
       "Name: Attack, Length: 800, dtype: int64"
      ]
     },
     "execution_count": 29,
     "metadata": {},
     "output_type": "execute_result"
    }
   ],
   "source": [
    "# Multiplying the values by some number:\n",
    "ser_2_mult = ser_2 * 100\n",
    "ser_2_mult"
   ]
  },
  {
   "cell_type": "code",
   "execution_count": 33,
   "id": "e6a0bfc7",
   "metadata": {},
   "outputs": [
    {
     "data": {
      "text/plain": [
       "Name\n",
       "Bulbasaur                Grass\n",
       "Ivysaur                  Grass\n",
       "Venusaur                 Grass\n",
       "VenusaurMega Venusaur    Grass\n",
       "Charmander                Fire\n",
       "Name: Type 1, dtype: object"
      ]
     },
     "execution_count": 33,
     "metadata": {},
     "output_type": "execute_result"
    }
   ],
   "source": [
    "# Working not with numbers but with cathegorical values:\n",
    "\n",
    "ser_3 = pd.read_csv(\"pokemon.csv\", usecols = [\"Type 1\", \"Name\"], index_col = \"Name\").squeeze()\n",
    "ser_3.head()"
   ]
  },
  {
   "cell_type": "code",
   "execution_count": 35,
   "id": "cedb4f5a",
   "metadata": {},
   "outputs": [
    {
     "data": {
      "text/plain": [
       "Name\n",
       "Bulbasaur                  GRASS\n",
       "Ivysaur                    GRASS\n",
       "Venusaur                   GRASS\n",
       "VenusaurMega Venusaur      GRASS\n",
       "Charmander                  FIRE\n",
       "                          ...   \n",
       "Diancie                     ROCK\n",
       "DiancieMega Diancie         ROCK\n",
       "HoopaHoopa Confined      PSYCHIC\n",
       "HoopaHoopa Unbound       PSYCHIC\n",
       "Volcanion                   FIRE\n",
       "Name: Type 1, Length: 800, dtype: object"
      ]
     },
     "execution_count": 35,
     "metadata": {},
     "output_type": "execute_result"
    }
   ],
   "source": [
    "# If we have words and not number we need to add \"str\" after the series. \n",
    "# Then we can modify the values, for example, we can change all letters into upper case:\n",
    "\n",
    "ser_3.str.upper()"
   ]
  },
  {
   "cell_type": "code",
   "execution_count": 39,
   "id": "24772141",
   "metadata": {},
   "outputs": [
    {
     "data": {
      "text/plain": [
       "Name\n",
       "Bulbasaur                  TYPE:GRASS\n",
       "Ivysaur                    TYPE:GRASS\n",
       "Venusaur                   TYPE:GRASS\n",
       "VenusaurMega Venusaur      TYPE:GRASS\n",
       "Charmander                  TYPE:FIRE\n",
       "                             ...     \n",
       "Diancie                     TYPE:ROCK\n",
       "DiancieMega Diancie         TYPE:ROCK\n",
       "HoopaHoopa Confined      TYPE:PSYCHIC\n",
       "HoopaHoopa Unbound       TYPE:PSYCHIC\n",
       "Volcanion                   TYPE:FIRE\n",
       "Name: Type 1, Length: 800, dtype: object"
      ]
     },
     "execution_count": 39,
     "metadata": {},
     "output_type": "execute_result"
    }
   ],
   "source": [
    "# If I want to add some word to all values:\n",
    "\n",
    "\"TYPE:\" + ser_3.str.upper()"
   ]
  },
  {
   "cell_type": "code",
   "execution_count": 42,
   "id": "04ad713a",
   "metadata": {},
   "outputs": [
    {
     "data": {
      "text/plain": [
       "Water       112\n",
       "Normal       98\n",
       "Grass        70\n",
       "Bug          69\n",
       "Psychic      57\n",
       "Fire         52\n",
       "Electric     44\n",
       "Rock         44\n",
       "Dragon       32\n",
       "Ground       32\n",
       "Ghost        32\n",
       "Dark         31\n",
       "Poison       28\n",
       "Steel        27\n",
       "Fighting     27\n",
       "Ice          24\n",
       "Fairy        17\n",
       "Flying        4\n",
       "Name: Type 1, dtype: int64"
      ]
     },
     "execution_count": 42,
     "metadata": {},
     "output_type": "execute_result"
    }
   ],
   "source": [
    "ser_3.value_counts()"
   ]
  },
  {
   "cell_type": "code",
   "execution_count": 51,
   "id": "b46f9f8d",
   "metadata": {},
   "outputs": [],
   "source": [
    "# If we want to change some values of the series into something different we can define a function:\n",
    "\n",
    "def Replace(old_word):\n",
    "    if old_word == \"Grass\" or old_word == \"Ground\":\n",
    "        return \"Nature\"\n",
    "    else:\n",
    "        return old_word"
   ]
  },
  {
   "cell_type": "code",
   "execution_count": 53,
   "id": "0c06e658",
   "metadata": {},
   "outputs": [
    {
     "data": {
      "text/plain": [
       "'Nature'"
      ]
     },
     "execution_count": 53,
     "metadata": {},
     "output_type": "execute_result"
    }
   ],
   "source": [
    "Replace(\"Ground\")"
   ]
  },
  {
   "cell_type": "code",
   "execution_count": 54,
   "id": "158ed8b0",
   "metadata": {},
   "outputs": [
    {
     "data": {
      "text/plain": [
       "Name\n",
       "Bulbasaur                 Nature\n",
       "Ivysaur                   Nature\n",
       "Venusaur                  Nature\n",
       "VenusaurMega Venusaur     Nature\n",
       "Charmander                  Fire\n",
       "                          ...   \n",
       "Diancie                     Rock\n",
       "DiancieMega Diancie         Rock\n",
       "HoopaHoopa Confined      Psychic\n",
       "HoopaHoopa Unbound       Psychic\n",
       "Volcanion                   Fire\n",
       "Name: Type 1, Length: 800, dtype: object"
      ]
     },
     "execution_count": 54,
     "metadata": {},
     "output_type": "execute_result"
    }
   ],
   "source": [
    "# If we want to use this new-defined function to all values of the series we have to the method apply():\n",
    "ser_3.apply(Replace)"
   ]
  },
  {
   "cell_type": "code",
   "execution_count": 56,
   "id": "90d7ac32",
   "metadata": {},
   "outputs": [
    {
     "data": {
      "text/plain": [
       "Name\n",
       "Bulbasaur                  GRASS\n",
       "Ivysaur                    GRASS\n",
       "Venusaur                   GRASS\n",
       "VenusaurMega Venusaur      GRASS\n",
       "Charmander                  FIRE\n",
       "                          ...   \n",
       "Diancie                     ROCK\n",
       "DiancieMega Diancie         ROCK\n",
       "HoopaHoopa Confined      PSYCHIC\n",
       "HoopaHoopa Unbound       PSYCHIC\n",
       "Volcanion                   FIRE\n",
       "Name: Type 1, Length: 800, dtype: object"
      ]
     },
     "execution_count": 56,
     "metadata": {},
     "output_type": "execute_result"
    }
   ],
   "source": [
    "# Now we want again change the letters of values into upper case. \n",
    "# We use \"lambda\" expression. Then we do not have to define a function outside the series,\n",
    "# but it works inside it with simplified structure:\n",
    "\n",
    "ser_3.apply(lambda word: word.upper())"
   ]
  },
  {
   "cell_type": "markdown",
   "id": "73254de6",
   "metadata": {},
   "source": [
    "## Map method"
   ]
  },
  {
   "cell_type": "code",
   "execution_count": 62,
   "id": "3e439400",
   "metadata": {},
   "outputs": [
    {
     "data": {
      "text/plain": [
       "Andy    3\n",
       "Bod     3\n",
       "Kate    4\n",
       "Dirk    1\n",
       "Emma    3\n",
       "Greg    2\n",
       "dtype: int64"
      ]
     },
     "execution_count": 62,
     "metadata": {},
     "output_type": "execute_result"
    }
   ],
   "source": [
    "# Map works as JOIN in SQL.\n",
    "\n",
    "# We need to define 2 series:\n",
    "\n",
    "data_1 = [3,3,4,1,3,2]\n",
    "index_1 = [\"Andy\", \"Bod\", \"Kate\", \"Dirk\", \"Emma\", \"Greg\"]\n",
    "\n",
    "team = pd.Series(data_1, index_1)\n",
    "team"
   ]
  },
  {
   "cell_type": "code",
   "execution_count": 60,
   "id": "fdd67c0b",
   "metadata": {},
   "outputs": [
    {
     "data": {
      "text/plain": [
       "1     C\n",
       "2     B\n",
       "3     A\n",
       "4    A+\n",
       "dtype: object"
      ]
     },
     "execution_count": 60,
     "metadata": {},
     "output_type": "execute_result"
    }
   ],
   "source": [
    "data_2 = [\"C\", \"B\", \"A\", \"A+\"]\n",
    "index_2 = [1, 2, 3, 4]\n",
    "\n",
    "notes = pd.Series(data_2, index_2)\n",
    "notes"
   ]
  },
  {
   "cell_type": "code",
   "execution_count": 64,
   "id": "abe794c9",
   "metadata": {},
   "outputs": [
    {
     "data": {
      "text/plain": [
       "Andy     A\n",
       "Bod      A\n",
       "Kate    A+\n",
       "Dirk     C\n",
       "Emma     A\n",
       "Greg     B\n",
       "dtype: object"
      ]
     },
     "execution_count": 64,
     "metadata": {},
     "output_type": "execute_result"
    }
   ],
   "source": [
    "team.map(notes)  # This combines two series by matching the same numbers.\n",
    "\n",
    "# Instead of the series \"notes\" I could define a dictionary and I would get the same result."
   ]
  },
  {
   "cell_type": "code",
   "execution_count": null,
   "id": "f5a6b7d4",
   "metadata": {},
   "outputs": [],
   "source": []
  }
 ],
 "metadata": {
  "kernelspec": {
   "display_name": "Python 3 (ipykernel)",
   "language": "python",
   "name": "python3"
  },
  "language_info": {
   "codemirror_mode": {
    "name": "ipython",
    "version": 3
   },
   "file_extension": ".py",
   "mimetype": "text/x-python",
   "name": "python",
   "nbconvert_exporter": "python",
   "pygments_lexer": "ipython3",
   "version": "3.8.5"
  }
 },
 "nbformat": 4,
 "nbformat_minor": 5
}
