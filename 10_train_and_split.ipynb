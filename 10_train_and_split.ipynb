{
 "cells": [
  {
   "cell_type": "markdown",
   "id": "7a2c96f7",
   "metadata": {},
   "source": [
    "# Lesson 10: Train and test split"
   ]
  },
  {
   "cell_type": "markdown",
   "id": "7b52b675",
   "metadata": {},
   "source": [
    "\n",
    "A remark on underfitting and overfitting: (this is where the train and test method is nedded)\n",
    "\n",
    "Underfitted model: low train accuracy and low test accuracy (data fitted so that the fit does not \n",
    "have good predictive power, does not capture any logic: i.e. a line fitted to data in the shape of polynomial).\n",
    "    \n",
    "Overfitted model: high train accuarcy and low test accuracy (data fitted so good that the model captures all \n",
    "noise and missed the point: i.e. the polynomial goes through all data).\n",
    "    \n",
    "Good model: high train accuracy and high test accuracy, the model captures the underlying logic and the fit \n",
    "goes close to all points."
   ]
  },
  {
   "cell_type": "markdown",
   "id": "2362c834",
   "metadata": {},
   "source": [
    "## Train - Test split"
   ]
  },
  {
   "cell_type": "markdown",
   "id": "da1786ff",
   "metadata": {},
   "source": [
    "## Import libraries "
   ]
  },
  {
   "cell_type": "code",
   "execution_count": 1,
   "id": "73a2f54c",
   "metadata": {},
   "outputs": [],
   "source": [
    "import numpy as np\n",
    "from sklearn.model_selection import train_test_split"
   ]
  },
  {
   "cell_type": "markdown",
   "id": "589d558c",
   "metadata": {},
   "source": [
    "## Generate some data that will be split "
   ]
  },
  {
   "cell_type": "code",
   "execution_count": 8,
   "id": "6ff4abb0",
   "metadata": {},
   "outputs": [
    {
     "data": {
      "text/plain": [
       "array([  1,   2,   3,   4,   5,   6,   7,   8,   9,  10,  11,  12,  13,\n",
       "        14,  15,  16,  17,  18,  19,  20,  21,  22,  23,  24,  25,  26,\n",
       "        27,  28,  29,  30,  31,  32,  33,  34,  35,  36,  37,  38,  39,\n",
       "        40,  41,  42,  43,  44,  45,  46,  47,  48,  49,  50,  51,  52,\n",
       "        53,  54,  55,  56,  57,  58,  59,  60,  61,  62,  63,  64,  65,\n",
       "        66,  67,  68,  69,  70,  71,  72,  73,  74,  75,  76,  77,  78,\n",
       "        79,  80,  81,  82,  83,  84,  85,  86,  87,  88,  89,  90,  91,\n",
       "        92,  93,  94,  95,  96,  97,  98,  99, 100])"
      ]
     },
     "execution_count": 8,
     "metadata": {},
     "output_type": "execute_result"
    }
   ],
   "source": [
    "a = np.arange(1,101)      # By using \"arange\" I generate an array with elements from the range 1 to 100. \n",
    "                          # Note that for lists I was using \"range\" instead of \"arange\".\n",
    "a"
   ]
  },
  {
   "cell_type": "code",
   "execution_count": 9,
   "id": "d2480301",
   "metadata": {},
   "outputs": [
    {
     "data": {
      "text/plain": [
       "array([501, 502, 503, 504, 505, 506, 507, 508, 509, 510, 511, 512, 513,\n",
       "       514, 515, 516, 517, 518, 519, 520, 521, 522, 523, 524, 525, 526,\n",
       "       527, 528, 529, 530, 531, 532, 533, 534, 535, 536, 537, 538, 539,\n",
       "       540, 541, 542, 543, 544, 545, 546, 547, 548, 549, 550, 551, 552,\n",
       "       553, 554, 555, 556, 557, 558, 559, 560, 561, 562, 563, 564, 565,\n",
       "       566, 567, 568, 569, 570, 571, 572, 573, 574, 575, 576, 577, 578,\n",
       "       579, 580, 581, 582, 583, 584, 585, 586, 587, 588, 589, 590, 591,\n",
       "       592, 593, 594, 595, 596, 597, 598, 599, 600])"
      ]
     },
     "execution_count": 9,
     "metadata": {},
     "output_type": "execute_result"
    }
   ],
   "source": [
    "b = np.arange(501,601)\n",
    "b"
   ]
  },
  {
   "cell_type": "markdown",
   "id": "bd77d99a",
   "metadata": {},
   "source": [
    "## Split the data"
   ]
  },
  {
   "cell_type": "code",
   "execution_count": 27,
   "id": "8ccd93cd",
   "metadata": {},
   "outputs": [
    {
     "data": {
      "text/plain": [
       "[array([ 69,  48,  70,  11,  95,  20,  56,  50,  82,  89,   5,  57,  39,\n",
       "         83,  85,  80,  41,  30,  98,  94,  38,  15,  81,  78,  10,  16,\n",
       "          1,  42,  49,  75,  58,  87,   4,  66,  74,  32,  45,   9,  35,\n",
       "         44,  61,  63,  92,  51,  67,  28,   6,  24,  99,  90,  55,  62,\n",
       "         84,  23,  60,  31,  33,   7,  26,  12,  91,  25,  18,  54, 100,\n",
       "         68,  86,   8,  71,  29,  64,  77,  47,  37,  53,  40,  52,  88,\n",
       "         22,   3]),\n",
       " array([36, 79, 17, 46, 43, 65, 27, 34, 13, 76, 14, 72, 21, 93, 97, 59, 96,\n",
       "         2, 19, 73])]"
      ]
     },
     "execution_count": 27,
     "metadata": {},
     "output_type": "execute_result"
    }
   ],
   "source": [
    "train_test_split(a, test_size=0.2) # This function divide the original matrix a into two: one for training \n",
    "                                   # and one for testing. By default, it chooses 75% elements for \n",
    "                                   # training and 25% for testing. By choosing the size we change this\n",
    "                                   # proportion. First 80 elements are taken for training and they are \n",
    "                                   # shuffled."
   ]
  },
  {
   "cell_type": "code",
   "execution_count": 31,
   "id": "16cffc68",
   "metadata": {},
   "outputs": [],
   "source": [
    "a_train, a_test = train_test_split(a, test_size=0.2, random_state=42)     \n",
    "\n",
    "# By using \"shuffle=False\" we can choose first 80 elements and then put them in ascending order. \n",
    "\n",
    "# If we want to have the data shuffled, we leave them as they are, this is by default.\n",
    "\n",
    "# For shuffled data we can use \"random_state=42\", which means that each time we execute the code, the data \n",
    "# are shuffled in the same way. If this option is not used, each click generates different shuffling."
   ]
  },
  {
   "cell_type": "code",
   "execution_count": 38,
   "id": "924dc19a",
   "metadata": {},
   "outputs": [],
   "source": [
    "a_train, a_test, b_train, b_test = train_test_split(a, b, test_size=0.2, random_state=42)  \n",
    "\n",
    "# The function train_test_split works for many matrices"
   ]
  },
  {
   "cell_type": "markdown",
   "id": "23335e8d",
   "metadata": {},
   "source": [
    "## Explore the result"
   ]
  },
  {
   "cell_type": "code",
   "execution_count": 39,
   "id": "4687e393",
   "metadata": {},
   "outputs": [
    {
     "data": {
      "text/plain": [
       "((80,), (20,))"
      ]
     },
     "execution_count": 39,
     "metadata": {},
     "output_type": "execute_result"
    }
   ],
   "source": [
    "a_train.shape, a_test.shape"
   ]
  },
  {
   "cell_type": "code",
   "execution_count": 40,
   "id": "8af6a450",
   "metadata": {},
   "outputs": [
    {
     "data": {
      "text/plain": [
       "array([ 56,  89,  27,  43,  70,  16,  41,  97,  10,  73,  12,  48,  86,\n",
       "        29,  94,   6,  67,  66,  36,  17,  50,  35,   8,  96,  28,  20,\n",
       "        82,  26,  63,  14,  25,   4,  18,  39,   9,  79,   7,  65,  37,\n",
       "        90,  57, 100,  55,  44,  51,  68,  47,  69,  62,  98,  80,  42,\n",
       "        59,  49,  99,  58,  76,  33,  95,  60,  64,  85,  38,  30,   2,\n",
       "        53,  22,   3,  24,  88,  92,  75,  87,  83,  21,  61,  72,  15,\n",
       "        93,  52])"
      ]
     },
     "execution_count": 40,
     "metadata": {},
     "output_type": "execute_result"
    }
   ],
   "source": [
    "a_train"
   ]
  },
  {
   "cell_type": "code",
   "execution_count": 41,
   "id": "e2750c87",
   "metadata": {},
   "outputs": [
    {
     "data": {
      "text/plain": [
       "((80,), (20,))"
      ]
     },
     "execution_count": 41,
     "metadata": {},
     "output_type": "execute_result"
    }
   ],
   "source": [
    "b_train.shape, b_test.shape"
   ]
  },
  {
   "cell_type": "code",
   "execution_count": 37,
   "id": "04135705",
   "metadata": {},
   "outputs": [
    {
     "data": {
      "text/plain": [
       "array([556, 589, 527, 543, 570, 516, 541, 597, 510, 573, 512, 548, 586,\n",
       "       529, 594, 506, 567, 566, 536, 517, 550, 535, 508, 596, 528, 520,\n",
       "       582, 526, 563, 514, 525, 504, 518, 539, 509, 579, 507, 565, 537,\n",
       "       590, 557, 600, 555, 544, 551, 568, 547, 569, 562, 598, 580, 542,\n",
       "       559, 549, 599, 558, 576, 533, 595, 560, 564, 585, 538, 530, 502,\n",
       "       553, 522, 503, 524, 588, 592, 575, 587, 583, 521, 561, 572, 515,\n",
       "       593, 552])"
      ]
     },
     "execution_count": 37,
     "metadata": {},
     "output_type": "execute_result"
    }
   ],
   "source": [
    "b_train"
   ]
  },
  {
   "cell_type": "markdown",
   "id": "8d7a8755",
   "metadata": {},
   "source": [
    "Note that both a and b matrices are shuffled in the same way if \"random_state=42\" is used. "
   ]
  },
  {
   "cell_type": "code",
   "execution_count": null,
   "id": "3f914a48",
   "metadata": {},
   "outputs": [],
   "source": []
  }
 ],
 "metadata": {
  "kernelspec": {
   "display_name": "Python 3 (ipykernel)",
   "language": "python",
   "name": "python3"
  },
  "language_info": {
   "codemirror_mode": {
    "name": "ipython",
    "version": 3
   },
   "file_extension": ".py",
   "mimetype": "text/x-python",
   "name": "python",
   "nbconvert_exporter": "python",
   "pygments_lexer": "ipython3",
   "version": "3.8.15"
  }
 },
 "nbformat": 4,
 "nbformat_minor": 5
}
