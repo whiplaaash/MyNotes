{
 "cells": [
  {
   "cell_type": "markdown",
   "id": "6be6e224",
   "metadata": {},
   "source": [
    "# Lesson 28: Python Advanced - Extending a code"
   ]
  },
  {
   "cell_type": "code",
   "execution_count": 1,
   "id": "6af9006f",
   "metadata": {},
   "outputs": [],
   "source": [
    "import numpy as np"
   ]
  },
  {
   "cell_type": "markdown",
   "id": "3b892c20",
   "metadata": {},
   "source": [
    "## Nesting a loop"
   ]
  },
  {
   "cell_type": "code",
   "execution_count": 4,
   "id": "c9bd5564",
   "metadata": {},
   "outputs": [
    {
     "name": "stdout",
     "output_type": "stream",
     "text": [
      "[0, 1, 2, 3, 4, 5] [0, 1, 2, 3, 4, 5]\n"
     ]
    }
   ],
   "source": [
    "listA = list(range(6))\n",
    "listB = list(range(6))\n",
    "\n",
    "print(listA, listB)"
   ]
  },
  {
   "cell_type": "code",
   "execution_count": 5,
   "id": "911a746b",
   "metadata": {},
   "outputs": [
    {
     "name": "stdout",
     "output_type": "stream",
     "text": [
      "[(0, 0), (0, 1), (0, 2), (0, 3), (0, 4), (0, 5), (1, 0), (1, 1), (1, 2), (1, 3), (1, 4), (1, 5), (2, 0), (2, 1), (2, 2), (2, 3), (2, 4), (2, 5), (3, 0), (3, 1), (3, 2), (3, 3), (3, 4), (3, 5), (4, 0), (4, 1), (4, 2), (4, 3), (4, 4), (4, 5), (5, 0), (5, 1), (5, 2), (5, 3), (5, 4), (5, 5)]\n"
     ]
    }
   ],
   "source": [
    "# Now I want to create a new list made of listA and listB, but it will consist of tuples by combining each\n",
    "# element of one list with each element of the second list, 36 tuples in total.\n",
    "\n",
    "product = []\n",
    "\n",
    "for a in listA:\n",
    "    for b in listB:\n",
    "        product.append((a,b))\n",
    "print(product)"
   ]
  },
  {
   "cell_type": "code",
   "execution_count": 7,
   "id": "bb2a9c34",
   "metadata": {},
   "outputs": [
    {
     "name": "stdout",
     "output_type": "stream",
     "text": [
      "[(0, 0), (0, 1), (0, 2), (0, 3), (0, 4), (0, 5), (1, 0), (1, 1), (1, 2), (1, 3), (1, 4), (1, 5), (2, 0), (2, 1), (2, 2), (2, 3), (2, 4), (2, 5), (3, 0), (3, 1), (3, 2), (3, 3), (3, 4), (3, 5), (4, 0), (4, 1), (4, 2), (4, 3), (4, 4), (4, 5), (5, 0), (5, 1), (5, 2), (5, 3), (5, 4), (5, 5)]\n"
     ]
    }
   ],
   "source": [
    "# But the same results can be obtained by one-line code:\n",
    "\n",
    "product = [(a,b) for a in listA for b in listB]\n",
    "print(product)"
   ]
  },
  {
   "cell_type": "code",
   "execution_count": 9,
   "id": "a87b3fc0",
   "metadata": {},
   "outputs": [
    {
     "name": "stdout",
     "output_type": "stream",
     "text": [
      "[(0, 1), (0, 3), (0, 5), (2, 1), (2, 3), (2, 5), (4, 1), (4, 3), (4, 5)]\n"
     ]
    }
   ],
   "source": [
    "# Now more complicated case: we take even numbers from listA, and uneven numbers from listB:\n",
    "\n",
    "product = [(a,b) for a in listA for b in listB if a % 2 == 0 and b % 2 == 1]\n",
    "print(product)"
   ]
  },
  {
   "cell_type": "code",
   "execution_count": 11,
   "id": "ca677e92",
   "metadata": {},
   "outputs": [
    {
     "name": "stdout",
     "output_type": "stream",
     "text": [
      "{0: 5, 2: 5, 4: 5}\n"
     ]
    }
   ],
   "source": [
    "# If we need to make a dictionary with the same numbers:\n",
    "\n",
    "product = {a:b for a in listA for b in listB if a % 2 == 0 and b % 2 == 1}\n",
    "print(product)"
   ]
  },
  {
   "cell_type": "code",
   "execution_count": 12,
   "id": "40a6d0c7",
   "metadata": {},
   "outputs": [],
   "source": [
    "# This result is different from the previous one but it is OK and it is specific for a dictionary:\n",
    "# there is only one value ascribed to one key and the other ones were overwritten."
   ]
  },
  {
   "cell_type": "markdown",
   "id": "dc7c3808",
   "metadata": {},
   "source": [
    "## Generators"
   ]
  },
  {
   "cell_type": "code",
   "execution_count": 22,
   "id": "1352544a",
   "metadata": {},
   "outputs": [
    {
     "name": "stdout",
     "output_type": "stream",
     "text": [
      "<generator object <genexpr> at 0x7fc04a9dc9e0>\n"
     ]
    }
   ],
   "source": [
    "# Generators are created in a similar way to a list:\n",
    "\n",
    "gen = ((a,b) for a in listA for b in listB if a % 2 == 0 and b % 2 == 1)\n",
    "print(gen)"
   ]
  },
  {
   "cell_type": "code",
   "execution_count": 23,
   "id": "4c157039",
   "metadata": {},
   "outputs": [
    {
     "name": "stdout",
     "output_type": "stream",
     "text": [
      "(0, 1)\n",
      "(0, 3)\n",
      "------------------------------\n",
      "(0, 5)\n",
      "(2, 1)\n",
      "(2, 3)\n",
      "(2, 5)\n",
      "(4, 1)\n",
      "(4, 3)\n",
      "(4, 5)\n"
     ]
    }
   ],
   "source": [
    "# But generators do not return explicit results, they only define a way how to make them.\n",
    "# They can be useful if we have big number of data to produce.\n",
    "\n",
    "# To get a single result we have to use next():\n",
    "\n",
    "print(next(gen))\n",
    "print(next(gen))\n",
    "\n",
    "# to generate next results we can use a loop:\n",
    "\n",
    "print(\"-\"*30)\n",
    "for x in gen:\n",
    "    print(x)"
   ]
  },
  {
   "cell_type": "code",
   "execution_count": 24,
   "id": "417be6ea",
   "metadata": {},
   "outputs": [
    {
     "name": "stdout",
     "output_type": "stream",
     "text": [
      "(0, 1)\n",
      "(0, 3)\n",
      "(0, 5)\n",
      "(2, 1)\n",
      "(2, 3)\n",
      "(2, 5)\n",
      "(4, 1)\n",
      "(4, 3)\n",
      "(4, 5)\n",
      "all values have been generated\n"
     ]
    }
   ],
   "source": [
    "# If I initiate the generator once again it will do nothing, because everything was generated before.\n",
    "\n",
    "# To use the generator again, I have to define it again:\n",
    "\n",
    "gen = ((a,b) for a in listA for b in listB if a % 2 == 0 and b % 2 == 1)\n",
    "\n",
    "# To be sure that all results are generated I can create a loop which will be working until\n",
    "# all values are generated:\n",
    "\n",
    "while True:\n",
    "    try:\n",
    "        print(next(gen))\n",
    "    except StopIteration:\n",
    "        print(\"all values have been generated\")\n",
    "        break\n",
    "        \n",
    "# The above block of code is a typical try-except code in Python to handle exceptions/errors."
   ]
  },
  {
   "cell_type": "markdown",
   "id": "abc007c4",
   "metadata": {},
   "source": [
    "## eval() function"
   ]
  },
  {
   "cell_type": "code",
   "execution_count": 25,
   "id": "6230d952",
   "metadata": {},
   "outputs": [
    {
     "name": "stdout",
     "output_type": "stream",
     "text": [
      "12\n"
     ]
    }
   ],
   "source": [
    "# This function takes a part of the code written before and it takes it as text. Then it executes the code.\n",
    "# It can be very helpful but also very harmful, if it takes some sensitive data.\n",
    "\n",
    "# Example:\n",
    "\n",
    "var_x = 10\n",
    "password = \"My secret password\"\n",
    "\n",
    "source = \"var_x + 2\"\n",
    "# If I give my password to source, then it can be displayed to a random user.\n",
    "\n",
    "result = eval(source)\n",
    "print(result)\n"
   ]
  },
  {
   "cell_type": "code",
   "execution_count": 29,
   "id": "e096df45",
   "metadata": {},
   "outputs": [
    {
     "ename": "NameError",
     "evalue": "name 'password' is not defined",
     "output_type": "error",
     "traceback": [
      "\u001b[0;31m---------------------------------------------------------------------------\u001b[0m",
      "\u001b[0;31mNameError\u001b[0m                                 Traceback (most recent call last)",
      "Input \u001b[0;32mIn [29]\u001b[0m, in \u001b[0;36m<cell line: 15>\u001b[0;34m()\u001b[0m\n\u001b[1;32m     12\u001b[0m \u001b[38;5;28mglobals\u001b[39m \u001b[38;5;241m=\u001b[39m \u001b[38;5;28mglobals\u001b[39m()\u001b[38;5;241m.\u001b[39mcopy()\n\u001b[1;32m     13\u001b[0m \u001b[38;5;28;01mdel\u001b[39;00m \u001b[38;5;28mglobals\u001b[39m[\u001b[38;5;124m\"\u001b[39m\u001b[38;5;124mpassword\u001b[39m\u001b[38;5;124m\"\u001b[39m]   \u001b[38;5;66;03m# \"password\" is removed from globals.\u001b[39;00m\n\u001b[0;32m---> 15\u001b[0m result \u001b[38;5;241m=\u001b[39m \u001b[38;5;28;43meval\u001b[39;49m\u001b[43m(\u001b[49m\u001b[43msource\u001b[49m\u001b[43m,\u001b[49m\u001b[43m \u001b[49m\u001b[38;5;28;43mglobals\u001b[39;49m\u001b[43m)\u001b[49m\n\u001b[1;32m     16\u001b[0m \u001b[38;5;28mprint\u001b[39m(result)\n",
      "File \u001b[0;32m<string>:1\u001b[0m, in \u001b[0;36m<module>\u001b[0;34m\u001b[0m\n",
      "\u001b[0;31mNameError\u001b[0m: name 'password' is not defined"
     ]
    }
   ],
   "source": [
    "# To avoid calling sensitive data I can use a trick by using a function globals().\n",
    "\n",
    "# \"globals()\" is in-built Python environment that contains all important functions as well as defined variables.\n",
    "\n",
    "# print(globals())\n",
    "\n",
    "var_x = 10\n",
    "password = \"My secret password\"\n",
    "\n",
    "source = \"password\"\n",
    "\n",
    "globals = globals().copy()\n",
    "del globals[\"password\"]   # \"password\" is removed from globals.\n",
    "\n",
    "result = eval(source, globals) # I can give here a newly-defined environment as a second parameter.\n",
    "print(result)\n",
    "\n",
    "# Error occured because \"password\" cannot be found.\n",
    "\n",
    "# Note also that eval() works for simple expressions, but not for more advanced like loops, conditions etc."
   ]
  },
  {
   "cell_type": "markdown",
   "id": "0ba77fd6",
   "metadata": {},
   "source": [
    "# exec() function"
   ]
  },
  {
   "cell_type": "code",
   "execution_count": 32,
   "id": "42642326",
   "metadata": {},
   "outputs": [
    {
     "name": "stdout",
     "output_type": "stream",
     "text": [
      "None\n",
      "4\n"
     ]
    }
   ],
   "source": [
    "# exec() works similarly to eval(), but it can work with more advanced expressions:\n",
    "\n",
    "var_x = 10\n",
    "\n",
    "source = \"var_x = 4\"\n",
    "\n",
    "result = exec(source)\n",
    "print(result)\n",
    "# The code was is executed but it returns nothing.\n",
    "\n",
    "print(var_x)\n",
    "# The variable was actually modified."
   ]
  },
  {
   "cell_type": "code",
   "execution_count": 34,
   "id": "81b50bca",
   "metadata": {},
   "outputs": [
    {
     "name": "stdout",
     "output_type": "stream",
     "text": [
      "\n",
      "-\n",
      "--\n",
      "---\n",
      "----\n",
      "-----\n",
      "------\n",
      "-------\n",
      "--------\n",
      "---------\n",
      "None\n",
      "10\n",
      "11\n"
     ]
    }
   ],
   "source": [
    "# Note that exec() is even more dangerous for safety than eval().\n",
    "\n",
    "# But exec() can work even with a few-line code:\n",
    "\n",
    "var_x = 10\n",
    "\n",
    "source = '''\n",
    "new_var = 1\n",
    "for i in range(10):\n",
    "    print(\"-\"*i)\n",
    "    new_var += 1\n",
    "'''\n",
    "\n",
    "result = exec(source)\n",
    "print(result)\n",
    "\n",
    "print(var_x)\n",
    "print(new_var)"
   ]
  },
  {
   "cell_type": "code",
   "execution_count": 35,
   "id": "89792037",
   "metadata": {},
   "outputs": [
    {
     "name": "stdout",
     "output_type": "stream",
     "text": [
      "Enter your expression:var_x*5\n",
      "50\n"
     ]
    }
   ],
   "source": [
    "# another example of eval():\n",
    "\n",
    "source = input(\"Enter your expression:\")\n",
    "print(eval(source))\n",
    "# I can give any expression which uses my defined variables."
   ]
  },
  {
   "cell_type": "markdown",
   "id": "189ffb0b",
   "metadata": {},
   "source": [
    "# compile() function"
   ]
  },
  {
   "cell_type": "code",
   "execution_count": 40,
   "id": "6c21773f",
   "metadata": {},
   "outputs": [
    {
     "name": "stdout",
     "output_type": "stream",
     "text": [
      "1\n"
     ]
    }
   ],
   "source": [
    "# Let us consider an example:\n",
    "\n",
    "source = \"reportLine += 1\"\n",
    "\n",
    "reportLine = 0\n",
    "exec(source)\n",
    "print(reportLine)\n",
    "\n",
    "# For this simple code we do not care about efficiency. But in case of big data we would need to wait\n",
    "# a lot of time for the result. So better to use compile() which will be stroring the result in binary mode."
   ]
  },
  {
   "cell_type": "code",
   "execution_count": 42,
   "id": "b4be003c",
   "metadata": {},
   "outputs": [
    {
     "name": "stdout",
     "output_type": "stream",
     "text": [
      "<code object <module> at 0x7fc082990be0, file \"internal variable source\", line 1>\n",
      "1\n"
     ]
    }
   ],
   "source": [
    "sourceCompiled = compile(source, \"internal variable source\", \"exec\")\n",
    "# 1st parameter is the piece of code for executin, 2nd is the file from which the code comes \n",
    "# (here some text, as the code is defined here), 3rd is the executing function: exec, eval or single, \n",
    "# depending on what was used for source.\n",
    "\n",
    "print(sourceCompiled)\n",
    "print(reportLine)"
   ]
  },
  {
   "cell_type": "code",
   "execution_count": 49,
   "id": "d716ccd6",
   "metadata": {},
   "outputs": [
    {
     "name": "stdout",
     "output_type": "stream",
     "text": [
      "0.10369110107421875 0.0027854442596435547\n",
      "37.226054951639135\n"
     ]
    }
   ],
   "source": [
    "# Now we will check that compiled code is faster than not compiled one:\n",
    "\n",
    "import time\n",
    "\n",
    "# not compiled code:\n",
    "\n",
    "source = \"reportLine += 1\"\n",
    "\n",
    "reportLine = 0\n",
    "\n",
    "start = time.time()  # reading current time\n",
    "\n",
    "for i in range(10000):\n",
    "    exec(source)\n",
    "    \n",
    "stop = time.time()\n",
    "\n",
    "time_not_compiled = stop - start\n",
    "\n",
    "# compiled code:\n",
    "\n",
    "start = time.time()\n",
    "\n",
    "sourceCompiled = compile(source, \"internal variable source\", \"exec\")\n",
    "for i in range(10000):\n",
    "    exec(sourceCompiled)\n",
    "\n",
    "stop = time.time()\n",
    "    \n",
    "time_compiled = stop-start\n",
    "\n",
    "print(time_not_compiled, time_compiled)\n",
    "\n",
    "print(time_not_compiled/time_compiled)\n",
    "\n",
    "# We see that compiled code is much faster:"
   ]
  },
  {
   "cell_type": "code",
   "execution_count": null,
   "id": "3b890ecd",
   "metadata": {},
   "outputs": [],
   "source": []
  },
  {
   "cell_type": "code",
   "execution_count": null,
   "id": "b4a5f5c0",
   "metadata": {},
   "outputs": [],
   "source": []
  }
 ],
 "metadata": {
  "kernelspec": {
   "display_name": "Python 3 (ipykernel)",
   "language": "python",
   "name": "python3"
  },
  "language_info": {
   "codemirror_mode": {
    "name": "ipython",
    "version": 3
   },
   "file_extension": ".py",
   "mimetype": "text/x-python",
   "name": "python",
   "nbconvert_exporter": "python",
   "pygments_lexer": "ipython3",
   "version": "3.8.5"
  }
 },
 "nbformat": 4,
 "nbformat_minor": 5
}
